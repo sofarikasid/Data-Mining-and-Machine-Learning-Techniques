{
 "cells": [
  {
   "cell_type": "markdown",
   "id": "dbf8a674",
   "metadata": {},
   "source": [
    "## Oluwafemi Shobowale \n",
    "## 3\n",
    "### Regression Analysis,Feature/Model Selection, K-means Clustering, Document Clustering "
   ]
  },
  {
   "cell_type": "code",
   "execution_count": 1,
   "id": "78a1b87b",
   "metadata": {},
   "outputs": [],
   "source": [
    "import numpy as np\n",
    "import pandas as pd\n",
    "import pylab as pl\n",
    "import matplotlib.pyplot as plt\n",
    "%matplotlib inline"
   ]
  },
  {
   "cell_type": "code",
   "execution_count": 2,
   "id": "e04e6e89",
   "metadata": {},
   "outputs": [],
   "source": [
    "#load data \n",
    "df= pd.read_csv('communities.csv',na_values=['?'])"
   ]
  },
  {
   "cell_type": "code",
   "execution_count": 3,
   "id": "a6ef591a",
   "metadata": {},
   "outputs": [
    {
     "data": {
      "text/html": [
       "<div>\n",
       "<style scoped>\n",
       "    .dataframe tbody tr th:only-of-type {\n",
       "        vertical-align: middle;\n",
       "    }\n",
       "\n",
       "    .dataframe tbody tr th {\n",
       "        vertical-align: top;\n",
       "    }\n",
       "\n",
       "    .dataframe thead th {\n",
       "        text-align: right;\n",
       "    }\n",
       "</style>\n",
       "<table border=\"1\" class=\"dataframe\">\n",
       "  <thead>\n",
       "    <tr style=\"text-align: right;\">\n",
       "      <th></th>\n",
       "      <th>state</th>\n",
       "      <th>communityname</th>\n",
       "      <th>population</th>\n",
       "      <th>householdsize</th>\n",
       "      <th>racepctblack</th>\n",
       "      <th>racePctWhite</th>\n",
       "      <th>racePctAsian</th>\n",
       "      <th>racePctHisp</th>\n",
       "      <th>agePct12t21</th>\n",
       "      <th>agePct12t29</th>\n",
       "      <th>...</th>\n",
       "      <th>NumStreet</th>\n",
       "      <th>PctForeignBorn</th>\n",
       "      <th>PctBornSameState</th>\n",
       "      <th>PctSameHouse85</th>\n",
       "      <th>PctSameCity85</th>\n",
       "      <th>PctSameState85</th>\n",
       "      <th>LandArea</th>\n",
       "      <th>PopDens</th>\n",
       "      <th>PctUsePubTrans</th>\n",
       "      <th>ViolentCrimesPerPop</th>\n",
       "    </tr>\n",
       "  </thead>\n",
       "  <tbody>\n",
       "    <tr>\n",
       "      <th>0</th>\n",
       "      <td>8</td>\n",
       "      <td>Lakewoodcity</td>\n",
       "      <td>0.19</td>\n",
       "      <td>0.33</td>\n",
       "      <td>0.02</td>\n",
       "      <td>0.90</td>\n",
       "      <td>0.12</td>\n",
       "      <td>0.17</td>\n",
       "      <td>0.34</td>\n",
       "      <td>0.47</td>\n",
       "      <td>...</td>\n",
       "      <td>0.0</td>\n",
       "      <td>0.12</td>\n",
       "      <td>0.42</td>\n",
       "      <td>0.50</td>\n",
       "      <td>0.51</td>\n",
       "      <td>0.64</td>\n",
       "      <td>0.12</td>\n",
       "      <td>0.26</td>\n",
       "      <td>0.20</td>\n",
       "      <td>0.20</td>\n",
       "    </tr>\n",
       "    <tr>\n",
       "      <th>1</th>\n",
       "      <td>53</td>\n",
       "      <td>Tukwilacity</td>\n",
       "      <td>0.00</td>\n",
       "      <td>0.16</td>\n",
       "      <td>0.12</td>\n",
       "      <td>0.74</td>\n",
       "      <td>0.45</td>\n",
       "      <td>0.07</td>\n",
       "      <td>0.26</td>\n",
       "      <td>0.59</td>\n",
       "      <td>...</td>\n",
       "      <td>0.0</td>\n",
       "      <td>0.21</td>\n",
       "      <td>0.50</td>\n",
       "      <td>0.34</td>\n",
       "      <td>0.60</td>\n",
       "      <td>0.52</td>\n",
       "      <td>0.02</td>\n",
       "      <td>0.12</td>\n",
       "      <td>0.45</td>\n",
       "      <td>0.67</td>\n",
       "    </tr>\n",
       "    <tr>\n",
       "      <th>2</th>\n",
       "      <td>24</td>\n",
       "      <td>Aberdeentown</td>\n",
       "      <td>0.00</td>\n",
       "      <td>0.42</td>\n",
       "      <td>0.49</td>\n",
       "      <td>0.56</td>\n",
       "      <td>0.17</td>\n",
       "      <td>0.04</td>\n",
       "      <td>0.39</td>\n",
       "      <td>0.47</td>\n",
       "      <td>...</td>\n",
       "      <td>0.0</td>\n",
       "      <td>0.14</td>\n",
       "      <td>0.49</td>\n",
       "      <td>0.54</td>\n",
       "      <td>0.67</td>\n",
       "      <td>0.56</td>\n",
       "      <td>0.01</td>\n",
       "      <td>0.21</td>\n",
       "      <td>0.02</td>\n",
       "      <td>0.43</td>\n",
       "    </tr>\n",
       "    <tr>\n",
       "      <th>3</th>\n",
       "      <td>34</td>\n",
       "      <td>Willingborotownship</td>\n",
       "      <td>0.04</td>\n",
       "      <td>0.77</td>\n",
       "      <td>1.00</td>\n",
       "      <td>0.08</td>\n",
       "      <td>0.12</td>\n",
       "      <td>0.10</td>\n",
       "      <td>0.51</td>\n",
       "      <td>0.50</td>\n",
       "      <td>...</td>\n",
       "      <td>0.0</td>\n",
       "      <td>0.19</td>\n",
       "      <td>0.30</td>\n",
       "      <td>0.73</td>\n",
       "      <td>0.64</td>\n",
       "      <td>0.65</td>\n",
       "      <td>0.02</td>\n",
       "      <td>0.39</td>\n",
       "      <td>0.28</td>\n",
       "      <td>0.12</td>\n",
       "    </tr>\n",
       "    <tr>\n",
       "      <th>4</th>\n",
       "      <td>42</td>\n",
       "      <td>Bethlehemtownship</td>\n",
       "      <td>0.01</td>\n",
       "      <td>0.55</td>\n",
       "      <td>0.02</td>\n",
       "      <td>0.95</td>\n",
       "      <td>0.09</td>\n",
       "      <td>0.05</td>\n",
       "      <td>0.38</td>\n",
       "      <td>0.38</td>\n",
       "      <td>...</td>\n",
       "      <td>0.0</td>\n",
       "      <td>0.11</td>\n",
       "      <td>0.72</td>\n",
       "      <td>0.64</td>\n",
       "      <td>0.61</td>\n",
       "      <td>0.53</td>\n",
       "      <td>0.04</td>\n",
       "      <td>0.09</td>\n",
       "      <td>0.02</td>\n",
       "      <td>0.03</td>\n",
       "    </tr>\n",
       "  </tbody>\n",
       "</table>\n",
       "<p>5 rows × 100 columns</p>\n",
       "</div>"
      ],
      "text/plain": [
       "   state        communityname  population  householdsize  racepctblack  \\\n",
       "0      8         Lakewoodcity        0.19           0.33          0.02   \n",
       "1     53          Tukwilacity        0.00           0.16          0.12   \n",
       "2     24         Aberdeentown        0.00           0.42          0.49   \n",
       "3     34  Willingborotownship        0.04           0.77          1.00   \n",
       "4     42    Bethlehemtownship        0.01           0.55          0.02   \n",
       "\n",
       "   racePctWhite  racePctAsian  racePctHisp  agePct12t21  agePct12t29  ...  \\\n",
       "0          0.90          0.12         0.17         0.34         0.47  ...   \n",
       "1          0.74          0.45         0.07         0.26         0.59  ...   \n",
       "2          0.56          0.17         0.04         0.39         0.47  ...   \n",
       "3          0.08          0.12         0.10         0.51         0.50  ...   \n",
       "4          0.95          0.09         0.05         0.38         0.38  ...   \n",
       "\n",
       "   NumStreet  PctForeignBorn  PctBornSameState  PctSameHouse85  PctSameCity85  \\\n",
       "0        0.0            0.12              0.42            0.50           0.51   \n",
       "1        0.0            0.21              0.50            0.34           0.60   \n",
       "2        0.0            0.14              0.49            0.54           0.67   \n",
       "3        0.0            0.19              0.30            0.73           0.64   \n",
       "4        0.0            0.11              0.72            0.64           0.61   \n",
       "\n",
       "   PctSameState85  LandArea  PopDens  PctUsePubTrans  ViolentCrimesPerPop  \n",
       "0            0.64      0.12     0.26            0.20                 0.20  \n",
       "1            0.52      0.02     0.12            0.45                 0.67  \n",
       "2            0.56      0.01     0.21            0.02                 0.43  \n",
       "3            0.65      0.02     0.39            0.28                 0.12  \n",
       "4            0.53      0.04     0.09            0.02                 0.03  \n",
       "\n",
       "[5 rows x 100 columns]"
      ]
     },
     "execution_count": 3,
     "metadata": {},
     "output_type": "execute_result"
    }
   ],
   "source": [
    "df.head()"
   ]
  },
  {
   "cell_type": "code",
   "execution_count": 4,
   "id": "7f68828c",
   "metadata": {},
   "outputs": [
    {
     "data": {
      "text/plain": [
       "OtherPerCap    True\n",
       "dtype: bool"
      ]
     },
     "execution_count": 4,
     "metadata": {},
     "output_type": "execute_result"
    }
   ],
   "source": [
    "######### GIVES WHICH COLOUMN HAS MISSING VALUES\n",
    "df.isna().any()[lambda x: x] "
   ]
  },
  {
   "cell_type": "code",
   "execution_count": 5,
   "id": "4a07ea32",
   "metadata": {},
   "outputs": [],
   "source": [
    "########REPLACE MISSING VALUES WITH MEAN \n",
    "OtherPerCap_mean = df.OtherPerCap.mean()\n",
    "OtherPerCap_mean\n",
    "df.OtherPerCap.fillna(OtherPerCap_mean,axis=0,inplace=True)"
   ]
  },
  {
   "cell_type": "code",
   "execution_count": 6,
   "id": "bca5a6ce",
   "metadata": {},
   "outputs": [
    {
     "data": {
      "text/html": [
       "<div>\n",
       "<style scoped>\n",
       "    .dataframe tbody tr th:only-of-type {\n",
       "        vertical-align: middle;\n",
       "    }\n",
       "\n",
       "    .dataframe tbody tr th {\n",
       "        vertical-align: top;\n",
       "    }\n",
       "\n",
       "    .dataframe thead th {\n",
       "        text-align: right;\n",
       "    }\n",
       "</style>\n",
       "<table border=\"1\" class=\"dataframe\">\n",
       "  <thead>\n",
       "    <tr style=\"text-align: right;\">\n",
       "      <th></th>\n",
       "      <th>count</th>\n",
       "      <th>unique</th>\n",
       "      <th>top</th>\n",
       "      <th>freq</th>\n",
       "      <th>mean</th>\n",
       "      <th>std</th>\n",
       "      <th>min</th>\n",
       "      <th>25%</th>\n",
       "      <th>50%</th>\n",
       "      <th>75%</th>\n",
       "      <th>max</th>\n",
       "    </tr>\n",
       "  </thead>\n",
       "  <tbody>\n",
       "    <tr>\n",
       "      <th>state</th>\n",
       "      <td>1994.0</td>\n",
       "      <td>NaN</td>\n",
       "      <td>NaN</td>\n",
       "      <td>NaN</td>\n",
       "      <td>28.683551</td>\n",
       "      <td>16.397553</td>\n",
       "      <td>1.0</td>\n",
       "      <td>12.0</td>\n",
       "      <td>34.0</td>\n",
       "      <td>42.0</td>\n",
       "      <td>56.0</td>\n",
       "    </tr>\n",
       "    <tr>\n",
       "      <th>communityname</th>\n",
       "      <td>1994</td>\n",
       "      <td>1828</td>\n",
       "      <td>Jacksonvillecity</td>\n",
       "      <td>5</td>\n",
       "      <td>NaN</td>\n",
       "      <td>NaN</td>\n",
       "      <td>NaN</td>\n",
       "      <td>NaN</td>\n",
       "      <td>NaN</td>\n",
       "      <td>NaN</td>\n",
       "      <td>NaN</td>\n",
       "    </tr>\n",
       "    <tr>\n",
       "      <th>population</th>\n",
       "      <td>1994.0</td>\n",
       "      <td>NaN</td>\n",
       "      <td>NaN</td>\n",
       "      <td>NaN</td>\n",
       "      <td>0.057593</td>\n",
       "      <td>0.126906</td>\n",
       "      <td>0.0</td>\n",
       "      <td>0.01</td>\n",
       "      <td>0.02</td>\n",
       "      <td>0.05</td>\n",
       "      <td>1.0</td>\n",
       "    </tr>\n",
       "    <tr>\n",
       "      <th>householdsize</th>\n",
       "      <td>1994.0</td>\n",
       "      <td>NaN</td>\n",
       "      <td>NaN</td>\n",
       "      <td>NaN</td>\n",
       "      <td>0.463395</td>\n",
       "      <td>0.163717</td>\n",
       "      <td>0.0</td>\n",
       "      <td>0.35</td>\n",
       "      <td>0.44</td>\n",
       "      <td>0.54</td>\n",
       "      <td>1.0</td>\n",
       "    </tr>\n",
       "    <tr>\n",
       "      <th>racepctblack</th>\n",
       "      <td>1994.0</td>\n",
       "      <td>NaN</td>\n",
       "      <td>NaN</td>\n",
       "      <td>NaN</td>\n",
       "      <td>0.179629</td>\n",
       "      <td>0.253442</td>\n",
       "      <td>0.0</td>\n",
       "      <td>0.02</td>\n",
       "      <td>0.06</td>\n",
       "      <td>0.23</td>\n",
       "      <td>1.0</td>\n",
       "    </tr>\n",
       "    <tr>\n",
       "      <th>...</th>\n",
       "      <td>...</td>\n",
       "      <td>...</td>\n",
       "      <td>...</td>\n",
       "      <td>...</td>\n",
       "      <td>...</td>\n",
       "      <td>...</td>\n",
       "      <td>...</td>\n",
       "      <td>...</td>\n",
       "      <td>...</td>\n",
       "      <td>...</td>\n",
       "      <td>...</td>\n",
       "    </tr>\n",
       "    <tr>\n",
       "      <th>PctSameState85</th>\n",
       "      <td>1994.0</td>\n",
       "      <td>NaN</td>\n",
       "      <td>NaN</td>\n",
       "      <td>NaN</td>\n",
       "      <td>0.65153</td>\n",
       "      <td>0.198221</td>\n",
       "      <td>0.0</td>\n",
       "      <td>0.56</td>\n",
       "      <td>0.7</td>\n",
       "      <td>0.79</td>\n",
       "      <td>1.0</td>\n",
       "    </tr>\n",
       "    <tr>\n",
       "      <th>LandArea</th>\n",
       "      <td>1994.0</td>\n",
       "      <td>NaN</td>\n",
       "      <td>NaN</td>\n",
       "      <td>NaN</td>\n",
       "      <td>0.065231</td>\n",
       "      <td>0.109459</td>\n",
       "      <td>0.0</td>\n",
       "      <td>0.02</td>\n",
       "      <td>0.04</td>\n",
       "      <td>0.07</td>\n",
       "      <td>1.0</td>\n",
       "    </tr>\n",
       "    <tr>\n",
       "      <th>PopDens</th>\n",
       "      <td>1994.0</td>\n",
       "      <td>NaN</td>\n",
       "      <td>NaN</td>\n",
       "      <td>NaN</td>\n",
       "      <td>0.232854</td>\n",
       "      <td>0.203092</td>\n",
       "      <td>0.0</td>\n",
       "      <td>0.1</td>\n",
       "      <td>0.17</td>\n",
       "      <td>0.28</td>\n",
       "      <td>1.0</td>\n",
       "    </tr>\n",
       "    <tr>\n",
       "      <th>PctUsePubTrans</th>\n",
       "      <td>1994.0</td>\n",
       "      <td>NaN</td>\n",
       "      <td>NaN</td>\n",
       "      <td>NaN</td>\n",
       "      <td>0.161685</td>\n",
       "      <td>0.229055</td>\n",
       "      <td>0.0</td>\n",
       "      <td>0.02</td>\n",
       "      <td>0.07</td>\n",
       "      <td>0.19</td>\n",
       "      <td>1.0</td>\n",
       "    </tr>\n",
       "    <tr>\n",
       "      <th>ViolentCrimesPerPop</th>\n",
       "      <td>1994.0</td>\n",
       "      <td>NaN</td>\n",
       "      <td>NaN</td>\n",
       "      <td>NaN</td>\n",
       "      <td>0.237979</td>\n",
       "      <td>0.232985</td>\n",
       "      <td>0.0</td>\n",
       "      <td>0.07</td>\n",
       "      <td>0.15</td>\n",
       "      <td>0.33</td>\n",
       "      <td>1.0</td>\n",
       "    </tr>\n",
       "  </tbody>\n",
       "</table>\n",
       "<p>100 rows × 11 columns</p>\n",
       "</div>"
      ],
      "text/plain": [
       "                      count unique               top freq       mean  \\\n",
       "state                1994.0    NaN               NaN  NaN  28.683551   \n",
       "communityname          1994   1828  Jacksonvillecity    5        NaN   \n",
       "population           1994.0    NaN               NaN  NaN   0.057593   \n",
       "householdsize        1994.0    NaN               NaN  NaN   0.463395   \n",
       "racepctblack         1994.0    NaN               NaN  NaN   0.179629   \n",
       "...                     ...    ...               ...  ...        ...   \n",
       "PctSameState85       1994.0    NaN               NaN  NaN    0.65153   \n",
       "LandArea             1994.0    NaN               NaN  NaN   0.065231   \n",
       "PopDens              1994.0    NaN               NaN  NaN   0.232854   \n",
       "PctUsePubTrans       1994.0    NaN               NaN  NaN   0.161685   \n",
       "ViolentCrimesPerPop  1994.0    NaN               NaN  NaN   0.237979   \n",
       "\n",
       "                           std  min   25%   50%   75%   max  \n",
       "state                16.397553  1.0  12.0  34.0  42.0  56.0  \n",
       "communityname              NaN  NaN   NaN   NaN   NaN   NaN  \n",
       "population            0.126906  0.0  0.01  0.02  0.05   1.0  \n",
       "householdsize         0.163717  0.0  0.35  0.44  0.54   1.0  \n",
       "racepctblack          0.253442  0.0  0.02  0.06  0.23   1.0  \n",
       "...                        ...  ...   ...   ...   ...   ...  \n",
       "PctSameState85        0.198221  0.0  0.56   0.7  0.79   1.0  \n",
       "LandArea              0.109459  0.0  0.02  0.04  0.07   1.0  \n",
       "PopDens               0.203092  0.0   0.1  0.17  0.28   1.0  \n",
       "PctUsePubTrans        0.229055  0.0  0.02  0.07  0.19   1.0  \n",
       "ViolentCrimesPerPop   0.232985  0.0  0.07  0.15  0.33   1.0  \n",
       "\n",
       "[100 rows x 11 columns]"
      ]
     },
     "execution_count": 6,
     "metadata": {},
     "output_type": "execute_result"
    }
   ],
   "source": [
    "df.describe(include='all').T"
   ]
  },
  {
   "cell_type": "code",
   "execution_count": 7,
   "id": "147ead99",
   "metadata": {},
   "outputs": [],
   "source": [
    "target= df[\"ViolentCrimesPerPop\"]"
   ]
  },
  {
   "cell_type": "code",
   "execution_count": 8,
   "id": "70410cfd",
   "metadata": {},
   "outputs": [],
   "source": [
    "df=df.drop(columns=['state','communityname','ViolentCrimesPerPop'])"
   ]
  },
  {
   "cell_type": "code",
   "execution_count": 9,
   "id": "e9b74596",
   "metadata": {},
   "outputs": [],
   "source": [
    "features= df.columns.tolist()"
   ]
  },
  {
   "cell_type": "code",
   "execution_count": null,
   "id": "ce961fdf",
   "metadata": {},
   "outputs": [],
   "source": []
  },
  {
   "cell_type": "code",
   "execution_count": 10,
   "id": "178920fa",
   "metadata": {},
   "outputs": [],
   "source": [
    "#spliting model \n",
    "from sklearn.model_selection import train_test_split\n",
    "X_train, X_test, y_train, y_test = train_test_split(df, target, test_size=0.20,  random_state=33)"
   ]
  },
  {
   "cell_type": "code",
   "execution_count": 11,
   "id": "db915190",
   "metadata": {},
   "outputs": [],
   "source": [
    "from sklearn.linear_model import LinearRegression"
   ]
  },
  {
   "cell_type": "code",
   "execution_count": 12,
   "id": "64dc7eda",
   "metadata": {},
   "outputs": [
    {
     "data": {
      "text/plain": [
       "LinearRegression()"
      ]
     },
     "execution_count": 12,
     "metadata": {},
     "output_type": "execute_result"
    }
   ],
   "source": [
    "# Create linear regression object - here we'll use the default parameters\n",
    "linreg = LinearRegression()\n",
    "\n",
    "# Train the model using the training set\n",
    "linreg.fit(X_train,y_train)"
   ]
  },
  {
   "cell_type": "markdown",
   "id": "7e5270db",
   "metadata": {},
   "source": [
    "#### RSME ON TRIAING DATA "
   ]
  },
  {
   "cell_type": "code",
   "execution_count": 13,
   "id": "d096432c",
   "metadata": {},
   "outputs": [],
   "source": [
    "# First, let's compute errors on all training instances\n",
    "\n",
    "p_train = linreg.predict(X_train) # p_train is the array of predicted values"
   ]
  },
  {
   "cell_type": "code",
   "execution_count": 14,
   "id": "d9fd1029",
   "metadata": {},
   "outputs": [
    {
     "name": "stdout",
     "output_type": "stream",
     "text": [
      "RMSE on Train Data:  0.1261959313342669\n"
     ]
    }
   ],
   "source": [
    "from sklearn.metrics import mean_squared_error, mean_absolute_error\n",
    "\n",
    "rmse_train = np.sqrt(mean_squared_error(p_train, y_train))\n",
    "print(\"RMSE on Train Data: \", rmse_train)"
   ]
  },
  {
   "cell_type": "code",
   "execution_count": 15,
   "id": "a267fe99",
   "metadata": {},
   "outputs": [
    {
     "name": "stderr",
     "output_type": "stream",
     "text": [
      "C:\\Users\\soboa\\anaconda3\\lib\\site-packages\\seaborn\\_decorators.py:36: FutureWarning: Pass the following variables as keyword args: x, y. From version 0.12, the only valid positional argument will be `data`, and passing other arguments without an explicit keyword will result in an error or misinterpretation.\n",
      "  warnings.warn(\n",
      "C:\\Users\\soboa\\anaconda3\\lib\\site-packages\\seaborn\\_decorators.py:36: FutureWarning: Pass the following variables as keyword args: x, y. From version 0.12, the only valid positional argument will be `data`, and passing other arguments without an explicit keyword will result in an error or misinterpretation.\n",
      "  warnings.warn(\n"
     ]
    },
    {
     "data": {
      "text/plain": [
       "(Text(0, 0.5, 'True'), Text(0.5, 0, 'Predicted '))"
      ]
     },
     "execution_count": 15,
     "metadata": {},
     "output_type": "execute_result"
    },
    {
     "data": {
      "image/png": "[encoded data removed]",
      "text/plain": [
       "<Figure size 432x288 with 1 Axes>"
      ]
     },
     "metadata": {
      "needs_background": "light"
     },
     "output_type": "display_data"
    }
   ],
   "source": [
    "import seaborn as sns\n",
    "%matplotlib inline\n",
    "figsize=(10,10)\n",
    "sns.scatterplot(p_train,y_train)\n",
    "sns.lineplot(p_train,y_train)\n",
    "plt.ylabel(\"True\"), plt.xlabel(\"Predicted \")"
   ]
  },
  {
   "cell_type": "markdown",
   "id": "5c9b044d",
   "metadata": {},
   "source": [
    "#### Regression Coefficients"
   ]
  },
  {
   "cell_type": "code",
   "execution_count": 16,
   "id": "febec145",
   "metadata": {},
   "outputs": [
    {
     "name": "stdout",
     "output_type": "stream",
     "text": [
      "[-7.52656629e-03 -5.28396680e-02  2.21547570e-01 -5.03199162e-02\n",
      " -1.96010315e-02  4.76949814e-02  1.02285177e-01 -1.69896511e-01\n",
      " -1.26211473e-01  7.14204649e-02 -1.25853261e-01  3.87986180e-02\n",
      " -2.01918099e-01 -2.13121910e-01  4.21246697e-02 -7.44445905e-02\n",
      "  1.24852413e-02  2.25201184e-02 -9.58013048e-02  3.53979558e-01\n",
      "  7.57326633e-02 -3.52089855e-01 -2.93676330e-02 -4.15893659e-02\n",
      "  3.33220798e-02  4.71028688e-02  3.89021825e-02  2.97770808e-01\n",
      " -2.38551315e-01 -8.53275102e-03 -4.53960097e-02  7.67420267e-02\n",
      "  1.56572032e-02  2.25051684e-01 -4.97873716e-02 -3.91366512e-02\n",
      "  3.46194760e-01  2.11727329e-01  7.54492064e-02 -3.59121087e-01\n",
      " -1.58937159e-01 -1.73716203e-02 -2.60253644e-01 -4.63158082e-02\n",
      " -9.00374174e-03  8.91193223e-03 -1.57889829e-01 -2.66670112e-01\n",
      "  1.43290159e-01 -1.18798830e-01  8.40395513e-03  4.89371965e-02\n",
      " -1.88835442e-01  1.36372557e-01 -3.22691120e-02 -2.44000729e-01\n",
      "  6.40813099e-01 -3.81532245e-01 -3.50231164e-04 -1.47935514e-01\n",
      "  5.34217081e-02 -2.16009746e-01  5.72999805e-01  2.33844078e-02\n",
      " -2.16469370e-01 -7.33035824e-01  2.02860550e-01  1.46593734e-01\n",
      "  3.48978808e-02  1.46645983e-01 -4.14065836e-02  6.51521228e-01\n",
      "  7.32653271e-02 -7.68672044e-02 -2.95905282e-02  5.41657059e-02\n",
      " -3.44943760e-02 -2.36146882e-01  9.50363700e-02  9.48489471e-02\n",
      " -2.51834189e-01 -8.41867124e-02 -9.68358486e-02  3.85569530e-01\n",
      "  6.27153658e-02 -3.02791431e-02 -7.75663520e-02  1.38903521e-01\n",
      "  1.26440321e-01  1.69036946e-01 -7.44142382e-03 -3.02836640e-02\n",
      "  4.16837519e-02  1.54057146e-02  1.94982907e-02  9.90036783e-04\n",
      " -4.23656568e-02]\n"
     ]
    }
   ],
   "source": [
    "w = linreg.coef_\n",
    "print(w)"
   ]
  },
  {
   "cell_type": "code",
   "execution_count": 17,
   "id": "645171b1",
   "metadata": {},
   "outputs": [],
   "source": [
    "# The following function can be used to plot the model coefficients for better visualization\n",
    "%matplotlib inline\n",
    "def plot_coefficients(model, n_features, feature_names):\n",
    "    pl.barh(range(n_features), model.coef_, align='center')\n",
    "    pl.yticks(np.arange(n_features), feature_names)\n",
    "    pl.xlabel(\"Coefficient Value\")\n",
    "    pl.ylabel(\"Feature\")\n",
    "    pl.ylim(-1, n_features)"
   ]
  },
  {
   "cell_type": "code",
   "execution_count": 18,
   "id": "ebd94bf1",
   "metadata": {},
   "outputs": [
    {
     "data": {
      "image/png": "[encoded data removed]",
      "text/plain": [
       "<Figure size 432x288 with 1 Axes>"
      ]
     },
     "metadata": {
      "needs_background": "light"
     },
     "output_type": "display_data"
    }
   ],
   "source": [
    "plot_coefficients(linreg,len(df.columns), df.columns)"
   ]
  },
  {
   "cell_type": "code",
   "execution_count": 19,
   "id": "e55dfc99",
   "metadata": {},
   "outputs": [
    {
     "name": "stdout",
     "output_type": "stream",
     "text": [
      "Linear Regression Intercept:  0.5191889140806047\n"
     ]
    }
   ],
   "source": [
    "# We can also directly obtain the regression intercept value:\n",
    "\n",
    "print(\"Linear Regression Intercept: \", linreg.intercept_)"
   ]
  },
  {
   "cell_type": "code",
   "execution_count": null,
   "id": "017c851c",
   "metadata": {},
   "outputs": [],
   "source": []
  },
  {
   "cell_type": "code",
   "execution_count": 20,
   "id": "753e0d74",
   "metadata": {},
   "outputs": [],
   "source": [
    "def cross_validate(model, X, y, n, verbose=False):\n",
    "    # model: regression model to be trained\n",
    "    # X: the training data matrix\n",
    "    # y: the training target variable array\n",
    "    # n: the number of fold for x-validation\n",
    "    # Returns mean RMSE across all folds\n",
    "    \n",
    "    from sklearn.metrics import mean_squared_error\n",
    "    \n",
    "    from sklearn.model_selection import KFold\n",
    "    \n",
    "    kf = KFold(n_splits=n, random_state=22, shuffle=True) # specifying random_state ensures the same random\n",
    "                                            # partitions are used across different runs\n",
    "    xval_err = 0\n",
    "    f = 1\n",
    "    for train,test in kf.split(X):\n",
    "        model.fit(X.iloc[train],y.iloc[train]) # fit model to the training partition in this fold\n",
    "        p_test = model.predict(X.iloc[test]) # apply trained model to test partition in this fold\n",
    "        rmse_test = np.sqrt(mean_squared_error(p_test, y.iloc[test]))\n",
    "        if verbose:\n",
    "            print(\"Fold %2d RMSE: \" % (f), rmse_test)\n",
    "        xval_err += rmse_test\n",
    "        f += 1\n",
    "    return xval_err/n"
   ]
  },
  {
   "cell_type": "code",
   "execution_count": 21,
   "id": "757a95b1",
   "metadata": {
    "scrolled": true
   },
   "outputs": [
    {
     "name": "stdout",
     "output_type": "stream",
     "text": [
      "Fold  1 RMSE:  0.13004080646051497\n",
      "Fold  2 RMSE:  0.1122973382037008\n",
      "Fold  3 RMSE:  0.1299062910689068\n",
      "Fold  4 RMSE:  0.1287471921605772\n",
      "Fold  5 RMSE:  0.13322002669919653\n",
      "Fold  6 RMSE:  0.1220458801664127\n",
      "Fold  7 RMSE:  0.16808080432496147\n",
      "Fold  8 RMSE:  0.13878438468932744\n",
      "Fold  9 RMSE:  0.13255765617187254\n",
      "Fold 10 RMSE:  0.15174128145070634\n"
     ]
    }
   ],
   "source": [
    "# Computing the mean RMSE on 10-fold cross-validation\n",
    "rmse_10cv = cross_validate(linreg, X_train, y_train, 10, verbose=True)"
   ]
  },
  {
   "cell_type": "code",
   "execution_count": null,
   "id": "ab1d9cde",
   "metadata": {},
   "outputs": [],
   "source": []
  },
  {
   "cell_type": "code",
   "execution_count": 22,
   "id": "411bb169",
   "metadata": {},
   "outputs": [
    {
     "name": "stdout",
     "output_type": "stream",
     "text": [
      "Method: Simple Linear Regression\n",
      "RMSE on training:  0.1261959313342669\n",
      "RMSE on 10-fold CV: 0.1347421661396177\n"
     ]
    }
   ],
   "source": [
    "method_name = 'Simple Linear Regression'\n",
    "print('Method: %s' %method_name)\n",
    "print('RMSE on training: ' ,rmse_train)\n",
    "print(\"RMSE on 10-fold CV:\", rmse_10cv)"
   ]
  },
  {
   "cell_type": "markdown",
   "id": "61841fd4",
   "metadata": {},
   "source": [
    "### The error between on both the training data and cross-validation is low, this indicates a good fiting. The difference between both training and cross validation is not too significant which is also good. "
   ]
  },
  {
   "cell_type": "markdown",
   "id": "bce845f0",
   "metadata": {},
   "source": [
    "# Feature Selection with Cross-validation"
   ]
  },
  {
   "cell_type": "code",
   "execution_count": 23,
   "id": "bf418685",
   "metadata": {},
   "outputs": [],
   "source": [
    "from sklearn import feature_selection\n",
    "fs = feature_selection.SelectPercentile(feature_selection.f_regression, percentile=30)\n",
    "X_train_fs = fs.fit_transform(X_train, y_train)"
   ]
  },
  {
   "cell_type": "code",
   "execution_count": 24,
   "id": "2971b1b7",
   "metadata": {},
   "outputs": [
    {
     "name": "stdout",
     "output_type": "stream",
     "text": [
      "(1, 0.11287401163402822)\n",
      "(6, 0.09943268475677307)\n",
      "(11, 0.09900510519125442)\n",
      "(16, 0.09909059079526808)\n",
      "(21, 0.0975068622131086)\n",
      "(26, 0.09608904536542377)\n",
      "(31, 0.09478480270197638)\n",
      "(36, 0.09474955355002232)\n",
      "(41, 0.09435370428857699)\n",
      "(46, 0.09466441760571027)\n",
      "(51, 0.09498773346781053)\n",
      "(56, 0.09532085164805941)\n",
      "(61, 0.095749668892545)\n",
      "(66, 0.09572089544915725)\n",
      "(71, 0.09583132229767208)\n",
      "(76, 0.09519157369784723)\n",
      "(81, 0.0954256882753639)\n",
      "(86, 0.09513624310358182)\n",
      "(91, 0.09525366581598069)\n",
      "(96, 0.0952762785288391)\n"
     ]
    }
   ],
   "source": [
    "from sklearn.model_selection import cross_val_score\n",
    "from sklearn.feature_selection import SelectPercentile, chi2,f_regression\n",
    "\n",
    "percentiles = range(1, 100, 5)\n",
    "results = []\n",
    "for i in range(1, 100, 5):\n",
    "    fs = SelectPercentile(f_regression, percentile=i)\n",
    "    X_train_fs = fs.fit_transform(X_train, y_train)\n",
    "    scores =abs(cross_val_score(linreg, X_train_fs, y_train, cv=5, scoring='neg_mean_absolute_error'))\n",
    "    print( (i, scores.mean()))\n",
    "    results = np.append(results, scores.mean())"
   ]
  },
  {
   "cell_type": "code",
   "execution_count": 25,
   "id": "3647a45f",
   "metadata": {},
   "outputs": [
    {
     "name": "stdout",
     "output_type": "stream",
     "text": [
      "[ True  True  True  True False  True  True  True  True  True  True  True  True  True  True  True  True  True  True\n",
      "  True  True  True  True  True  True  True  True  True  True  True  True  True  True  True  True  True  True  True\n",
      "  True  True  True  True  True  True  True False  True  True  True  True  True  True  True  True  True  True  True\n",
      "  True  True  True  True  True  True  True  True  True  True  True  True  True  True  True  True False  True  True\n",
      "  True  True  True  True  True  True  True  True  True  True  True  True  True  True  True  True  True False  True\n",
      "  True  True]\n",
      "[ 256.03    3.49 1074.89 1412.51    1.96  137.54    4.89   37.33   15.88    8.25  247.78   11.06  341.63  161.57\n",
      "   40.34  756.01   22.49  784.57   13.98  366.9   214.99   65.45  126.58   12.32   29.07   33.37   92.37  400.31\n",
      "  578.82  319.22  472.2   173.37  533.91  190.47    2.61    7.4   602.77  161.08  704.77  693.14   24.47 1657.87\n",
      " 1972.8  1342.17 1299.54    1.31   36.5   431.64 1936.12  151.62   40.65   70.23   96.28  134.79   85.2   101.54\n",
      "  106.97  116.9    92.38  144.66  241.23  129.54    4.35   28.4    93.29  630.76  375.65  487.96  242.07  339.97\n",
      "  173.74  478.53  507.64    0.27   18.64  505.86  209.11   71.34   57.98   46.44  104.03   95.72   90.25   95.92\n",
      "  178.68    6.72    4.32  265.85  169.53   61.96    9.71   40.93    9.17    0.8    61.98  142.69   40.12]\n"
     ]
    }
   ],
   "source": [
    "np.set_printoptions(suppress=True, precision=2, linewidth=120)\n",
    "print(fs.get_support())\n",
    "print(fs.scores_)"
   ]
  },
  {
   "cell_type": "code",
   "execution_count": 26,
   "id": "19055bb9",
   "metadata": {
    "scrolled": true
   },
   "outputs": [
    {
     "name": "stdout",
     "output_type": "stream",
     "text": [
      "population  256.03\n",
      "householdsize  3.49\n",
      "racepctblack  1074.89\n",
      "racePctWhite  1412.51\n",
      "racePctHisp  137.54\n",
      "agePct12t21  4.89\n",
      "agePct12t29  37.33\n",
      "agePct16t24  15.88\n",
      "agePct65up  8.25\n",
      " numbUrban  247.78\n",
      "  pctUrban  11.06\n",
      " medIncome  341.63\n",
      "  pctWWage  161.57\n",
      "pctWFarmSelf  40.34\n",
      "pctWInvInc  756.01\n",
      "pctWSocSec  22.49\n",
      "pctWPubAsst  784.57\n",
      "pctWRetire  13.98\n",
      " medFamInc  366.90\n",
      " perCapInc  214.99\n",
      "whitePerCap  65.45\n",
      "blackPerCap  126.58\n",
      "indianPerCap  12.32\n",
      "AsianPerCap  29.07\n",
      "OtherPerCap  33.37\n",
      "HispPerCap  92.37\n",
      "NumUnderPov  400.31\n",
      "PctPopUnderPov  578.82\n",
      "PctLess9thGrade  319.22\n",
      "PctNotHSGrad  472.20\n",
      "PctBSorMore  173.37\n",
      "PctUnemployed  533.91\n",
      " PctEmploy  190.47\n",
      "PctEmplManu  2.61\n",
      "PctEmplProfServ  7.40\n",
      "MalePctDivorce  602.77\n",
      "MalePctNevMarr  161.08\n",
      "FemalePctDiv  704.77\n",
      "TotalPctDiv  693.14\n",
      "PersPerFam  24.47\n",
      "PctFam2Par  1657.87\n",
      "PctKids2Par  1972.80\n",
      "PctYoungKids2Par  1342.17\n",
      "PctTeen2Par  1299.54\n",
      "PctWorkMom  36.50\n",
      "  NumIlleg  431.64\n",
      "  PctIlleg  1936.12\n",
      "  NumImmig  151.62\n",
      "PctImmigRecent  40.65\n",
      "PctImmigRec5  70.23\n",
      "PctImmigRec8  96.28\n",
      "PctImmigRec10  134.79\n",
      "PctRecentImmig  85.20\n",
      "PctRecImmig5  101.54\n",
      "PctRecImmig8  106.97\n",
      "PctRecImmig10  116.90\n",
      "PctSpeakEnglOnly  92.38\n",
      "PctNotSpeakEnglWell  144.66\n",
      "PctLargHouseFam  241.23\n",
      "PctLargHouseOccup  129.54\n",
      "PersPerOccupHous  4.35\n",
      "PersPerOwnOccHous  28.40\n",
      "PersPerRentOccHous  93.29\n",
      "PctPersOwnOccup  630.76\n",
      "PctPersDenseHous  375.65\n",
      "PctHousLess3BR  487.96\n",
      "  MedNumBR  242.07\n",
      "HousVacant  339.97\n",
      "PctHousOccup  173.74\n",
      "PctHousOwnOcc  478.53\n",
      "PctVacantBoarded  507.64\n",
      "MedYrHousBuilt  18.64\n",
      "PctHousNoPhone  505.86\n",
      "PctWOFullPlumb  209.11\n",
      "OwnOccLowQuart  71.34\n",
      "OwnOccMedVal  57.98\n",
      "OwnOccHiQuart  46.44\n",
      "  RentLowQ  104.03\n",
      "RentMedian  95.72\n",
      " RentHighQ  90.25\n",
      "   MedRent  95.92\n",
      "MedRentPctHousInc  178.68\n",
      "MedOwnCostPctInc  6.72\n",
      "MedOwnCostPctIncNoMtg  4.32\n",
      "NumInShelters  265.85\n",
      " NumStreet  169.53\n",
      "PctForeignBorn  61.96\n",
      "PctBornSameState  9.71\n",
      "PctSameHouse85  40.93\n",
      "PctSameCity85  9.17\n",
      "  LandArea  61.98\n",
      "   PopDens  142.69\n",
      "PctUsePubTrans  40.12\n"
     ]
    }
   ],
   "source": [
    "select_feature=[]\n",
    "for i in range(len(df.columns.values)):\n",
    "    if fs.get_support()[i]:\n",
    "        select_feature.append(df.columns.values[i])\n",
    "        print(\"%10s  %3.2f\" % (df.columns.values[i], fs.scores_[i]))"
   ]
  },
  {
   "cell_type": "code",
   "execution_count": 27,
   "id": "4f159954",
   "metadata": {},
   "outputs": [
    {
     "name": "stdout",
     "output_type": "stream",
     "text": [
      "0\n"
     ]
    }
   ],
   "source": [
    "optimal_percentile_ind = np.where(results == results.max())[0][0]\n",
    "print(optimal_percentile_ind)"
   ]
  },
  {
   "cell_type": "code",
   "execution_count": 28,
   "id": "717ca6cc",
   "metadata": {},
   "outputs": [
    {
     "name": "stdout",
     "output_type": "stream",
     "text": [
      "Optimal percentile of features:1 \n",
      "\n",
      "Optimal number of features:0 \n",
      "\n"
     ]
    },
    {
     "data": {
      "text/plain": [
       "[<matplotlib.lines.Line2D at 0x1efd5e5a4f0>]"
      ]
     },
     "execution_count": 28,
     "metadata": {},
     "output_type": "execute_result"
    },
    {
     "data": {
      "image/png": "[encoded data removed]",
      "text/plain": [
       "<Figure size 432x288 with 1 Axes>"
      ]
     },
     "metadata": {
      "needs_background": "light"
     },
     "output_type": "display_data"
    }
   ],
   "source": [
    "optimal_percentile_ind = np.where(results == results.max())[0][0]\n",
    "print(\"Optimal percentile of features:{0}\".format(percentiles[optimal_percentile_ind]), \"\\n\")\n",
    "optimal_num_features = int(percentiles[optimal_percentile_ind]*len(df.columns)/100)\n",
    "print(\"Optimal number of features:{0}\".format(optimal_num_features), \"\\n\")\n",
    "\n",
    "# Plot percentile of features VS. cross-validation scores\n",
    "import pylab as pl\n",
    "pl.figure()\n",
    "pl.xlabel(\"Percentage of features selected\")\n",
    "pl.ylabel(\"Cross validation accuracy\")\n",
    "pl.plot(percentiles,results)"
   ]
  },
  {
   "cell_type": "markdown",
   "id": "5a2d0341",
   "metadata": {},
   "source": [
    "### 31 features are selected from the cross-validation"
   ]
  },
  {
   "cell_type": "markdown",
   "id": "d4b93b4e",
   "metadata": {},
   "source": [
    "## Evaluate our best number of features on the test set"
   ]
  },
  {
   "cell_type": "code",
   "execution_count": 29,
   "id": "d8cf632b",
   "metadata": {},
   "outputs": [],
   "source": [
    "#####PICK SELECTED FEATURE\n",
    "select_feature=[]\n",
    "for i in range(len(df.columns.values)):\n",
    "    if fs.get_support()[i]:\n",
    "        select_feature.append(df.columns.values[i])"
   ]
  },
  {
   "cell_type": "code",
   "execution_count": 30,
   "id": "18b8b381",
   "metadata": {},
   "outputs": [
    {
     "data": {
      "text/html": [
       "<div>\n",
       "<style scoped>\n",
       "    .dataframe tbody tr th:only-of-type {\n",
       "        vertical-align: middle;\n",
       "    }\n",
       "\n",
       "    .dataframe tbody tr th {\n",
       "        vertical-align: top;\n",
       "    }\n",
       "\n",
       "    .dataframe thead th {\n",
       "        text-align: right;\n",
       "    }\n",
       "</style>\n",
       "<table border=\"1\" class=\"dataframe\">\n",
       "  <thead>\n",
       "    <tr style=\"text-align: right;\">\n",
       "      <th></th>\n",
       "      <th>population</th>\n",
       "      <th>householdsize</th>\n",
       "      <th>racepctblack</th>\n",
       "      <th>racePctWhite</th>\n",
       "      <th>racePctHisp</th>\n",
       "      <th>agePct12t21</th>\n",
       "      <th>agePct12t29</th>\n",
       "      <th>agePct16t24</th>\n",
       "      <th>agePct65up</th>\n",
       "      <th>numbUrban</th>\n",
       "      <th>...</th>\n",
       "      <th>MedOwnCostPctIncNoMtg</th>\n",
       "      <th>NumInShelters</th>\n",
       "      <th>NumStreet</th>\n",
       "      <th>PctForeignBorn</th>\n",
       "      <th>PctBornSameState</th>\n",
       "      <th>PctSameHouse85</th>\n",
       "      <th>PctSameCity85</th>\n",
       "      <th>LandArea</th>\n",
       "      <th>PopDens</th>\n",
       "      <th>PctUsePubTrans</th>\n",
       "    </tr>\n",
       "  </thead>\n",
       "  <tbody>\n",
       "    <tr>\n",
       "      <th>0</th>\n",
       "      <td>0.19</td>\n",
       "      <td>0.33</td>\n",
       "      <td>0.02</td>\n",
       "      <td>0.90</td>\n",
       "      <td>0.17</td>\n",
       "      <td>0.34</td>\n",
       "      <td>0.47</td>\n",
       "      <td>0.29</td>\n",
       "      <td>0.32</td>\n",
       "      <td>0.20</td>\n",
       "      <td>...</td>\n",
       "      <td>0.25</td>\n",
       "      <td>0.04</td>\n",
       "      <td>0.0</td>\n",
       "      <td>0.12</td>\n",
       "      <td>0.42</td>\n",
       "      <td>0.50</td>\n",
       "      <td>0.51</td>\n",
       "      <td>0.12</td>\n",
       "      <td>0.26</td>\n",
       "      <td>0.20</td>\n",
       "    </tr>\n",
       "    <tr>\n",
       "      <th>1</th>\n",
       "      <td>0.00</td>\n",
       "      <td>0.16</td>\n",
       "      <td>0.12</td>\n",
       "      <td>0.74</td>\n",
       "      <td>0.07</td>\n",
       "      <td>0.26</td>\n",
       "      <td>0.59</td>\n",
       "      <td>0.35</td>\n",
       "      <td>0.27</td>\n",
       "      <td>0.02</td>\n",
       "      <td>...</td>\n",
       "      <td>0.18</td>\n",
       "      <td>0.00</td>\n",
       "      <td>0.0</td>\n",
       "      <td>0.21</td>\n",
       "      <td>0.50</td>\n",
       "      <td>0.34</td>\n",
       "      <td>0.60</td>\n",
       "      <td>0.02</td>\n",
       "      <td>0.12</td>\n",
       "      <td>0.45</td>\n",
       "    </tr>\n",
       "    <tr>\n",
       "      <th>2</th>\n",
       "      <td>0.00</td>\n",
       "      <td>0.42</td>\n",
       "      <td>0.49</td>\n",
       "      <td>0.56</td>\n",
       "      <td>0.04</td>\n",
       "      <td>0.39</td>\n",
       "      <td>0.47</td>\n",
       "      <td>0.28</td>\n",
       "      <td>0.32</td>\n",
       "      <td>0.00</td>\n",
       "      <td>...</td>\n",
       "      <td>0.28</td>\n",
       "      <td>0.00</td>\n",
       "      <td>0.0</td>\n",
       "      <td>0.14</td>\n",
       "      <td>0.49</td>\n",
       "      <td>0.54</td>\n",
       "      <td>0.67</td>\n",
       "      <td>0.01</td>\n",
       "      <td>0.21</td>\n",
       "      <td>0.02</td>\n",
       "    </tr>\n",
       "    <tr>\n",
       "      <th>3</th>\n",
       "      <td>0.04</td>\n",
       "      <td>0.77</td>\n",
       "      <td>1.00</td>\n",
       "      <td>0.08</td>\n",
       "      <td>0.10</td>\n",
       "      <td>0.51</td>\n",
       "      <td>0.50</td>\n",
       "      <td>0.34</td>\n",
       "      <td>0.21</td>\n",
       "      <td>0.06</td>\n",
       "      <td>...</td>\n",
       "      <td>0.47</td>\n",
       "      <td>0.00</td>\n",
       "      <td>0.0</td>\n",
       "      <td>0.19</td>\n",
       "      <td>0.30</td>\n",
       "      <td>0.73</td>\n",
       "      <td>0.64</td>\n",
       "      <td>0.02</td>\n",
       "      <td>0.39</td>\n",
       "      <td>0.28</td>\n",
       "    </tr>\n",
       "    <tr>\n",
       "      <th>4</th>\n",
       "      <td>0.01</td>\n",
       "      <td>0.55</td>\n",
       "      <td>0.02</td>\n",
       "      <td>0.95</td>\n",
       "      <td>0.05</td>\n",
       "      <td>0.38</td>\n",
       "      <td>0.38</td>\n",
       "      <td>0.23</td>\n",
       "      <td>0.36</td>\n",
       "      <td>0.02</td>\n",
       "      <td>...</td>\n",
       "      <td>0.21</td>\n",
       "      <td>0.00</td>\n",
       "      <td>0.0</td>\n",
       "      <td>0.11</td>\n",
       "      <td>0.72</td>\n",
       "      <td>0.64</td>\n",
       "      <td>0.61</td>\n",
       "      <td>0.04</td>\n",
       "      <td>0.09</td>\n",
       "      <td>0.02</td>\n",
       "    </tr>\n",
       "  </tbody>\n",
       "</table>\n",
       "<p>5 rows × 93 columns</p>\n",
       "</div>"
      ],
      "text/plain": [
       "   population  householdsize  racepctblack  racePctWhite  racePctHisp  \\\n",
       "0        0.19           0.33          0.02          0.90         0.17   \n",
       "1        0.00           0.16          0.12          0.74         0.07   \n",
       "2        0.00           0.42          0.49          0.56         0.04   \n",
       "3        0.04           0.77          1.00          0.08         0.10   \n",
       "4        0.01           0.55          0.02          0.95         0.05   \n",
       "\n",
       "   agePct12t21  agePct12t29  agePct16t24  agePct65up  numbUrban  ...  \\\n",
       "0         0.34         0.47         0.29        0.32       0.20  ...   \n",
       "1         0.26         0.59         0.35        0.27       0.02  ...   \n",
       "2         0.39         0.47         0.28        0.32       0.00  ...   \n",
       "3         0.51         0.50         0.34        0.21       0.06  ...   \n",
       "4         0.38         0.38         0.23        0.36       0.02  ...   \n",
       "\n",
       "   MedOwnCostPctIncNoMtg  NumInShelters  NumStreet  PctForeignBorn  \\\n",
       "0                   0.25           0.04        0.0            0.12   \n",
       "1                   0.18           0.00        0.0            0.21   \n",
       "2                   0.28           0.00        0.0            0.14   \n",
       "3                   0.47           0.00        0.0            0.19   \n",
       "4                   0.21           0.00        0.0            0.11   \n",
       "\n",
       "   PctBornSameState  PctSameHouse85  PctSameCity85  LandArea  PopDens  \\\n",
       "0              0.42            0.50           0.51      0.12     0.26   \n",
       "1              0.50            0.34           0.60      0.02     0.12   \n",
       "2              0.49            0.54           0.67      0.01     0.21   \n",
       "3              0.30            0.73           0.64      0.02     0.39   \n",
       "4              0.72            0.64           0.61      0.04     0.09   \n",
       "\n",
       "   PctUsePubTrans  \n",
       "0            0.20  \n",
       "1            0.45  \n",
       "2            0.02  \n",
       "3            0.28  \n",
       "4            0.02  \n",
       "\n",
       "[5 rows x 93 columns]"
      ]
     },
     "execution_count": 30,
     "metadata": {},
     "output_type": "execute_result"
    }
   ],
   "source": [
    "######new features \n",
    "new_train= df[select_feature]\n",
    "new_train.head()"
   ]
  },
  {
   "cell_type": "code",
   "execution_count": 31,
   "id": "3c1bb844",
   "metadata": {},
   "outputs": [],
   "source": [
    "#spliting model \n",
    "from sklearn.model_selection import train_test_split\n",
    "X_train, X_test, y_train, y_test = train_test_split(new_train, target, test_size=0.20,  random_state=33)"
   ]
  },
  {
   "cell_type": "code",
   "execution_count": 32,
   "id": "ebc3c687",
   "metadata": {},
   "outputs": [
    {
     "data": {
      "text/plain": [
       "LinearRegression()"
      ]
     },
     "execution_count": 32,
     "metadata": {},
     "output_type": "execute_result"
    }
   ],
   "source": [
    "# Create linear regression object - here we'll use the default parameters\n",
    "linreg = LinearRegression()\n",
    "\n",
    "# Train the model using the training set\n",
    "linreg.fit(X_train,y_train)"
   ]
  },
  {
   "cell_type": "code",
   "execution_count": 33,
   "id": "b19c1633",
   "metadata": {},
   "outputs": [],
   "source": [
    "# First, let's compute errors on all training instances\n",
    "\n",
    "p_train = linreg.predict(X_train) # p_train is the array of predicted values\n",
    "p_test = linreg.predict(X_test)"
   ]
  },
  {
   "cell_type": "code",
   "execution_count": 34,
   "id": "fe9ee19b",
   "metadata": {},
   "outputs": [
    {
     "name": "stdout",
     "output_type": "stream",
     "text": [
      "MSE on Train Data:  0.016009701390929856\n",
      "MSE on Test Data:  0.020687727226583186\n"
     ]
    }
   ],
   "source": [
    "from sklearn.metrics import mean_squared_error, mean_absolute_error\n",
    "\n",
    "mse_train = (mean_squared_error(p_train, y_train))\n",
    "mse_test = (mean_squared_error(p_test, y_test))\n",
    "print(\"MSE on Train Data: \", mse_train)\n",
    "print(\"MSE on Test Data: \", mse_test)"
   ]
  },
  {
   "cell_type": "markdown",
   "id": "a1934b86",
   "metadata": {},
   "source": [
    "### using the 30 new features redues the MSE score of the model. "
   ]
  },
  {
   "cell_type": "markdown",
   "id": "3cd187e8",
   "metadata": {},
   "source": [
    "# 1D,"
   ]
  },
  {
   "cell_type": "markdown",
   "id": "6821f696",
   "metadata": {},
   "source": [
    "##### Using original dataset compute ridge regression"
   ]
  },
  {
   "cell_type": "code",
   "execution_count": 35,
   "id": "e24d6144",
   "metadata": {},
   "outputs": [],
   "source": [
    "#spliting model \n",
    "from sklearn.model_selection import train_test_split\n",
    "X_train, X_test, y_train, y_test = train_test_split(df, target, test_size=0.20,  random_state=33)"
   ]
  },
  {
   "cell_type": "code",
   "execution_count": 36,
   "id": "bdbb2e99",
   "metadata": {},
   "outputs": [],
   "source": [
    "def cross_validate(model, X, y, n, verbose=False):\n",
    "    # model: regression model to be trained\n",
    "    # X: the training data matrix\n",
    "    # y: the training target variable array\n",
    "    # n: the number of fold for x-validation\n",
    "    # Returns mean RMSE across all folds\n",
    "    \n",
    "    from sklearn.metrics import mean_squared_error\n",
    "    \n",
    "    from sklearn.model_selection import KFold\n",
    "    \n",
    "    kf = KFold(n_splits=n, random_state=22, shuffle=True) # specifying random_state ensures the same random\n",
    "                                            # partitions are used across different runs\n",
    "    xval_err = 0\n",
    "    f = 1\n",
    "    for train,test in kf.split(X):\n",
    "        model.fit(X.iloc[train],y.iloc[train]) # fit model to the training partition in this fold\n",
    "        p_test = model.predict(X.iloc[test]) # apply trained model to test partition in this fold\n",
    "        rmse_test = np.sqrt(mean_squared_error(p_test, y.iloc[test]))\n",
    "        if verbose:\n",
    "            print(\"Fold %2d RMSE: \" % (f), rmse_test)\n",
    "        xval_err += rmse_test\n",
    "        f += 1\n",
    "    return xval_err/n"
   ]
  },
  {
   "cell_type": "code",
   "execution_count": 37,
   "id": "9077bc1e",
   "metadata": {},
   "outputs": [
    {
     "name": "stdout",
     "output_type": "stream",
     "text": [
      "Ridge Regression\n",
      "alpha\t RMSE_train\t RMSE_10cv\t Gap\n",
      "\n"
     ]
    }
   ],
   "source": [
    "print('Ridge Regression')\n",
    "print('alpha\\t RMSE_train\\t RMSE_10cv\\t Gap\\n')\n",
    "alpha = np.linspace(.001,10) # create an array of 50 evenly spaced numbers between 0.01 and 5.0\n",
    "t_rmse = np.array([])\n",
    "cv_rmse = np.array([])\n",
    "from sklearn.linear_model import Ridge\n",
    "for a in alpha:\n",
    "    ridge = Ridge(alpha=a)\n",
    "    \n",
    "    # computing the RMSE on training data\n",
    "    ridge.fit(X_train, y_train)\n",
    "    p_train = ridge.predict(X_train)\n",
    "    rmse_train = np.sqrt(mean_squared_error(p_train, y_train))\n",
    "\n",
    "    # Compute RMSE using 10-fold x-validation\n",
    "    rmse_10cv = cross_validate(ridge, X_train, y_train, 5)\n",
    "    \n",
    "    gap = rmse_10cv - rmse_train\n",
    "    \n",
    "    t_rmse = np.append(t_rmse, [rmse_train])\n",
    "    cv_rmse = np.append(cv_rmse, [rmse_10cv])\n",
    "    \n",
    "    #print('{:.3f}\\t {:.4f}\\t\\t {:.4f}\\t\\t {:.4f}'.format(a,rmse_train,rmse_10cv,gap))"
   ]
  },
  {
   "cell_type": "code",
   "execution_count": 38,
   "id": "b97fb44c",
   "metadata": {},
   "outputs": [
    {
     "data": {
      "image/png": "[encoded data removed]",
      "text/plain": [
       "<Figure size 720x360 with 1 Axes>"
      ]
     },
     "metadata": {
      "needs_background": "light"
     },
     "output_type": "display_data"
    }
   ],
   "source": [
    "fig = pl.figure(figsize=(10,5))\n",
    "ax = fig.add_subplot(111)\n",
    "ax.plot(alpha, t_rmse, label='RMSE-Train')\n",
    "ax.plot(alpha, cv_rmse, label='RMSE_XVal')\n",
    "pl.legend( ('RMSE-Train', 'RMSE_XVal') )\n",
    "pl.ylabel('RMSE')\n",
    "pl.xlabel('Alpha')\n",
    "pl.show()"
   ]
  },
  {
   "cell_type": "code",
   "execution_count": 39,
   "id": "1cbb6705",
   "metadata": {},
   "outputs": [
    {
     "name": "stdout",
     "output_type": "stream",
     "text": [
      "\n",
      "\n",
      "Method: Ridge Regression\n",
      "RMSE on training: 0.12619600\n",
      "RMSE on test data: 0.14345978\n"
     ]
    }
   ],
   "source": [
    "# Create linear regression object with a ridge coefficient 0.25\n",
    "ridge = Ridge(alpha=0.001)\n",
    "\n",
    "# Train the model using the training set\n",
    "ridge.fit(X_train, y_train)\n",
    "\n",
    "p_train = ridge.predict(X_train) # p_train is the array of predicted training values\n",
    "rmse_train = np.sqrt(mean_squared_error(p_train, y_train))\n",
    "\n",
    "# Compute RMSE on the set-aside test data\n",
    "\n",
    "p_test = ridge.predict(X_test) # predictions on the test instances\n",
    "rmse_test = np.sqrt(mean_squared_error(p_test, y_test))\n",
    "\n",
    "method_name = 'Ridge Regression'\n",
    "print(\"\\n\")\n",
    "print('Method: %s' %method_name)\n",
    "print('RMSE on training: %.8f' %rmse_train)\n",
    "print('RMSE on test data: %.8f' %rmse_test)"
   ]
  },
  {
   "cell_type": "code",
   "execution_count": 40,
   "id": "9c76776b",
   "metadata": {},
   "outputs": [
    {
     "name": "stdout",
     "output_type": "stream",
     "text": [
      "Lasso Regression\n"
     ]
    },
    {
     "data": {
      "image/png": "[encoded data removed]",
      "text/plain": [
       "<Figure size 720x360 with 1 Axes>"
      ]
     },
     "metadata": {
      "needs_background": "light"
     },
     "output_type": "display_data"
    }
   ],
   "source": [
    "print('Lasso Regression')\n",
    "# print('alpha\\t RMSE_train\\t RMSE_10cv\\t Gap\\n')\n",
    "alpha = np.linspace(.0001,5.0,100) # create an array of 50 evenly spaced numbers between 0.01 and 5.0\n",
    "t_rmse = np.array([])\n",
    "cv_rmse = np.array([])\n",
    "from sklearn.linear_model import Lasso\n",
    "for a in alpha:\n",
    "    lasso = Lasso(alpha=a)\n",
    "    \n",
    "    # computing the RMSE on training data\n",
    "    lasso.fit(X_train, y_train)\n",
    "    p_train = lasso.predict(X_train)\n",
    "    rmse_train = np.sqrt(mean_squared_error(p_train, y_train))\n",
    "\n",
    "    # Compute RMSE using 10-fold x-validation\n",
    "    rmse_10cv = cross_validate(lasso, X_train, y_train, 10)\n",
    "    \n",
    "    gap = rmse_10cv - rmse_train\n",
    "    \n",
    "    t_rmse = np.append(t_rmse, [rmse_train])\n",
    "    cv_rmse = np.append(cv_rmse, [rmse_10cv])\n",
    "    \n",
    "    # print('{:.3f}\\t {:.4f}\\t\\t {:.4f}\\t\\t {:.4f}'.format(a,rmse_train,rmse_10cv,gap))\n",
    "    \n",
    "fig = pl.figure(figsize=(10,5))\n",
    "ax = fig.add_subplot(111)\n",
    "ax.plot(alpha, t_rmse, label='RMSE-Train')\n",
    "ax.plot(alpha, cv_rmse, label='RMSE_XVal')\n",
    "pl.legend( ('RMSE-Train', 'RMSE_XVal') )\n",
    "pl.ylabel('RMSE')\n",
    "pl.xlabel('Alpha')\n",
    "pl.show()"
   ]
  },
  {
   "cell_type": "code",
   "execution_count": 41,
   "id": "4d28beeb",
   "metadata": {},
   "outputs": [
    {
     "name": "stdout",
     "output_type": "stream",
     "text": [
      "\n",
      "\n",
      "Method: Lasso Regression\n",
      "RMSE on training: 0.1520\n",
      "RMSE on test data: 0.1643\n"
     ]
    }
   ],
   "source": [
    "# Let's pick 0.3 for lasso regularization coefficient\n",
    "lasso = Lasso(alpha=0.01)\n",
    "\n",
    "# Train the model using the training set\n",
    "lasso.fit(X_train, y_train)\n",
    "\n",
    "p_train = lasso.predict(X_train) # p_train is the array of predicted training values\n",
    "rmse_train = np.sqrt(mean_squared_error(p_train, y_train))\n",
    "\n",
    "# Compute RMSE on the set-aside test data\n",
    "\n",
    "p_test = lasso.predict(X_test) # predictions on the test instances\n",
    "rmse_test = np.sqrt(mean_squared_error(p_test, y_test))\n",
    "\n",
    "method_name = 'Lasso Regression'\n",
    "print(\"\\n\")\n",
    "print('Method: %s' %method_name)\n",
    "print('RMSE on training: %.4f' %rmse_train)\n",
    "print('RMSE on test data: %.4f' %rmse_test)"
   ]
  },
  {
   "cell_type": "markdown",
   "id": "df52c2d7",
   "metadata": {},
   "source": [
    "### A lower alpha value reduces the RSME score of the model. "
   ]
  },
  {
   "cell_type": "markdown",
   "id": "c5a0567a",
   "metadata": {},
   "source": [
    "# 1E,"
   ]
  },
  {
   "cell_type": "markdown",
   "id": "fb11a8f8",
   "metadata": {},
   "source": [
    "### Perform Stochastic Gradient Descent Regressor"
   ]
  },
  {
   "cell_type": "code",
   "execution_count": 42,
   "id": "eab307d5",
   "metadata": {},
   "outputs": [],
   "source": [
    "#spliting model \n",
    "from sklearn.model_selection import train_test_split\n",
    "X_train, X_test, y_train, y_test = train_test_split(df, target, test_size=0.20,  random_state=33)"
   ]
  },
  {
   "cell_type": "code",
   "execution_count": 43,
   "id": "354da60d",
   "metadata": {},
   "outputs": [],
   "source": [
    "from sklearn.preprocessing import StandardScaler\n",
    "# SGD is very senstitive to varying-sized feature values. So, first we need to do feature scaling.\n",
    "scaler = StandardScaler()\n",
    "scaler.fit(X_train)\n",
    "X_train_s = scaler.transform(X_train)\n",
    "X_test_s = scaler.transform(X_test)"
   ]
  },
  {
   "cell_type": "code",
   "execution_count": 44,
   "id": "a7a984b4",
   "metadata": {},
   "outputs": [],
   "source": [
    "## Transfroming data \n",
    "X_train_s= np.array(X_train_s)\n",
    "X_test_s =np.array(X_test_s)\n",
    "train_label_array = np.array(y_train).flatten()\n",
    "test_label_array = np.array(y_test).flatten()"
   ]
  },
  {
   "cell_type": "code",
   "execution_count": 45,
   "id": "918ffa4d",
   "metadata": {},
   "outputs": [],
   "source": [
    "from sklearn.linear_model import SGDRegressor\n",
    "from sklearn.model_selection import GridSearchCV\n",
    "\n",
    "alpha_ = np.linspace(.001,5.0,100)\n",
    "eta_ = np.linspace(.005,0.005,1)\n",
    "maxintration= (5000,10000)\n",
    "parameter={\"penalty\":(\"l1\",'l2'), \"alpha\":(alpha_ ), \"eta0\":(eta_),\"max_iter\":(maxintration)}\n",
    "sgdreg=SGDRegressor()\n",
    "\n",
    "SGD_with_gridsearch = GridSearchCV(sgdreg,parameter)\n",
    "\n",
    "# Compute RMSE on training data\n",
    "SGD_with_gridsearch .fit(X_train_s,y_train)\n",
    "p_train = SGD_with_gridsearch.predict(X_train_s)\n",
    "rmse_train = np.sqrt(mean_squared_error(p_train, y_train))"
   ]
  },
  {
   "cell_type": "code",
   "execution_count": 46,
   "id": "2fa3a944",
   "metadata": {},
   "outputs": [
    {
     "name": "stdout",
     "output_type": "stream",
     "text": [
      "\n",
      "\n",
      "Method: Stochastic Gradient Descent Regression\n",
      "RMSE on training: 0.1314\n",
      "RMSE on test data: 0.1460\n"
     ]
    }
   ],
   "source": [
    "# Compute RMSE on the set-aside test data\n",
    "\n",
    "p_test = SGD_with_gridsearch.predict(X_test_s) # predictions on the test instances\n",
    "rmse_test = np.sqrt(mean_squared_error(p_test, y_test))\n",
    "\n",
    "method_name = 'Stochastic Gradient Descent Regression'\n",
    "print(\"\\n\")\n",
    "print('Method: %s' %method_name)\n",
    "print('RMSE on training: %.4f' %rmse_train)\n",
    "print('RMSE on test data: %.4f' %rmse_test)"
   ]
  },
  {
   "cell_type": "code",
   "execution_count": 47,
   "id": "5862027f",
   "metadata": {},
   "outputs": [
    {
     "name": "stdout",
     "output_type": "stream",
     "text": [
      "The parameters combination that would give best accuracy is : \n",
      "{'alpha': 0.10198989898989898, 'eta0': 0.005, 'max_iter': 5000, 'penalty': 'l2'}\n"
     ]
    }
   ],
   "source": [
    "print('The parameters combination that would give best accuracy is : ')\n",
    "print(SGD_with_gridsearch.best_params_)"
   ]
  },
  {
   "cell_type": "markdown",
   "id": "9c9b453c",
   "metadata": {},
   "source": [
    "### The parameter {'alpha': 0.001, 'eta0': 0.005, 'max_iter': 5000, 'penalty': 'l1'}, with SGD regression"
   ]
  },
  {
   "cell_type": "markdown",
   "id": "ee6aa6cd",
   "metadata": {},
   "source": [
    "## Model Optimization "
   ]
  },
  {
   "cell_type": "code",
   "execution_count": 48,
   "id": "d504c357",
   "metadata": {},
   "outputs": [],
   "source": [
    "from sklearn.linear_model import ElasticNet\n"
   ]
  },
  {
   "cell_type": "code",
   "execution_count": 49,
   "id": "bfe299f4",
   "metadata": {
    "scrolled": false
   },
   "outputs": [
    {
     "name": "stdout",
     "output_type": "stream",
     "text": [
      "Elastic Net Regression\n",
      "alpha\t RMSE_train\t RMSE_10cv\t Gap\n",
      "\n",
      "0.001\t 0.1298\t\t 0.1338\t\t 0.0040\n",
      "0.051\t 0.1535\t\t 0.1536\t\t 0.0001\n",
      "0.102\t 0.1774\t\t 0.1771\t\t -0.0002\n",
      "0.152\t 0.1990\t\t 0.1988\t\t -0.0002\n",
      "0.203\t 0.2177\t\t 0.2175\t\t -0.0002\n",
      "0.253\t 0.2299\t\t 0.2296\t\t -0.0003\n",
      "0.304\t 0.2312\t\t 0.2309\t\t -0.0003\n",
      "0.354\t 0.2312\t\t 0.2309\t\t -0.0003\n",
      "0.405\t 0.2312\t\t 0.2309\t\t -0.0003\n",
      "0.455\t 0.2312\t\t 0.2309\t\t -0.0003\n",
      "0.506\t 0.2312\t\t 0.2309\t\t -0.0003\n",
      "0.556\t 0.2312\t\t 0.2309\t\t -0.0003\n",
      "0.607\t 0.2312\t\t 0.2309\t\t -0.0003\n",
      "0.657\t 0.2312\t\t 0.2309\t\t -0.0003\n",
      "0.708\t 0.2312\t\t 0.2309\t\t -0.0003\n",
      "0.758\t 0.2312\t\t 0.2309\t\t -0.0003\n",
      "0.809\t 0.2312\t\t 0.2309\t\t -0.0003\n",
      "0.859\t 0.2312\t\t 0.2309\t\t -0.0003\n",
      "0.910\t 0.2312\t\t 0.2309\t\t -0.0003\n",
      "0.960\t 0.2312\t\t 0.2309\t\t -0.0003\n",
      "1.011\t 0.2312\t\t 0.2309\t\t -0.0003\n",
      "1.061\t 0.2312\t\t 0.2309\t\t -0.0003\n",
      "1.112\t 0.2312\t\t 0.2309\t\t -0.0003\n",
      "1.162\t 0.2312\t\t 0.2309\t\t -0.0003\n",
      "1.213\t 0.2312\t\t 0.2309\t\t -0.0003\n",
      "1.263\t 0.2312\t\t 0.2309\t\t -0.0003\n",
      "1.314\t 0.2312\t\t 0.2309\t\t -0.0003\n",
      "1.364\t 0.2312\t\t 0.2309\t\t -0.0003\n",
      "1.415\t 0.2312\t\t 0.2309\t\t -0.0003\n",
      "1.465\t 0.2312\t\t 0.2309\t\t -0.0003\n",
      "1.516\t 0.2312\t\t 0.2309\t\t -0.0003\n",
      "1.566\t 0.2312\t\t 0.2309\t\t -0.0003\n",
      "1.617\t 0.2312\t\t 0.2309\t\t -0.0003\n",
      "1.667\t 0.2312\t\t 0.2309\t\t -0.0003\n",
      "1.718\t 0.2312\t\t 0.2309\t\t -0.0003\n",
      "1.768\t 0.2312\t\t 0.2309\t\t -0.0003\n",
      "1.819\t 0.2312\t\t 0.2309\t\t -0.0003\n",
      "1.869\t 0.2312\t\t 0.2309\t\t -0.0003\n",
      "1.920\t 0.2312\t\t 0.2309\t\t -0.0003\n",
      "1.970\t 0.2312\t\t 0.2309\t\t -0.0003\n",
      "2.021\t 0.2312\t\t 0.2309\t\t -0.0003\n",
      "2.071\t 0.2312\t\t 0.2309\t\t -0.0003\n",
      "2.122\t 0.2312\t\t 0.2309\t\t -0.0003\n",
      "2.172\t 0.2312\t\t 0.2309\t\t -0.0003\n",
      "2.223\t 0.2312\t\t 0.2309\t\t -0.0003\n",
      "2.273\t 0.2312\t\t 0.2309\t\t -0.0003\n",
      "2.324\t 0.2312\t\t 0.2309\t\t -0.0003\n",
      "2.374\t 0.2312\t\t 0.2309\t\t -0.0003\n",
      "2.425\t 0.2312\t\t 0.2309\t\t -0.0003\n",
      "2.475\t 0.2312\t\t 0.2309\t\t -0.0003\n",
      "2.526\t 0.2312\t\t 0.2309\t\t -0.0003\n",
      "2.576\t 0.2312\t\t 0.2309\t\t -0.0003\n",
      "2.627\t 0.2312\t\t 0.2309\t\t -0.0003\n",
      "2.677\t 0.2312\t\t 0.2309\t\t -0.0003\n",
      "2.728\t 0.2312\t\t 0.2309\t\t -0.0003\n",
      "2.778\t 0.2312\t\t 0.2309\t\t -0.0003\n",
      "2.829\t 0.2312\t\t 0.2309\t\t -0.0003\n",
      "2.879\t 0.2312\t\t 0.2309\t\t -0.0003\n",
      "2.930\t 0.2312\t\t 0.2309\t\t -0.0003\n",
      "2.980\t 0.2312\t\t 0.2309\t\t -0.0003\n",
      "3.031\t 0.2312\t\t 0.2309\t\t -0.0003\n",
      "3.081\t 0.2312\t\t 0.2309\t\t -0.0003\n",
      "3.132\t 0.2312\t\t 0.2309\t\t -0.0003\n",
      "3.182\t 0.2312\t\t 0.2309\t\t -0.0003\n",
      "3.233\t 0.2312\t\t 0.2309\t\t -0.0003\n",
      "3.283\t 0.2312\t\t 0.2309\t\t -0.0003\n",
      "3.334\t 0.2312\t\t 0.2309\t\t -0.0003\n",
      "3.384\t 0.2312\t\t 0.2309\t\t -0.0003\n",
      "3.435\t 0.2312\t\t 0.2309\t\t -0.0003\n",
      "3.485\t 0.2312\t\t 0.2309\t\t -0.0003\n",
      "3.536\t 0.2312\t\t 0.2309\t\t -0.0003\n",
      "3.586\t 0.2312\t\t 0.2309\t\t -0.0003\n",
      "3.637\t 0.2312\t\t 0.2309\t\t -0.0003\n",
      "3.687\t 0.2312\t\t 0.2309\t\t -0.0003\n",
      "3.738\t 0.2312\t\t 0.2309\t\t -0.0003\n",
      "3.788\t 0.2312\t\t 0.2309\t\t -0.0003\n",
      "3.839\t 0.2312\t\t 0.2309\t\t -0.0003\n",
      "3.889\t 0.2312\t\t 0.2309\t\t -0.0003\n",
      "3.940\t 0.2312\t\t 0.2309\t\t -0.0003\n",
      "3.990\t 0.2312\t\t 0.2309\t\t -0.0003\n",
      "4.041\t 0.2312\t\t 0.2309\t\t -0.0003\n",
      "4.091\t 0.2312\t\t 0.2309\t\t -0.0003\n",
      "4.142\t 0.2312\t\t 0.2309\t\t -0.0003\n",
      "4.192\t 0.2312\t\t 0.2309\t\t -0.0003\n",
      "4.243\t 0.2312\t\t 0.2309\t\t -0.0003\n",
      "4.293\t 0.2312\t\t 0.2309\t\t -0.0003\n",
      "4.344\t 0.2312\t\t 0.2309\t\t -0.0003\n",
      "4.394\t 0.2312\t\t 0.2309\t\t -0.0003\n",
      "4.445\t 0.2312\t\t 0.2309\t\t -0.0003\n",
      "4.495\t 0.2312\t\t 0.2309\t\t -0.0003\n",
      "4.546\t 0.2312\t\t 0.2309\t\t -0.0003\n",
      "4.596\t 0.2312\t\t 0.2309\t\t -0.0003\n",
      "4.647\t 0.2312\t\t 0.2309\t\t -0.0003\n",
      "4.697\t 0.2312\t\t 0.2309\t\t -0.0003\n",
      "4.748\t 0.2312\t\t 0.2309\t\t -0.0003\n",
      "4.798\t 0.2312\t\t 0.2309\t\t -0.0003\n",
      "4.849\t 0.2312\t\t 0.2309\t\t -0.0003\n",
      "4.899\t 0.2312\t\t 0.2309\t\t -0.0003\n",
      "4.950\t 0.2312\t\t 0.2309\t\t -0.0003\n",
      "5.000\t 0.2312\t\t 0.2309\t\t -0.0003\n"
     ]
    },
    {
     "data": {
      "image/png": "[encoded data removed]",
      "text/plain": [
       "<Figure size 720x360 with 1 Axes>"
      ]
     },
     "metadata": {
      "needs_background": "light"
     },
     "output_type": "display_data"
    }
   ],
   "source": [
    "print('Elastic Net Regression')\n",
    "print('alpha\\t RMSE_train\\t RMSE_10cv\\t Gap\\n')\n",
    "alpha = np.linspace(.001,5.0,100) # create an array of 50 evenly spaced numbers between 0.01 and 5.0\n",
    "\n",
    "t_rmse = np.array([])\n",
    "cv_rmse = np.array([])\n",
    "\n",
    "for a in alpha:\n",
    "    elastic = ElasticNet(alpha=a, l1_ratio= 0.15)\n",
    "    \n",
    "    # computing the RMSE on training data\n",
    "    elastic.fit(X_train, y_train)\n",
    "    p_train = elastic.predict(X_train)\n",
    "    rmse_train = np.sqrt(mean_squared_error(p_train, y_train))\n",
    "\n",
    "    # Compute RMSE using 10-fold x-validation\n",
    "    rmse_10cv = cross_validate(elastic, X_train, y_train, 10)\n",
    "    \n",
    "    gap = rmse_10cv - rmse_train\n",
    "    \n",
    "    t_rmse = np.append(t_rmse, [rmse_train])\n",
    "    cv_rmse = np.append(cv_rmse, [rmse_10cv])\n",
    "    \n",
    "    print('{:.3f}\\t {:.4f}\\t\\t {:.4f}\\t\\t {:.4f}'.format(a,rmse_train,rmse_10cv,gap))\n",
    "    \n",
    "fig = pl.figure(figsize=(10,5))\n",
    "ax = fig.add_subplot(111)\n",
    "ax.plot(alpha, t_rmse, label='RMSE-Train')\n",
    "ax.plot(alpha, cv_rmse, label='RMSE_XVal')\n",
    "pl.legend( ('RMSE-Train', 'RMSE_XVal') )\n",
    "pl.ylabel('RMSE')\n",
    "pl.xlabel('Alpha')\n",
    "pl.show()"
   ]
  },
  {
   "cell_type": "markdown",
   "id": "0bffb492",
   "metadata": {},
   "source": [
    "# 2"
   ]
  },
  {
   "cell_type": "code",
   "execution_count": null,
   "id": "fac28341",
   "metadata": {},
   "outputs": [],
   "source": []
  },
  {
   "cell_type": "code",
   "execution_count": 90,
   "id": "4a692edc",
   "metadata": {},
   "outputs": [],
   "source": [
    "#load data \n",
    "terms= pd.read_table('terms.txt', header= None)\n",
    "classes= pd.read_table('classes.txt', index_col=0,delimiter=' ', header= None)\n",
    "matrix= pd.read_csv('matrix.txt', header= None)"
   ]
  },
  {
   "cell_type": "code",
   "execution_count": 91,
   "id": "051091b8",
   "metadata": {},
   "outputs": [
    {
     "data": {
      "text/html": [
       "<div>\n",
       "<style scoped>\n",
       "    .dataframe tbody tr th:only-of-type {\n",
       "        vertical-align: middle;\n",
       "    }\n",
       "\n",
       "    .dataframe tbody tr th {\n",
       "        vertical-align: top;\n",
       "    }\n",
       "\n",
       "    .dataframe thead th {\n",
       "        text-align: right;\n",
       "    }\n",
       "</style>\n",
       "<table border=\"1\" class=\"dataframe\">\n",
       "  <thead>\n",
       "    <tr style=\"text-align: right;\">\n",
       "      <th></th>\n",
       "      <th>0</th>\n",
       "    </tr>\n",
       "  </thead>\n",
       "  <tbody>\n",
       "    <tr>\n",
       "      <th>0</th>\n",
       "      <td>aa</td>\n",
       "    </tr>\n",
       "    <tr>\n",
       "      <th>1</th>\n",
       "      <td>aargh</td>\n",
       "    </tr>\n",
       "    <tr>\n",
       "      <th>2</th>\n",
       "      <td>aaron</td>\n",
       "    </tr>\n",
       "    <tr>\n",
       "      <th>3</th>\n",
       "      <td>aaronc</td>\n",
       "    </tr>\n",
       "    <tr>\n",
       "      <th>4</th>\n",
       "      <td>ab</td>\n",
       "    </tr>\n",
       "  </tbody>\n",
       "</table>\n",
       "</div>"
      ],
      "text/plain": [
       "        0\n",
       "0      aa\n",
       "1   aargh\n",
       "2   aaron\n",
       "3  aaronc\n",
       "4      ab"
      ]
     },
     "execution_count": 91,
     "metadata": {},
     "output_type": "execute_result"
    }
   ],
   "source": [
    "terms.head()"
   ]
  },
  {
   "cell_type": "code",
   "execution_count": 92,
   "id": "36592719",
   "metadata": {},
   "outputs": [
    {
     "data": {
      "text/html": [
       "<div>\n",
       "<style scoped>\n",
       "    .dataframe tbody tr th:only-of-type {\n",
       "        vertical-align: middle;\n",
       "    }\n",
       "\n",
       "    .dataframe tbody tr th {\n",
       "        vertical-align: top;\n",
       "    }\n",
       "\n",
       "    .dataframe thead th {\n",
       "        text-align: right;\n",
       "    }\n",
       "</style>\n",
       "<table border=\"1\" class=\"dataframe\">\n",
       "  <thead>\n",
       "    <tr style=\"text-align: right;\">\n",
       "      <th></th>\n",
       "      <th>1</th>\n",
       "    </tr>\n",
       "    <tr>\n",
       "      <th>0</th>\n",
       "      <th></th>\n",
       "    </tr>\n",
       "  </thead>\n",
       "  <tbody>\n",
       "    <tr>\n",
       "      <th>0</th>\n",
       "      <td>0</td>\n",
       "    </tr>\n",
       "    <tr>\n",
       "      <th>1</th>\n",
       "      <td>1</td>\n",
       "    </tr>\n",
       "    <tr>\n",
       "      <th>2</th>\n",
       "      <td>1</td>\n",
       "    </tr>\n",
       "    <tr>\n",
       "      <th>3</th>\n",
       "      <td>1</td>\n",
       "    </tr>\n",
       "    <tr>\n",
       "      <th>4</th>\n",
       "      <td>2</td>\n",
       "    </tr>\n",
       "  </tbody>\n",
       "</table>\n",
       "</div>"
      ],
      "text/plain": [
       "   1\n",
       "0   \n",
       "0  0\n",
       "1  1\n",
       "2  1\n",
       "3  1\n",
       "4  2"
      ]
     },
     "execution_count": 92,
     "metadata": {},
     "output_type": "execute_result"
    }
   ],
   "source": [
    "classes.head()"
   ]
  },
  {
   "cell_type": "code",
   "execution_count": 93,
   "id": "92fbc86f",
   "metadata": {},
   "outputs": [
    {
     "data": {
      "text/html": [
       "<div>\n",
       "<style scoped>\n",
       "    .dataframe tbody tr th:only-of-type {\n",
       "        vertical-align: middle;\n",
       "    }\n",
       "\n",
       "    .dataframe tbody tr th {\n",
       "        vertical-align: top;\n",
       "    }\n",
       "\n",
       "    .dataframe thead th {\n",
       "        text-align: right;\n",
       "    }\n",
       "</style>\n",
       "<table border=\"1\" class=\"dataframe\">\n",
       "  <thead>\n",
       "    <tr style=\"text-align: right;\">\n",
       "      <th></th>\n",
       "      <th>0</th>\n",
       "      <th>1</th>\n",
       "      <th>2</th>\n",
       "      <th>3</th>\n",
       "      <th>4</th>\n",
       "      <th>5</th>\n",
       "      <th>6</th>\n",
       "      <th>7</th>\n",
       "      <th>8</th>\n",
       "      <th>9</th>\n",
       "      <th>...</th>\n",
       "      <th>2490</th>\n",
       "      <th>2491</th>\n",
       "      <th>2492</th>\n",
       "      <th>2493</th>\n",
       "      <th>2494</th>\n",
       "      <th>2495</th>\n",
       "      <th>2496</th>\n",
       "      <th>2497</th>\n",
       "      <th>2498</th>\n",
       "      <th>2499</th>\n",
       "    </tr>\n",
       "  </thead>\n",
       "  <tbody>\n",
       "    <tr>\n",
       "      <th>0</th>\n",
       "      <td>0</td>\n",
       "      <td>0</td>\n",
       "      <td>0</td>\n",
       "      <td>0</td>\n",
       "      <td>0</td>\n",
       "      <td>0</td>\n",
       "      <td>0</td>\n",
       "      <td>0</td>\n",
       "      <td>0</td>\n",
       "      <td>0</td>\n",
       "      <td>...</td>\n",
       "      <td>0</td>\n",
       "      <td>0</td>\n",
       "      <td>0</td>\n",
       "      <td>0</td>\n",
       "      <td>0</td>\n",
       "      <td>0</td>\n",
       "      <td>0</td>\n",
       "      <td>0</td>\n",
       "      <td>0</td>\n",
       "      <td>0</td>\n",
       "    </tr>\n",
       "    <tr>\n",
       "      <th>1</th>\n",
       "      <td>0</td>\n",
       "      <td>0</td>\n",
       "      <td>0</td>\n",
       "      <td>0</td>\n",
       "      <td>0</td>\n",
       "      <td>0</td>\n",
       "      <td>0</td>\n",
       "      <td>0</td>\n",
       "      <td>0</td>\n",
       "      <td>0</td>\n",
       "      <td>...</td>\n",
       "      <td>0</td>\n",
       "      <td>0</td>\n",
       "      <td>0</td>\n",
       "      <td>0</td>\n",
       "      <td>0</td>\n",
       "      <td>0</td>\n",
       "      <td>0</td>\n",
       "      <td>0</td>\n",
       "      <td>0</td>\n",
       "      <td>0</td>\n",
       "    </tr>\n",
       "    <tr>\n",
       "      <th>2</th>\n",
       "      <td>0</td>\n",
       "      <td>0</td>\n",
       "      <td>0</td>\n",
       "      <td>0</td>\n",
       "      <td>0</td>\n",
       "      <td>0</td>\n",
       "      <td>0</td>\n",
       "      <td>0</td>\n",
       "      <td>0</td>\n",
       "      <td>0</td>\n",
       "      <td>...</td>\n",
       "      <td>0</td>\n",
       "      <td>0</td>\n",
       "      <td>0</td>\n",
       "      <td>0</td>\n",
       "      <td>0</td>\n",
       "      <td>0</td>\n",
       "      <td>0</td>\n",
       "      <td>0</td>\n",
       "      <td>0</td>\n",
       "      <td>0</td>\n",
       "    </tr>\n",
       "    <tr>\n",
       "      <th>3</th>\n",
       "      <td>0</td>\n",
       "      <td>0</td>\n",
       "      <td>0</td>\n",
       "      <td>0</td>\n",
       "      <td>0</td>\n",
       "      <td>0</td>\n",
       "      <td>0</td>\n",
       "      <td>0</td>\n",
       "      <td>0</td>\n",
       "      <td>0</td>\n",
       "      <td>...</td>\n",
       "      <td>0</td>\n",
       "      <td>0</td>\n",
       "      <td>0</td>\n",
       "      <td>0</td>\n",
       "      <td>0</td>\n",
       "      <td>0</td>\n",
       "      <td>0</td>\n",
       "      <td>0</td>\n",
       "      <td>0</td>\n",
       "      <td>0</td>\n",
       "    </tr>\n",
       "    <tr>\n",
       "      <th>4</th>\n",
       "      <td>0</td>\n",
       "      <td>0</td>\n",
       "      <td>0</td>\n",
       "      <td>0</td>\n",
       "      <td>0</td>\n",
       "      <td>0</td>\n",
       "      <td>0</td>\n",
       "      <td>0</td>\n",
       "      <td>0</td>\n",
       "      <td>0</td>\n",
       "      <td>...</td>\n",
       "      <td>0</td>\n",
       "      <td>0</td>\n",
       "      <td>0</td>\n",
       "      <td>0</td>\n",
       "      <td>0</td>\n",
       "      <td>0</td>\n",
       "      <td>0</td>\n",
       "      <td>0</td>\n",
       "      <td>0</td>\n",
       "      <td>0</td>\n",
       "    </tr>\n",
       "  </tbody>\n",
       "</table>\n",
       "<p>5 rows × 2500 columns</p>\n",
       "</div>"
      ],
      "text/plain": [
       "   0     1     2     3     4     5     6     7     8     9     ...  2490  \\\n",
       "0     0     0     0     0     0     0     0     0     0     0  ...     0   \n",
       "1     0     0     0     0     0     0     0     0     0     0  ...     0   \n",
       "2     0     0     0     0     0     0     0     0     0     0  ...     0   \n",
       "3     0     0     0     0     0     0     0     0     0     0  ...     0   \n",
       "4     0     0     0     0     0     0     0     0     0     0  ...     0   \n",
       "\n",
       "   2491  2492  2493  2494  2495  2496  2497  2498  2499  \n",
       "0     0     0     0     0     0     0     0     0     0  \n",
       "1     0     0     0     0     0     0     0     0     0  \n",
       "2     0     0     0     0     0     0     0     0     0  \n",
       "3     0     0     0     0     0     0     0     0     0  \n",
       "4     0     0     0     0     0     0     0     0     0  \n",
       "\n",
       "[5 rows x 2500 columns]"
      ]
     },
     "execution_count": 93,
     "metadata": {},
     "output_type": "execute_result"
    }
   ],
   "source": [
    "matrix.head()"
   ]
  },
  {
   "cell_type": "markdown",
   "id": "a600eabf",
   "metadata": {},
   "source": [
    "##  2a, "
   ]
  },
  {
   "cell_type": "code",
   "execution_count": 94,
   "id": "70b93764",
   "metadata": {},
   "outputs": [],
   "source": [
    "def cosine_distance(x, D):\n",
    "        # first find the vector norm for each instance in D as wel as the norm for vector x\n",
    "        D_norm = np.array([np.linalg.norm(D[i]) for i in range(len(D))])\n",
    "        x_norm = np.linalg.norm(x)\n",
    "        # Compute Cosine: divide the dot product o x and each instance in D by the product of the two norms\n",
    "        sims = np.dot(D,x)/(D_norm * x_norm)\n",
    "        # The distance measure will be the inverse of Cosine similarity\n",
    "        dists = 1 - sims\n",
    "    # return the indexes of K nearest neighbors\n",
    "        return dists"
   ]
  },
  {
   "cell_type": "markdown",
   "id": "a646e54b",
   "metadata": {},
   "source": [
    "## 2b,"
   ]
  },
  {
   "cell_type": "code",
   "execution_count": 95,
   "id": "59a04820",
   "metadata": {},
   "outputs": [
    {
     "data": {
      "text/html": [
       "<div>\n",
       "<style scoped>\n",
       "    .dataframe tbody tr th:only-of-type {\n",
       "        vertical-align: middle;\n",
       "    }\n",
       "\n",
       "    .dataframe tbody tr th {\n",
       "        vertical-align: top;\n",
       "    }\n",
       "\n",
       "    .dataframe thead th {\n",
       "        text-align: right;\n",
       "    }\n",
       "</style>\n",
       "<table border=\"1\" class=\"dataframe\">\n",
       "  <thead>\n",
       "    <tr style=\"text-align: right;\">\n",
       "      <th></th>\n",
       "      <th>0</th>\n",
       "      <th>1</th>\n",
       "      <th>2</th>\n",
       "      <th>3</th>\n",
       "      <th>4</th>\n",
       "      <th>5</th>\n",
       "      <th>6</th>\n",
       "      <th>7</th>\n",
       "      <th>8</th>\n",
       "      <th>9</th>\n",
       "      <th>...</th>\n",
       "      <th>9318</th>\n",
       "      <th>9319</th>\n",
       "      <th>9320</th>\n",
       "      <th>9321</th>\n",
       "      <th>9322</th>\n",
       "      <th>9323</th>\n",
       "      <th>9324</th>\n",
       "      <th>9325</th>\n",
       "      <th>9326</th>\n",
       "      <th>9327</th>\n",
       "    </tr>\n",
       "  </thead>\n",
       "  <tbody>\n",
       "    <tr>\n",
       "      <th>0</th>\n",
       "      <td>0</td>\n",
       "      <td>0</td>\n",
       "      <td>0</td>\n",
       "      <td>0</td>\n",
       "      <td>0</td>\n",
       "      <td>0</td>\n",
       "      <td>0</td>\n",
       "      <td>0</td>\n",
       "      <td>0</td>\n",
       "      <td>0</td>\n",
       "      <td>...</td>\n",
       "      <td>0</td>\n",
       "      <td>0</td>\n",
       "      <td>0</td>\n",
       "      <td>0</td>\n",
       "      <td>0</td>\n",
       "      <td>0</td>\n",
       "      <td>0</td>\n",
       "      <td>0</td>\n",
       "      <td>0</td>\n",
       "      <td>0</td>\n",
       "    </tr>\n",
       "    <tr>\n",
       "      <th>1</th>\n",
       "      <td>0</td>\n",
       "      <td>0</td>\n",
       "      <td>0</td>\n",
       "      <td>0</td>\n",
       "      <td>0</td>\n",
       "      <td>0</td>\n",
       "      <td>0</td>\n",
       "      <td>0</td>\n",
       "      <td>0</td>\n",
       "      <td>1</td>\n",
       "      <td>...</td>\n",
       "      <td>0</td>\n",
       "      <td>0</td>\n",
       "      <td>0</td>\n",
       "      <td>0</td>\n",
       "      <td>0</td>\n",
       "      <td>0</td>\n",
       "      <td>0</td>\n",
       "      <td>0</td>\n",
       "      <td>0</td>\n",
       "      <td>0</td>\n",
       "    </tr>\n",
       "    <tr>\n",
       "      <th>2</th>\n",
       "      <td>0</td>\n",
       "      <td>0</td>\n",
       "      <td>0</td>\n",
       "      <td>0</td>\n",
       "      <td>0</td>\n",
       "      <td>0</td>\n",
       "      <td>0</td>\n",
       "      <td>0</td>\n",
       "      <td>0</td>\n",
       "      <td>0</td>\n",
       "      <td>...</td>\n",
       "      <td>0</td>\n",
       "      <td>0</td>\n",
       "      <td>0</td>\n",
       "      <td>0</td>\n",
       "      <td>0</td>\n",
       "      <td>0</td>\n",
       "      <td>0</td>\n",
       "      <td>0</td>\n",
       "      <td>0</td>\n",
       "      <td>0</td>\n",
       "    </tr>\n",
       "    <tr>\n",
       "      <th>3</th>\n",
       "      <td>0</td>\n",
       "      <td>0</td>\n",
       "      <td>0</td>\n",
       "      <td>0</td>\n",
       "      <td>0</td>\n",
       "      <td>0</td>\n",
       "      <td>0</td>\n",
       "      <td>0</td>\n",
       "      <td>0</td>\n",
       "      <td>0</td>\n",
       "      <td>...</td>\n",
       "      <td>0</td>\n",
       "      <td>0</td>\n",
       "      <td>0</td>\n",
       "      <td>0</td>\n",
       "      <td>0</td>\n",
       "      <td>0</td>\n",
       "      <td>0</td>\n",
       "      <td>0</td>\n",
       "      <td>0</td>\n",
       "      <td>0</td>\n",
       "    </tr>\n",
       "    <tr>\n",
       "      <th>4</th>\n",
       "      <td>0</td>\n",
       "      <td>0</td>\n",
       "      <td>0</td>\n",
       "      <td>0</td>\n",
       "      <td>0</td>\n",
       "      <td>0</td>\n",
       "      <td>0</td>\n",
       "      <td>0</td>\n",
       "      <td>0</td>\n",
       "      <td>0</td>\n",
       "      <td>...</td>\n",
       "      <td>0</td>\n",
       "      <td>0</td>\n",
       "      <td>0</td>\n",
       "      <td>0</td>\n",
       "      <td>0</td>\n",
       "      <td>0</td>\n",
       "      <td>0</td>\n",
       "      <td>0</td>\n",
       "      <td>0</td>\n",
       "      <td>0</td>\n",
       "    </tr>\n",
       "    <tr>\n",
       "      <th>...</th>\n",
       "      <td>...</td>\n",
       "      <td>...</td>\n",
       "      <td>...</td>\n",
       "      <td>...</td>\n",
       "      <td>...</td>\n",
       "      <td>...</td>\n",
       "      <td>...</td>\n",
       "      <td>...</td>\n",
       "      <td>...</td>\n",
       "      <td>...</td>\n",
       "      <td>...</td>\n",
       "      <td>...</td>\n",
       "      <td>...</td>\n",
       "      <td>...</td>\n",
       "      <td>...</td>\n",
       "      <td>...</td>\n",
       "      <td>...</td>\n",
       "      <td>...</td>\n",
       "      <td>...</td>\n",
       "      <td>...</td>\n",
       "      <td>...</td>\n",
       "    </tr>\n",
       "    <tr>\n",
       "      <th>2495</th>\n",
       "      <td>0</td>\n",
       "      <td>0</td>\n",
       "      <td>0</td>\n",
       "      <td>0</td>\n",
       "      <td>0</td>\n",
       "      <td>0</td>\n",
       "      <td>0</td>\n",
       "      <td>0</td>\n",
       "      <td>0</td>\n",
       "      <td>0</td>\n",
       "      <td>...</td>\n",
       "      <td>0</td>\n",
       "      <td>0</td>\n",
       "      <td>0</td>\n",
       "      <td>0</td>\n",
       "      <td>0</td>\n",
       "      <td>0</td>\n",
       "      <td>0</td>\n",
       "      <td>0</td>\n",
       "      <td>0</td>\n",
       "      <td>0</td>\n",
       "    </tr>\n",
       "    <tr>\n",
       "      <th>2496</th>\n",
       "      <td>0</td>\n",
       "      <td>0</td>\n",
       "      <td>0</td>\n",
       "      <td>0</td>\n",
       "      <td>0</td>\n",
       "      <td>0</td>\n",
       "      <td>0</td>\n",
       "      <td>0</td>\n",
       "      <td>0</td>\n",
       "      <td>0</td>\n",
       "      <td>...</td>\n",
       "      <td>0</td>\n",
       "      <td>0</td>\n",
       "      <td>0</td>\n",
       "      <td>0</td>\n",
       "      <td>0</td>\n",
       "      <td>0</td>\n",
       "      <td>0</td>\n",
       "      <td>0</td>\n",
       "      <td>0</td>\n",
       "      <td>0</td>\n",
       "    </tr>\n",
       "    <tr>\n",
       "      <th>2497</th>\n",
       "      <td>0</td>\n",
       "      <td>0</td>\n",
       "      <td>0</td>\n",
       "      <td>0</td>\n",
       "      <td>0</td>\n",
       "      <td>0</td>\n",
       "      <td>0</td>\n",
       "      <td>0</td>\n",
       "      <td>0</td>\n",
       "      <td>0</td>\n",
       "      <td>...</td>\n",
       "      <td>0</td>\n",
       "      <td>0</td>\n",
       "      <td>0</td>\n",
       "      <td>0</td>\n",
       "      <td>0</td>\n",
       "      <td>0</td>\n",
       "      <td>0</td>\n",
       "      <td>0</td>\n",
       "      <td>0</td>\n",
       "      <td>0</td>\n",
       "    </tr>\n",
       "    <tr>\n",
       "      <th>2498</th>\n",
       "      <td>0</td>\n",
       "      <td>0</td>\n",
       "      <td>0</td>\n",
       "      <td>0</td>\n",
       "      <td>0</td>\n",
       "      <td>0</td>\n",
       "      <td>0</td>\n",
       "      <td>0</td>\n",
       "      <td>0</td>\n",
       "      <td>0</td>\n",
       "      <td>...</td>\n",
       "      <td>0</td>\n",
       "      <td>0</td>\n",
       "      <td>0</td>\n",
       "      <td>0</td>\n",
       "      <td>0</td>\n",
       "      <td>0</td>\n",
       "      <td>0</td>\n",
       "      <td>0</td>\n",
       "      <td>0</td>\n",
       "      <td>0</td>\n",
       "    </tr>\n",
       "    <tr>\n",
       "      <th>2499</th>\n",
       "      <td>0</td>\n",
       "      <td>0</td>\n",
       "      <td>0</td>\n",
       "      <td>0</td>\n",
       "      <td>0</td>\n",
       "      <td>0</td>\n",
       "      <td>0</td>\n",
       "      <td>0</td>\n",
       "      <td>0</td>\n",
       "      <td>0</td>\n",
       "      <td>...</td>\n",
       "      <td>0</td>\n",
       "      <td>0</td>\n",
       "      <td>0</td>\n",
       "      <td>0</td>\n",
       "      <td>0</td>\n",
       "      <td>0</td>\n",
       "      <td>0</td>\n",
       "      <td>0</td>\n",
       "      <td>0</td>\n",
       "      <td>0</td>\n",
       "    </tr>\n",
       "  </tbody>\n",
       "</table>\n",
       "<p>2500 rows × 9328 columns</p>\n",
       "</div>"
      ],
      "text/plain": [
       "      0     1     2     3     4     5     6     7     8     9     ...  9318  \\\n",
       "0        0     0     0     0     0     0     0     0     0     0  ...     0   \n",
       "1        0     0     0     0     0     0     0     0     0     1  ...     0   \n",
       "2        0     0     0     0     0     0     0     0     0     0  ...     0   \n",
       "3        0     0     0     0     0     0     0     0     0     0  ...     0   \n",
       "4        0     0     0     0     0     0     0     0     0     0  ...     0   \n",
       "...    ...   ...   ...   ...   ...   ...   ...   ...   ...   ...  ...   ...   \n",
       "2495     0     0     0     0     0     0     0     0     0     0  ...     0   \n",
       "2496     0     0     0     0     0     0     0     0     0     0  ...     0   \n",
       "2497     0     0     0     0     0     0     0     0     0     0  ...     0   \n",
       "2498     0     0     0     0     0     0     0     0     0     0  ...     0   \n",
       "2499     0     0     0     0     0     0     0     0     0     0  ...     0   \n",
       "\n",
       "      9319  9320  9321  9322  9323  9324  9325  9326  9327  \n",
       "0        0     0     0     0     0     0     0     0     0  \n",
       "1        0     0     0     0     0     0     0     0     0  \n",
       "2        0     0     0     0     0     0     0     0     0  \n",
       "3        0     0     0     0     0     0     0     0     0  \n",
       "4        0     0     0     0     0     0     0     0     0  \n",
       "...    ...   ...   ...   ...   ...   ...   ...   ...   ...  \n",
       "2495     0     0     0     0     0     0     0     0     0  \n",
       "2496     0     0     0     0     0     0     0     0     0  \n",
       "2497     0     0     0     0     0     0     0     0     0  \n",
       "2498     0     0     0     0     0     0     0     0     0  \n",
       "2499     0     0     0     0     0     0     0     0     0  \n",
       "\n",
       "[2500 rows x 9328 columns]"
      ]
     },
     "execution_count": 95,
     "metadata": {},
     "output_type": "execute_result"
    }
   ],
   "source": [
    "######### SINCE MATRIX IS IN TERMS BY DOC ... WE CONVERT IT TO DOC BY TERMS\n",
    "doc_term_matrix= matrix.T\n",
    "doc_term_matrix"
   ]
  },
  {
   "cell_type": "code",
   "execution_count": 88,
   "id": "8402f0a5",
   "metadata": {},
   "outputs": [
    {
     "data": {
      "text/plain": [
       "numpy.matrix"
      ]
     },
     "execution_count": 88,
     "metadata": {},
     "output_type": "execute_result"
    }
   ],
   "source": [
    "matrix"
   ]
  },
  {
   "cell_type": "code",
   "execution_count": 57,
   "id": "abc59ae9",
   "metadata": {},
   "outputs": [],
   "source": [
    "#spliting model \n",
    "from sklearn.model_selection import train_test_split\n",
    "X_train_, X_test_ = train_test_split(doc_term_matrix, test_size=0.20,  random_state=99)"
   ]
  },
  {
   "cell_type": "code",
   "execution_count": 58,
   "id": "9c120515",
   "metadata": {},
   "outputs": [
    {
     "name": "stdout",
     "output_type": "stream",
     "text": [
      "9328\n",
      "2000\n"
     ]
    }
   ],
   "source": [
    "numTerms=X_train_.shape[1]\n",
    "NDocs = X_train_.shape[0]\n",
    "print(numTerms)\n",
    "print(NDocs)"
   ]
  },
  {
   "cell_type": "markdown",
   "id": "21e2d857",
   "metadata": {},
   "source": [
    "##### Compute TFxIDF"
   ]
  },
  {
   "cell_type": "code",
   "execution_count": 59,
   "id": "c9722868",
   "metadata": {},
   "outputs": [
    {
     "data": {
      "text/html": [
       "<div>\n",
       "<style scoped>\n",
       "    .dataframe tbody tr th:only-of-type {\n",
       "        vertical-align: middle;\n",
       "    }\n",
       "\n",
       "    .dataframe tbody tr th {\n",
       "        vertical-align: top;\n",
       "    }\n",
       "\n",
       "    .dataframe thead th {\n",
       "        text-align: right;\n",
       "    }\n",
       "</style>\n",
       "<table border=\"1\" class=\"dataframe\">\n",
       "  <thead>\n",
       "    <tr style=\"text-align: right;\">\n",
       "      <th></th>\n",
       "      <th>0</th>\n",
       "    </tr>\n",
       "  </thead>\n",
       "  <tbody>\n",
       "    <tr>\n",
       "      <th>0</th>\n",
       "      <td>10</td>\n",
       "    </tr>\n",
       "    <tr>\n",
       "      <th>1</th>\n",
       "      <td>6</td>\n",
       "    </tr>\n",
       "    <tr>\n",
       "      <th>2</th>\n",
       "      <td>22</td>\n",
       "    </tr>\n",
       "    <tr>\n",
       "      <th>3</th>\n",
       "      <td>9</td>\n",
       "    </tr>\n",
       "    <tr>\n",
       "      <th>4</th>\n",
       "      <td>13</td>\n",
       "    </tr>\n",
       "    <tr>\n",
       "      <th>5</th>\n",
       "      <td>9</td>\n",
       "    </tr>\n",
       "    <tr>\n",
       "      <th>6</th>\n",
       "      <td>30</td>\n",
       "    </tr>\n",
       "    <tr>\n",
       "      <th>7</th>\n",
       "      <td>3</td>\n",
       "    </tr>\n",
       "    <tr>\n",
       "      <th>8</th>\n",
       "      <td>56</td>\n",
       "    </tr>\n",
       "    <tr>\n",
       "      <th>9</th>\n",
       "      <td>172</td>\n",
       "    </tr>\n",
       "  </tbody>\n",
       "</table>\n",
       "</div>"
      ],
      "text/plain": [
       "     0\n",
       "0   10\n",
       "1    6\n",
       "2   22\n",
       "3    9\n",
       "4   13\n",
       "5    9\n",
       "6   30\n",
       "7    3\n",
       "8   56\n",
       "9  172"
      ]
     },
     "execution_count": 59,
     "metadata": {},
     "output_type": "execute_result"
    }
   ],
   "source": [
    "#creating TXXIDF\n",
    "# Note: doc frequency (df) for a term t is the number of docs in which t appears divided by total number of docs\n",
    "\n",
    "# first let's find the doc counts for each term\n",
    "DF = pd.DataFrame([(matrix!=0).sum(1)]).T\n",
    "DF.head(10)"
   ]
  },
  {
   "cell_type": "code",
   "execution_count": 60,
   "id": "4ca69c06",
   "metadata": {},
   "outputs": [
    {
     "name": "stdout",
     "output_type": "stream",
     "text": [
      "[[2000. 2000. 2000. ... 2000. 2000. 2000.]\n",
      " [2000. 2000. 2000. ... 2000. 2000. 2000.]\n",
      " [2000. 2000. 2000. ... 2000. 2000. 2000.]\n",
      " ...\n",
      " [2000. 2000. 2000. ... 2000. 2000. 2000.]\n",
      " [2000. 2000. 2000. ... 2000. 2000. 2000.]\n",
      " [2000. 2000. 2000. ... 2000. 2000. 2000.]]\n"
     ]
    },
    {
     "data": {
      "text/plain": [
       "(9328, 2500)"
      ]
     },
     "execution_count": 60,
     "metadata": {},
     "output_type": "execute_result"
    }
   ],
   "source": [
    "# Create a matrix with all entries = NDocs\n",
    "NMatrix=(np.ones(np.shape(matrix), dtype=float)*NDocs)\n",
    "np.set_printoptions(precision=2,suppress=True,linewidth=120)\n",
    "print(NMatrix)\n",
    "NMatrix.shape"
   ]
  },
  {
   "cell_type": "code",
   "execution_count": 61,
   "id": "4a319eb0",
   "metadata": {},
   "outputs": [],
   "source": [
    "# Convert each entry into IDF values\n",
    "# IDF is the log of the inverse of document frequency\n",
    "# Note that IDF is only a function of the term, so all columns will be identical.\n",
    "\n",
    "IDF = np.log2(np.divide(NMatrix, np.array(DF)))"
   ]
  },
  {
   "cell_type": "code",
   "execution_count": 62,
   "id": "f1266a08",
   "metadata": {},
   "outputs": [
    {
     "name": "stdout",
     "output_type": "stream",
     "text": [
      "[[7.64 7.64 7.64 ... 7.64 7.64 7.64]\n",
      " [8.38 8.38 8.38 ... 8.38 8.38 8.38]\n",
      " [6.51 6.51 6.51 ... 6.51 6.51 6.51]\n",
      " ...\n",
      " [9.38 9.38 9.38 ... 9.38 9.38 9.38]\n",
      " [9.38 9.38 9.38 ... 9.38 9.38 9.38]\n",
      " [8.97 8.97 8.97 ... 8.97 8.97 8.97]]\n"
     ]
    }
   ],
   "source": [
    "np.set_printoptions(precision=2,suppress=True)\n",
    "print(IDF)"
   ]
  },
  {
   "cell_type": "code",
   "execution_count": 63,
   "id": "3f927233",
   "metadata": {},
   "outputs": [
    {
     "data": {
      "text/plain": [
       "(9328, 2500)"
      ]
     },
     "execution_count": 63,
     "metadata": {},
     "output_type": "execute_result"
    }
   ],
   "source": [
    "IDF.shape"
   ]
  },
  {
   "cell_type": "code",
   "execution_count": 64,
   "id": "e8a17abd",
   "metadata": {},
   "outputs": [],
   "source": [
    "# Finally compute the TFxIDF values for each document-term entry\n",
    "TD_tfidf = matrix * IDF"
   ]
  },
  {
   "cell_type": "code",
   "execution_count": 65,
   "id": "c2f9610c",
   "metadata": {},
   "outputs": [
    {
     "data": {
      "text/html": [
       "<div>\n",
       "<style scoped>\n",
       "    .dataframe tbody tr th:only-of-type {\n",
       "        vertical-align: middle;\n",
       "    }\n",
       "\n",
       "    .dataframe tbody tr th {\n",
       "        vertical-align: top;\n",
       "    }\n",
       "\n",
       "    .dataframe thead th {\n",
       "        text-align: right;\n",
       "    }\n",
       "</style>\n",
       "<table border=\"1\" class=\"dataframe\">\n",
       "  <thead>\n",
       "    <tr style=\"text-align: right;\">\n",
       "      <th></th>\n",
       "      <th>0</th>\n",
       "      <th>1</th>\n",
       "      <th>2</th>\n",
       "      <th>3</th>\n",
       "      <th>4</th>\n",
       "      <th>5</th>\n",
       "      <th>6</th>\n",
       "      <th>7</th>\n",
       "      <th>8</th>\n",
       "      <th>9</th>\n",
       "      <th>...</th>\n",
       "      <th>2490</th>\n",
       "      <th>2491</th>\n",
       "      <th>2492</th>\n",
       "      <th>2493</th>\n",
       "      <th>2494</th>\n",
       "      <th>2495</th>\n",
       "      <th>2496</th>\n",
       "      <th>2497</th>\n",
       "      <th>2498</th>\n",
       "      <th>2499</th>\n",
       "    </tr>\n",
       "  </thead>\n",
       "  <tbody>\n",
       "    <tr>\n",
       "      <th>0</th>\n",
       "      <td>0.0</td>\n",
       "      <td>0.0</td>\n",
       "      <td>0.0</td>\n",
       "      <td>0.0</td>\n",
       "      <td>0.0</td>\n",
       "      <td>0.0</td>\n",
       "      <td>0.0</td>\n",
       "      <td>0.0</td>\n",
       "      <td>0.0</td>\n",
       "      <td>0.0</td>\n",
       "      <td>...</td>\n",
       "      <td>0.0</td>\n",
       "      <td>0.0</td>\n",
       "      <td>0.0</td>\n",
       "      <td>0.0</td>\n",
       "      <td>0.0</td>\n",
       "      <td>0.0</td>\n",
       "      <td>0.0</td>\n",
       "      <td>0.0</td>\n",
       "      <td>0.0</td>\n",
       "      <td>0.0</td>\n",
       "    </tr>\n",
       "    <tr>\n",
       "      <th>1</th>\n",
       "      <td>0.0</td>\n",
       "      <td>0.0</td>\n",
       "      <td>0.0</td>\n",
       "      <td>0.0</td>\n",
       "      <td>0.0</td>\n",
       "      <td>0.0</td>\n",
       "      <td>0.0</td>\n",
       "      <td>0.0</td>\n",
       "      <td>0.0</td>\n",
       "      <td>0.0</td>\n",
       "      <td>...</td>\n",
       "      <td>0.0</td>\n",
       "      <td>0.0</td>\n",
       "      <td>0.0</td>\n",
       "      <td>0.0</td>\n",
       "      <td>0.0</td>\n",
       "      <td>0.0</td>\n",
       "      <td>0.0</td>\n",
       "      <td>0.0</td>\n",
       "      <td>0.0</td>\n",
       "      <td>0.0</td>\n",
       "    </tr>\n",
       "    <tr>\n",
       "      <th>2</th>\n",
       "      <td>0.0</td>\n",
       "      <td>0.0</td>\n",
       "      <td>0.0</td>\n",
       "      <td>0.0</td>\n",
       "      <td>0.0</td>\n",
       "      <td>0.0</td>\n",
       "      <td>0.0</td>\n",
       "      <td>0.0</td>\n",
       "      <td>0.0</td>\n",
       "      <td>0.0</td>\n",
       "      <td>...</td>\n",
       "      <td>0.0</td>\n",
       "      <td>0.0</td>\n",
       "      <td>0.0</td>\n",
       "      <td>0.0</td>\n",
       "      <td>0.0</td>\n",
       "      <td>0.0</td>\n",
       "      <td>0.0</td>\n",
       "      <td>0.0</td>\n",
       "      <td>0.0</td>\n",
       "      <td>0.0</td>\n",
       "    </tr>\n",
       "    <tr>\n",
       "      <th>3</th>\n",
       "      <td>0.0</td>\n",
       "      <td>0.0</td>\n",
       "      <td>0.0</td>\n",
       "      <td>0.0</td>\n",
       "      <td>0.0</td>\n",
       "      <td>0.0</td>\n",
       "      <td>0.0</td>\n",
       "      <td>0.0</td>\n",
       "      <td>0.0</td>\n",
       "      <td>0.0</td>\n",
       "      <td>...</td>\n",
       "      <td>0.0</td>\n",
       "      <td>0.0</td>\n",
       "      <td>0.0</td>\n",
       "      <td>0.0</td>\n",
       "      <td>0.0</td>\n",
       "      <td>0.0</td>\n",
       "      <td>0.0</td>\n",
       "      <td>0.0</td>\n",
       "      <td>0.0</td>\n",
       "      <td>0.0</td>\n",
       "    </tr>\n",
       "    <tr>\n",
       "      <th>4</th>\n",
       "      <td>0.0</td>\n",
       "      <td>0.0</td>\n",
       "      <td>0.0</td>\n",
       "      <td>0.0</td>\n",
       "      <td>0.0</td>\n",
       "      <td>0.0</td>\n",
       "      <td>0.0</td>\n",
       "      <td>0.0</td>\n",
       "      <td>0.0</td>\n",
       "      <td>0.0</td>\n",
       "      <td>...</td>\n",
       "      <td>0.0</td>\n",
       "      <td>0.0</td>\n",
       "      <td>0.0</td>\n",
       "      <td>0.0</td>\n",
       "      <td>0.0</td>\n",
       "      <td>0.0</td>\n",
       "      <td>0.0</td>\n",
       "      <td>0.0</td>\n",
       "      <td>0.0</td>\n",
       "      <td>0.0</td>\n",
       "    </tr>\n",
       "  </tbody>\n",
       "</table>\n",
       "<p>5 rows × 2500 columns</p>\n",
       "</div>"
      ],
      "text/plain": [
       "   0     1     2     3     4     5     6     7     8     9     ...  2490  \\\n",
       "0   0.0   0.0   0.0   0.0   0.0   0.0   0.0   0.0   0.0   0.0  ...   0.0   \n",
       "1   0.0   0.0   0.0   0.0   0.0   0.0   0.0   0.0   0.0   0.0  ...   0.0   \n",
       "2   0.0   0.0   0.0   0.0   0.0   0.0   0.0   0.0   0.0   0.0  ...   0.0   \n",
       "3   0.0   0.0   0.0   0.0   0.0   0.0   0.0   0.0   0.0   0.0  ...   0.0   \n",
       "4   0.0   0.0   0.0   0.0   0.0   0.0   0.0   0.0   0.0   0.0  ...   0.0   \n",
       "\n",
       "   2491  2492  2493  2494  2495  2496  2497  2498  2499  \n",
       "0   0.0   0.0   0.0   0.0   0.0   0.0   0.0   0.0   0.0  \n",
       "1   0.0   0.0   0.0   0.0   0.0   0.0   0.0   0.0   0.0  \n",
       "2   0.0   0.0   0.0   0.0   0.0   0.0   0.0   0.0   0.0  \n",
       "3   0.0   0.0   0.0   0.0   0.0   0.0   0.0   0.0   0.0  \n",
       "4   0.0   0.0   0.0   0.0   0.0   0.0   0.0   0.0   0.0  \n",
       "\n",
       "[5 rows x 2500 columns]"
      ]
     },
     "execution_count": 65,
     "metadata": {},
     "output_type": "execute_result"
    }
   ],
   "source": [
    "TD_tfidf.head()"
   ]
  },
  {
   "cell_type": "code",
   "execution_count": 66,
   "id": "96a838d8",
   "metadata": {},
   "outputs": [
    {
     "data": {
      "text/plain": [
       "(9328, 2500)"
      ]
     },
     "execution_count": 66,
     "metadata": {},
     "output_type": "execute_result"
    }
   ],
   "source": [
    "TD_tfidf.shape"
   ]
  },
  {
   "cell_type": "code",
   "execution_count": 67,
   "id": "31ad3ae0",
   "metadata": {},
   "outputs": [],
   "source": [
    "# First transpose to get the doc by term matrix and then call kMeans to cluster the docs\n",
    "DT_tfidf = TD_tfidf.T\n",
    "DT_tfidf = np.array(DT_tfidf)"
   ]
  },
  {
   "cell_type": "code",
   "execution_count": 68,
   "id": "0e74d441",
   "metadata": {},
   "outputs": [],
   "source": [
    "#spliting model \n",
    "from sklearn.model_selection import train_test_split\n",
    "X_train_, X_test_ = train_test_split(DT_tfidf, test_size=0.20,  random_state=99)"
   ]
  },
  {
   "cell_type": "code",
   "execution_count": 96,
   "id": "1d9b64a2",
   "metadata": {},
   "outputs": [
    {
     "data": {
      "text/plain": [
       "array([1.  , 1.  , 0.99, ..., 1.  , 0.99, 0.96])"
      ]
     },
     "execution_count": 96,
     "metadata": {},
     "output_type": "execute_result"
    }
   ],
   "source": [
    "cosine_distance(X_test_[1],X_train_)"
   ]
  },
  {
   "cell_type": "markdown",
   "id": "0f1c175c",
   "metadata": {},
   "source": [
    "## 2c,"
   ]
  },
  {
   "cell_type": "code",
   "execution_count": 70,
   "id": "7a688e7e",
   "metadata": {},
   "outputs": [],
   "source": [
    "from numpy import *\n",
    "\n",
    "\n",
    "def distEuclid(vecA, vecB):\n",
    "    return sqrt(sum(power(vecA - vecB, 2))) #la.norm(vecA-vecB)\n",
    "\n",
    "def cosine_distance(x, D):\n",
    "        # first find the vector norm for each instance in D as wel as the norm for vector x\n",
    "        #D_norm = np.array([np.linalg.norm(D[i]) for i in range(len(D))])\n",
    "        x_norm = np.linalg.norm(x)\n",
    "        D_norm = np.linalg.norm(D)\n",
    "        # Compute Cosine: divide the dot product o x and each instance in D by the product of the two norms\n",
    "        sims = np.dot(D,x)/(D_norm * x_norm)\n",
    "        # The distance measure will be the inverse of Cosine similarity\n",
    "        dists = 1 - sims\n",
    "    # return the indexes of K nearest neighbors\n",
    "        return dists\n",
    "\n",
    "def randCent(dataSet, k):\n",
    "    n = shape(dataSet)[1]\n",
    "    centroids = zeros((k,n), dtype=float)\n",
    "    for j in range(n): #create random cluster centers\n",
    "        minJ = min(dataSet[:,j])\n",
    "        rangeJ = float(max(dataSet[:,j]) - minJ)\n",
    "        centroids[:,j] = minJ + rangeJ * random.rand(k)\n",
    "    return centroids \n",
    "\n",
    "def kMeans(dataSet, k, distMeas=distEuclid, createCent=randCent):\n",
    "    m = shape(dataSet)[0]\n",
    "    clusterAssment = zeros((m,2)) #create mat to assign data points \n",
    "                                  #to a centroid, also holds SE of each point\n",
    "    centroids = createCent(dataSet, k)\n",
    "    clusterChanged = True\n",
    "    cout=0\n",
    "    while clusterChanged:\n",
    "        clusterChanged = False\n",
    "        for i in range(m): #for each data point assign it to the closest centroid\n",
    "            minDist = inf; minIndex = -1\n",
    "            for j in range(k):\n",
    "                distJI = distMeas(centroids[j,:],dataSet[i,:])\n",
    "                if distJI < minDist:\n",
    "                    minDist = distJI; minIndex = j\n",
    "            if clusterAssment[i,0] != minIndex: clusterChanged = True\n",
    "            clusterAssment[i,:] = minIndex,minDist**2\n",
    "        # print centroids\n",
    "        for cent in range(k):#recalculate centroids\n",
    "            ptsInClust = dataSet[nonzero(clusterAssment[:,0]==cent)[0]] #get all the point in this cluster - Note: this was incorrect in the original distribution.\n",
    "            if(len(ptsInClust)!=0):\n",
    "                centroids[cent,:] = mean(ptsInClust, axis=0) #assign centroid to mean - Note condition was added 10/28/2013\n",
    "    return  centroids, clusterAssment\n"
   ]
  },
  {
   "cell_type": "code",
   "execution_count": 71,
   "id": "9345b91f",
   "metadata": {
    "scrolled": true
   },
   "outputs": [
    {
     "name": "stdout",
     "output_type": "stream",
     "text": [
      "Wall time: 8.55 s\n"
     ]
    }
   ],
   "source": [
    "%%time\n",
    "centr,c=kMeans(X_train_,5)"
   ]
  },
  {
   "cell_type": "code",
   "execution_count": 72,
   "id": "0ea561ce",
   "metadata": {},
   "outputs": [
    {
     "data": {
      "text/plain": [
       "(2000, 9328)"
      ]
     },
     "execution_count": 72,
     "metadata": {},
     "output_type": "execute_result"
    }
   ],
   "source": [
    "X_train_.shape"
   ]
  },
  {
   "cell_type": "code",
   "execution_count": 73,
   "id": "432bfad3",
   "metadata": {},
   "outputs": [
    {
     "name": "stdout",
     "output_type": "stream",
     "text": [
      "[0. 1. 2. 3.] [1995    2    2    1]\n"
     ]
    }
   ],
   "source": [
    "####GETTING THE NUMBER OF NUMBER IN THE CLUSTER.\n",
    "values, counts = np.unique(c[:,[0]], return_counts=True)\n",
    "print(values, counts)"
   ]
  },
  {
   "cell_type": "code",
   "execution_count": null,
   "id": "6db038a1",
   "metadata": {},
   "outputs": [],
   "source": []
  },
  {
   "cell_type": "code",
   "execution_count": null,
   "id": "3b28b564",
   "metadata": {},
   "outputs": [],
   "source": []
  },
  {
   "cell_type": "code",
   "execution_count": null,
   "id": "63deeb4c",
   "metadata": {},
   "outputs": [],
   "source": []
  },
  {
   "cell_type": "code",
   "execution_count": 75,
   "id": "3611f237",
   "metadata": {
    "scrolled": true
   },
   "outputs": [
    {
     "name": "stdout",
     "output_type": "stream",
     "text": [
      "REPORT FOR CLUSTER : 0\n",
      "Number of Documents : 1995\n",
      "----------------------------------------------\n",
      "word Term %\n",
      "['ax'] ['max'] ['subject'] ['on'] ['write'] ['god'] ['get'] ['know'] ['articl'] ['window'] \n",
      " [46926  3383  2136  1507  1269  1058   993   952   917   915] \n",
      " [23.52  1.7   1.07  0.76  0.64  0.53  0.5   0.48  0.46  0.46]\n",
      "REPORT FOR CLUSTER : 1\n",
      "Number of Documents : 2\n",
      "----------------------------------------------\n",
      "word Term %\n",
      "['franci'] ['strip'] ['algorithm'] ['captain'] ['chip'] ['escrow'] ['whaler'] ['blunder'] ['boudri'] ['cadkeycom'] \n",
      " [4 4 3 3 3 3 3 2 2 2] \n",
      " [2.  2.  1.5 1.5 1.5 1.5 1.5 1.  1.  1. ]\n",
      "REPORT FOR CLUSTER : 2\n",
      "Number of Documents : 2\n",
      "----------------------------------------------\n",
      "word Term %\n",
      "['heaven'] ['believ'] ['go'] ['hell'] ['team'] ['nhl'] ['atterlep'] ['big'] ['current'] ['die'] \n",
      " [7 6 6 5 4 3 2 2 2 2] \n",
      " [3.5 3.  3.  2.5 2.  1.5 1.  1.  1.  1. ]\n",
      "REPORT FOR CLUSTER : 3\n",
      "Number of Documents : 1\n",
      "----------------------------------------------\n",
      "word Term %\n",
      "['pgp'] ['clipper'] ['david'] ['derek'] ['mit'] ['articl'] ['atkin'] ['efforg'] ['encrypt'] ['front'] \n",
      " [4 3 3 3 3 2 2 2 2 2] \n",
      " [4. 3. 3. 3. 3. 2. 2. 2. 2. 2.]\n"
     ]
    }
   ],
   "source": [
    "cluster_all= c[:,[0]]\n",
    "all_value=[]\n",
    "index=[]\n",
    "all_ans=[]\n",
    "for i in range(len(cluster_all)):\n",
    "    for unique_all in range(len(values)):\n",
    "        #print(values[unique_all])\n",
    "        if  cluster_all[i]   ==  values[unique_all]:\n",
    "            all_value.append(values[unique_all])\n",
    "            index.append(i)\n",
    "            \n",
    "dict_1={}\n",
    "dict_2={}\n",
    "for key,value in zip(all_value,index):\n",
    "    if key not in dict_1:\n",
    "        dict_1[key]=[value]\n",
    "    else:\n",
    "        dict_1[key].append(value)\n",
    "        \n",
    "for key, value in dict_1.items():\n",
    "    for i in range(len(values)):\n",
    "        if key == values[i]:\n",
    "            bb=doc_term_matrix.iloc[value].sum(axis=0)\n",
    "            ans=bb.nlargest(10)\n",
    "            all_ans.append(ans)\n",
    "            dict_2=ans.to_dict()\n",
    "            persnt_1=(ans/counts[i])\n",
    "            print('REPORT FOR CLUSTER :', i)\n",
    "            print(\"Number of Documents :\", counts[i])\n",
    "            print(\"----------------------------------------------\")\n",
    "            print(\"word\",\"Term\",\"%\")\n",
    "            print(*terms.iloc[ans.index].values,\"\\n\",np.array(ans.values),\"\\n\",np.array(persnt_1.values))\n",
    "            #print(*terms.iloc[ans.index].values,sep = \"\\n\",*np.array(ans.values))\n",
    "\n",
    "\n"
   ]
  },
  {
   "cell_type": "code",
   "execution_count": null,
   "id": "6c588e0d",
   "metadata": {},
   "outputs": [],
   "source": []
  },
  {
   "cell_type": "markdown",
   "id": "902f54b1",
   "metadata": {},
   "source": [
    "## 2d,"
   ]
  },
  {
   "cell_type": "markdown",
   "id": "a5afa8b4",
   "metadata": {},
   "source": [
    "### Train on all dataset to evaluate model."
   ]
  },
  {
   "cell_type": "code",
   "execution_count": 76,
   "id": "7fa8b1de",
   "metadata": {},
   "outputs": [
    {
     "data": {
      "text/plain": [
       "array([[0., 0., 0., ..., 0., 0., 0.],\n",
       "       [0., 0., 0., ..., 0., 0., 0.],\n",
       "       [0., 0., 0., ..., 0., 0., 0.],\n",
       "       ...,\n",
       "       [0., 0., 0., ..., 0., 0., 0.],\n",
       "       [0., 0., 0., ..., 0., 0., 0.],\n",
       "       [0., 0., 0., ..., 0., 0., 0.]])"
      ]
     },
     "execution_count": 76,
     "metadata": {},
     "output_type": "execute_result"
    }
   ],
   "source": [
    "DT_tfidf"
   ]
  },
  {
   "cell_type": "code",
   "execution_count": 77,
   "id": "0fdff7a3",
   "metadata": {},
   "outputs": [
    {
     "data": {
      "text/plain": [
       "array([[0, 0, 0, ..., 0, 0, 0],\n",
       "       [0, 0, 0, ..., 0, 0, 0],\n",
       "       [0, 0, 0, ..., 0, 0, 0],\n",
       "       ...,\n",
       "       [0, 0, 0, ..., 0, 0, 0],\n",
       "       [0, 0, 0, ..., 0, 0, 0],\n",
       "       [0, 0, 0, ..., 0, 0, 0]], dtype=int64)"
      ]
     },
     "execution_count": 77,
     "metadata": {},
     "output_type": "execute_result"
    }
   ],
   "source": [
    "originals_DT =np.array(doc_term_matrix)\n",
    "originals_DT"
   ]
  },
  {
   "cell_type": "code",
   "execution_count": 106,
   "id": "384a4826",
   "metadata": {},
   "outputs": [
    {
     "name": "stdout",
     "output_type": "stream",
     "text": [
      "Wall time: 12.3 s\n"
     ]
    }
   ],
   "source": [
    "%%time\n",
    "#TRAIN\n",
    "centeriod_all_train,all_predicted_cluster=kMeans(DT_tfidf,5)"
   ]
  },
  {
   "cell_type": "code",
   "execution_count": 107,
   "id": "27cd7dc3",
   "metadata": {},
   "outputs": [
    {
     "name": "stdout",
     "output_type": "stream",
     "text": [
      "[0. 1. 2. 4.] [2493    3    1    3]\n"
     ]
    }
   ],
   "source": [
    "####GETTING THE NUMBER OF NUMBER IN THE CLUSTER.\n",
    "values_, counts_ = np.unique(all_predicted_cluster[:,[0]], return_counts=True)\n",
    "print(values_, counts_)"
   ]
  },
  {
   "cell_type": "code",
   "execution_count": 108,
   "id": "57e2ab9c",
   "metadata": {
    "scrolled": true
   },
   "outputs": [
    {
     "data": {
      "text/plain": [
       "array([[    0.  ,  3517.85],\n",
       "       [    0.  ,  2229.29],\n",
       "       [    0.  , 22267.72],\n",
       "       ...,\n",
       "       [    0.  ,  3171.36],\n",
       "       [    0.  ,  1095.2 ],\n",
       "       [    0.  ,  6914.32]])"
      ]
     },
     "execution_count": 108,
     "metadata": {},
     "output_type": "execute_result"
    }
   ],
   "source": [
    "all_predicted_cluster[0:2500,:]"
   ]
  },
  {
   "cell_type": "code",
   "execution_count": 109,
   "id": "fc29c880",
   "metadata": {},
   "outputs": [
    {
     "data": {
      "text/html": [
       "<div>\n",
       "<style scoped>\n",
       "    .dataframe tbody tr th:only-of-type {\n",
       "        vertical-align: middle;\n",
       "    }\n",
       "\n",
       "    .dataframe tbody tr th {\n",
       "        vertical-align: top;\n",
       "    }\n",
       "\n",
       "    .dataframe thead th {\n",
       "        text-align: right;\n",
       "    }\n",
       "</style>\n",
       "<table border=\"1\" class=\"dataframe\">\n",
       "  <thead>\n",
       "    <tr style=\"text-align: right;\">\n",
       "      <th></th>\n",
       "      <th>Cluster</th>\n",
       "      <th>error</th>\n",
       "    </tr>\n",
       "  </thead>\n",
       "  <tbody>\n",
       "    <tr>\n",
       "      <th>0</th>\n",
       "      <td>0.0</td>\n",
       "      <td>3517.845007</td>\n",
       "    </tr>\n",
       "    <tr>\n",
       "      <th>1</th>\n",
       "      <td>0.0</td>\n",
       "      <td>2229.285272</td>\n",
       "    </tr>\n",
       "    <tr>\n",
       "      <th>2</th>\n",
       "      <td>0.0</td>\n",
       "      <td>22267.724906</td>\n",
       "    </tr>\n",
       "    <tr>\n",
       "      <th>3</th>\n",
       "      <td>0.0</td>\n",
       "      <td>11436.094044</td>\n",
       "    </tr>\n",
       "    <tr>\n",
       "      <th>4</th>\n",
       "      <td>0.0</td>\n",
       "      <td>12092.535754</td>\n",
       "    </tr>\n",
       "    <tr>\n",
       "      <th>5</th>\n",
       "      <td>0.0</td>\n",
       "      <td>1125.598721</td>\n",
       "    </tr>\n",
       "    <tr>\n",
       "      <th>6</th>\n",
       "      <td>0.0</td>\n",
       "      <td>10308.982703</td>\n",
       "    </tr>\n",
       "    <tr>\n",
       "      <th>7</th>\n",
       "      <td>0.0</td>\n",
       "      <td>4162.974552</td>\n",
       "    </tr>\n",
       "    <tr>\n",
       "      <th>8</th>\n",
       "      <td>0.0</td>\n",
       "      <td>4597.178247</td>\n",
       "    </tr>\n",
       "    <tr>\n",
       "      <th>9</th>\n",
       "      <td>0.0</td>\n",
       "      <td>2438.516180</td>\n",
       "    </tr>\n",
       "  </tbody>\n",
       "</table>\n",
       "</div>"
      ],
      "text/plain": [
       "   Cluster         error\n",
       "0      0.0   3517.845007\n",
       "1      0.0   2229.285272\n",
       "2      0.0  22267.724906\n",
       "3      0.0  11436.094044\n",
       "4      0.0  12092.535754\n",
       "5      0.0   1125.598721\n",
       "6      0.0  10308.982703\n",
       "7      0.0   4162.974552\n",
       "8      0.0   4597.178247\n",
       "9      0.0   2438.516180"
      ]
     },
     "execution_count": 109,
     "metadata": {},
     "output_type": "execute_result"
    }
   ],
   "source": [
    "trained_cluster = pd.DataFrame(all_predicted_cluster, columns=[\"Cluster\", \"error\"])\n",
    "trained_cluster.head(10)"
   ]
  },
  {
   "cell_type": "code",
   "execution_count": 110,
   "id": "35bbbc1c",
   "metadata": {},
   "outputs": [],
   "source": [
    "def cluster_evalueate(predicted_cluster, original_class):\n",
    "    from collections import Counter\n",
    "    c=[]\n",
    "    cout=0\n",
    "    for i in range(len(predicted_cluster)):\n",
    "        if predicted_cluster[i]==original_class[i]:\n",
    "            cout+=1\n",
    "    return (\"completness\",cout/len(predicted_cluster))"
   ]
  },
  {
   "cell_type": "code",
   "execution_count": 111,
   "id": "607a0f67",
   "metadata": {},
   "outputs": [],
   "source": [
    "def hom_gen_evaluation(predicted_cluster, original_class):\n",
    "    from collections import Counter\n",
    "    c=[]\n",
    "    cout_=0\n",
    "    for i in range(len(predicted_cluster)):\n",
    "        if predicted_cluster[i] != original_class[i]:\n",
    "            cout_+=1\n",
    "    return (\"Homgenous\",(cout_/len(predicted_cluster))/501)"
   ]
  },
  {
   "cell_type": "code",
   "execution_count": 112,
   "id": "499bc0ae",
   "metadata": {},
   "outputs": [],
   "source": [
    "## Transfroming data \n",
    "predicted_in=np.array(trained_cluster[\"Cluster\"])\n",
    "originals_clust_in =np.array(classes[1])\n"
   ]
  },
  {
   "cell_type": "code",
   "execution_count": 113,
   "id": "0651001d",
   "metadata": {},
   "outputs": [
    {
     "data": {
      "text/plain": [
       "('completness', 0.1972)"
      ]
     },
     "execution_count": 113,
     "metadata": {},
     "output_type": "execute_result"
    }
   ],
   "source": [
    "####EVALUEATE completness\n",
    "cluster_evalueate(predicted_in,originals_clust_in)"
   ]
  },
  {
   "cell_type": "code",
   "execution_count": 114,
   "id": "cd9d1049",
   "metadata": {},
   "outputs": [
    {
     "data": {
      "text/plain": [
       "('Homgenous', 0.0016023952095808383)"
      ]
     },
     "execution_count": 114,
     "metadata": {},
     "output_type": "execute_result"
    }
   ],
   "source": [
    "####EVALUEATE Homogeneity\n",
    "hom_gen_evaluation(predicted_in,originals_clust_in)"
   ]
  },
  {
   "cell_type": "markdown",
   "id": "3033a6c6",
   "metadata": {},
   "source": [
    "### Extra Credit "
   ]
  },
  {
   "cell_type": "raw",
   "id": "980f7166",
   "metadata": {},
   "source": []
  },
  {
   "cell_type": "code",
   "execution_count": null,
   "id": "27dd645f",
   "metadata": {},
   "outputs": [],
   "source": []
  },
  {
   "cell_type": "code",
   "execution_count": 87,
   "id": "720d206c",
   "metadata": {
    "scrolled": false
   },
   "outputs": [
    {
     "name": "stdout",
     "output_type": "stream",
     "text": [
      "k_value: 4 ('completness', 0.1972) ('Homgenous', 0.0016023952095808383)\n",
      "k_value: 5 ('completness', 0.2) ('Homgenous', 0.001596806387225549)\n",
      "k_value: 6 ('completness', 0.2004) ('Homgenous', 0.001596007984031936)\n",
      "k_value: 7 ('completness', 0.0004) ('Homgenous', 0.0019952095808383236)\n",
      "k_value: 8 ('completness', 0.2004) ('Homgenous', 0.001596007984031936)\n",
      "----------------------------------------------\n",
      "k_value: 4 ('completness', 0.2012) ('Homgenous', 0.0015944111776447106)\n",
      "k_value: 5 ('completness', 0.1972) ('Homgenous', 0.0016023952095808383)\n",
      "k_value: 6 ('completness', 0.2004) ('Homgenous', 0.001596007984031936)\n",
      "k_value: 7 ('completness', 0.2016) ('Homgenous', 0.0015936127744510978)\n",
      "k_value: 8 ('completness', 0.2012) ('Homgenous', 0.0015944111776447106)\n",
      "----------------------------------------------\n",
      "k_value: 4 ('completness', 0.2004) ('Homgenous', 0.001596007984031936)\n",
      "k_value: 5 ('completness', 0.2) ('Homgenous', 0.001596806387225549)\n",
      "k_value: 6 ('completness', 0.2008) ('Homgenous', 0.0015952095808383234)\n",
      "k_value: 7 ('completness', 0.2008) ('Homgenous', 0.0015952095808383234)\n",
      "k_value: 8 ('completness', 0.2004) ('Homgenous', 0.001596007984031936)\n",
      "----------------------------------------------\n",
      "Wall time: 3min 19s\n"
     ]
    }
   ],
   "source": [
    "%%time\n",
    "k_min=4\n",
    "k_max=8\n",
    "Euclid=[]\n",
    "for i in range(3):\n",
    "    for k in range (k_min,k_max+1,1):\n",
    "        centeriod_all_train,all_predicted_cluster=kMeans(DT_tfidf,k)\n",
    "        trained_cluster = pd.DataFrame(all_predicted_cluster, columns=[\"Cluster\", \"error\"])\n",
    "        ## Transfroming data \n",
    "        predicted_in=np.array(trained_cluster[\"Cluster\"])\n",
    "        originals_clust_in =np.array(classes[1])\n",
    "        a=cluster_evalueate(predicted_in,originals_clust_in)\n",
    "        b=hom_gen_evaluation(predicted_in,originals_clust_in)\n",
    "        \n",
    "        print(\"k_value:\",k,a,b)\n",
    "    print(\"----------------------------------------------\")\n",
    "    "
   ]
  },
  {
   "cell_type": "markdown",
   "id": "8c0ea1b0",
   "metadata": {},
   "source": [
    "### For each itteration the completness and homogeneity changes they are inversely related, but they also converge"
   ]
  },
  {
   "cell_type": "markdown",
   "id": "d1a9d2bb",
   "metadata": {},
   "source": [
    "## 2e,"
   ]
  },
  {
   "cell_type": "code",
   "execution_count": 115,
   "id": "cd450549",
   "metadata": {},
   "outputs": [],
   "source": [
    "from numpy import *\n",
    "\n",
    "\n",
    "def distEuclid(vecA, vecB):\n",
    "    return sqrt(sum(power(vecA - vecB, 2))) #la.norm(vecA-vecB)\n",
    "\n",
    "def cosine_distance(x, D):\n",
    "        # first find the vector norm for each instance in D as wel as the norm for vector x\n",
    "        #D_norm = np.array([np.linalg.norm(D[i]) for i in range(len(D))])\n",
    "        x_norm = np.linalg.norm(x)\n",
    "        D_norm = np.linalg.norm(D)\n",
    "        # Compute Cosine: divide the dot product o x and each instance in D by the product of the two norms\n",
    "        sims = np.dot(D,x)/(D_norm * x_norm)\n",
    "        # The distance measure will be the inverse of Cosine similarity\n",
    "        dists = 1 - sims\n",
    "    # return the indexes of K nearest neighbors\n",
    "        return dists\n",
    "\n",
    "def randCent(dataSet, k):\n",
    "    n = shape(dataSet)[1]\n",
    "    centroids = zeros((k,n), dtype=float)\n",
    "    for j in range(n): #create random cluster centers\n",
    "        minJ = min(dataSet[:,j])\n",
    "        rangeJ = float(max(dataSet[:,j]) - minJ)\n",
    "        centroids[:,j] = minJ + rangeJ * random.rand(k)\n",
    "    return centroids \n",
    "\n",
    "def kMeans(dataSet, k, distMeas=cosine_distance, createCent=randCent):\n",
    "    m = shape(dataSet)[0]\n",
    "    clusterAssment = zeros((m,2)) #create mat to assign data points \n",
    "                                  #to a centroid, also holds SE of each point\n",
    "    centroids = createCent(dataSet, k)\n",
    "    clusterChanged = True\n",
    "    cout=0\n",
    "    while clusterChanged:\n",
    "        clusterChanged = False\n",
    "        for i in range(m): #for each data point assign it to the closest centroid\n",
    "            minDist = inf; minIndex = -1\n",
    "            for j in range(k):\n",
    "                distJI = distMeas(centroids[j,:],dataSet[i,:])\n",
    "                if distJI < minDist:\n",
    "                    minDist = distJI; minIndex = j\n",
    "            if clusterAssment[i,0] != minIndex: clusterChanged = True\n",
    "            clusterAssment[i,:] = minIndex,distJI\n",
    "        # print centroids\n",
    "        for cent in range(k):#recalculate centroids\n",
    "            ptsInClust = dataSet[nonzero(clusterAssment[:,0]==cent)[0]] #get all the point in this cluster - Note: this was incorrect in the original distribution.\n",
    "            if(len(ptsInClust)!=0):\n",
    "                centroids[cent,:] = mean(ptsInClust, axis=0) #assign centroid to mean - Note condition was added 10/28/2013\n",
    "    return  centroids, clusterAssment\n"
   ]
  },
  {
   "cell_type": "code",
   "execution_count": 116,
   "id": "5a411db0",
   "metadata": {},
   "outputs": [],
   "source": [
    "#spliting model \n",
    "from sklearn.model_selection import train_test_split\n",
    "X_train_, X_test_ = train_test_split(DT_tfidf, test_size=0.20,  random_state=99)"
   ]
  },
  {
   "cell_type": "code",
   "execution_count": 117,
   "id": "4a6f79ed",
   "metadata": {},
   "outputs": [],
   "source": [
    "centeriod_all_train,all_predicted_cluster=kMeans(X_test_,5)"
   ]
  },
  {
   "cell_type": "code",
   "execution_count": 118,
   "id": "b8ec9f42",
   "metadata": {},
   "outputs": [
    {
     "data": {
      "text/html": [
       "<div>\n",
       "<style scoped>\n",
       "    .dataframe tbody tr th:only-of-type {\n",
       "        vertical-align: middle;\n",
       "    }\n",
       "\n",
       "    .dataframe tbody tr th {\n",
       "        vertical-align: top;\n",
       "    }\n",
       "\n",
       "    .dataframe thead th {\n",
       "        text-align: right;\n",
       "    }\n",
       "</style>\n",
       "<table border=\"1\" class=\"dataframe\">\n",
       "  <thead>\n",
       "    <tr style=\"text-align: right;\">\n",
       "      <th></th>\n",
       "      <th>Cluster</th>\n",
       "      <th>COSINE SIM</th>\n",
       "    </tr>\n",
       "  </thead>\n",
       "  <tbody>\n",
       "    <tr>\n",
       "      <th>0</th>\n",
       "      <td>4.0</td>\n",
       "      <td>0.827004</td>\n",
       "    </tr>\n",
       "    <tr>\n",
       "      <th>1</th>\n",
       "      <td>4.0</td>\n",
       "      <td>0.887780</td>\n",
       "    </tr>\n",
       "    <tr>\n",
       "      <th>2</th>\n",
       "      <td>4.0</td>\n",
       "      <td>0.869878</td>\n",
       "    </tr>\n",
       "    <tr>\n",
       "      <th>3</th>\n",
       "      <td>4.0</td>\n",
       "      <td>0.936909</td>\n",
       "    </tr>\n",
       "    <tr>\n",
       "      <th>4</th>\n",
       "      <td>4.0</td>\n",
       "      <td>0.828713</td>\n",
       "    </tr>\n",
       "    <tr>\n",
       "      <th>5</th>\n",
       "      <td>4.0</td>\n",
       "      <td>0.859801</td>\n",
       "    </tr>\n",
       "    <tr>\n",
       "      <th>6</th>\n",
       "      <td>4.0</td>\n",
       "      <td>0.799488</td>\n",
       "    </tr>\n",
       "    <tr>\n",
       "      <th>7</th>\n",
       "      <td>4.0</td>\n",
       "      <td>0.918624</td>\n",
       "    </tr>\n",
       "    <tr>\n",
       "      <th>8</th>\n",
       "      <td>4.0</td>\n",
       "      <td>0.908179</td>\n",
       "    </tr>\n",
       "    <tr>\n",
       "      <th>9</th>\n",
       "      <td>4.0</td>\n",
       "      <td>0.804227</td>\n",
       "    </tr>\n",
       "  </tbody>\n",
       "</table>\n",
       "</div>"
      ],
      "text/plain": [
       "   Cluster  COSINE SIM\n",
       "0      4.0    0.827004\n",
       "1      4.0    0.887780\n",
       "2      4.0    0.869878\n",
       "3      4.0    0.936909\n",
       "4      4.0    0.828713\n",
       "5      4.0    0.859801\n",
       "6      4.0    0.799488\n",
       "7      4.0    0.918624\n",
       "8      4.0    0.908179\n",
       "9      4.0    0.804227"
      ]
     },
     "execution_count": 118,
     "metadata": {},
     "output_type": "execute_result"
    }
   ],
   "source": [
    "test_cluster = pd.DataFrame(all_predicted_cluster, columns=[\"Cluster\", \"COSINE SIM\"])\n",
    "test_cluster.head(10)"
   ]
  },
  {
   "cell_type": "code",
   "execution_count": 119,
   "id": "e428318d",
   "metadata": {},
   "outputs": [
    {
     "name": "stdout",
     "output_type": "stream",
     "text": [
      "[0. 4.] [  2 498]\n"
     ]
    }
   ],
   "source": [
    "####GETTING THE NUMBER OF NUMBER IN THE CLUSTER.\n",
    "values, counts = np.unique(all_predicted_cluster[:,[0]], return_counts=True)\n",
    "print(values, counts)\n"
   ]
  },
  {
   "cell_type": "code",
   "execution_count": null,
   "id": "aa78c251",
   "metadata": {},
   "outputs": [],
   "source": []
  },
  {
   "cell_type": "code",
   "execution_count": null,
   "id": "451fce45",
   "metadata": {},
   "outputs": [],
   "source": []
  },
  {
   "cell_type": "code",
   "execution_count": null,
   "id": "c0f0adab",
   "metadata": {},
   "outputs": [],
   "source": []
  }
 ],
 "metadata": {
  "kernelspec": {
   "display_name": "Python 3",
   "language": "python",
   "name": "python3"
  },
  "language_info": {
   "codemirror_mode": {
    "name": "ipython",
    "version": 3
   },
   "file_extension": ".py",
   "mimetype": "text/x-python",
   "name": "python",
   "nbconvert_exporter": "python",
   "pygments_lexer": "ipython3",
   "version": "3.8.8"
  }
 },
 "nbformat": 4,
 "nbformat_minor": 5
}
