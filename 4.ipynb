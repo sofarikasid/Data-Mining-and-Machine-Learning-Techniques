{
 "cells": [
  {
   "cell_type": "markdown",
   "id": "b8f9c9d3",
   "metadata": {},
   "source": [
    "# Oluwafemi Shobowale \n",
    "## HW4"
   ]
  },
  {
   "cell_type": "code",
   "execution_count": 1,
   "id": "4e3b554d",
   "metadata": {},
   "outputs": [],
   "source": [
    "import numpy as np\n",
    "import pandas as pd\n",
    "import pylab as pl\n",
    "import seaborn as sns\n",
    "import matplotlib.pyplot as plt\n",
    "%matplotlib inline"
   ]
  },
  {
   "cell_type": "code",
   "execution_count": 2,
   "id": "4be87768",
   "metadata": {},
   "outputs": [],
   "source": [
    "#load data \n",
    "image= pd.read_csv('segmentation_data.txt', header= None)\n",
    "\n",
    "image_class= pd.read_table('segmentation_classes.txt', header= None)\n",
    "\n",
    "image_name= pd.read_table('segmentation_names.txt', header= None)"
   ]
  },
  {
   "cell_type": "code",
   "execution_count": 3,
   "id": "2e8c23ef",
   "metadata": {},
   "outputs": [
    {
     "data": {
      "text/html": [
       "<div>\n",
       "<style scoped>\n",
       "    .dataframe tbody tr th:only-of-type {\n",
       "        vertical-align: middle;\n",
       "    }\n",
       "\n",
       "    .dataframe tbody tr th {\n",
       "        vertical-align: top;\n",
       "    }\n",
       "\n",
       "    .dataframe thead th {\n",
       "        text-align: right;\n",
       "    }\n",
       "</style>\n",
       "<table border=\"1\" class=\"dataframe\">\n",
       "  <thead>\n",
       "    <tr style=\"text-align: right;\">\n",
       "      <th></th>\n",
       "      <th>0</th>\n",
       "      <th>1</th>\n",
       "      <th>2</th>\n",
       "      <th>3</th>\n",
       "      <th>4</th>\n",
       "      <th>5</th>\n",
       "      <th>6</th>\n",
       "      <th>7</th>\n",
       "      <th>8</th>\n",
       "      <th>9</th>\n",
       "      <th>10</th>\n",
       "      <th>11</th>\n",
       "      <th>12</th>\n",
       "      <th>13</th>\n",
       "      <th>14</th>\n",
       "      <th>15</th>\n",
       "      <th>16</th>\n",
       "      <th>17</th>\n",
       "      <th>18</th>\n",
       "    </tr>\n",
       "  </thead>\n",
       "  <tbody>\n",
       "    <tr>\n",
       "      <th>0</th>\n",
       "      <td>110.0</td>\n",
       "      <td>189.0</td>\n",
       "      <td>9</td>\n",
       "      <td>0.0</td>\n",
       "      <td>0.0</td>\n",
       "      <td>1.000000</td>\n",
       "      <td>0.666667</td>\n",
       "      <td>1.222222</td>\n",
       "      <td>1.186342</td>\n",
       "      <td>12.925926</td>\n",
       "      <td>10.888889</td>\n",
       "      <td>9.222222</td>\n",
       "      <td>18.666668</td>\n",
       "      <td>-6.111111</td>\n",
       "      <td>-11.111111</td>\n",
       "      <td>17.222221</td>\n",
       "      <td>18.666668</td>\n",
       "      <td>0.508139</td>\n",
       "      <td>1.910864</td>\n",
       "    </tr>\n",
       "    <tr>\n",
       "      <th>1</th>\n",
       "      <td>86.0</td>\n",
       "      <td>187.0</td>\n",
       "      <td>9</td>\n",
       "      <td>0.0</td>\n",
       "      <td>0.0</td>\n",
       "      <td>1.111111</td>\n",
       "      <td>0.720082</td>\n",
       "      <td>1.444444</td>\n",
       "      <td>0.750309</td>\n",
       "      <td>13.740741</td>\n",
       "      <td>11.666667</td>\n",
       "      <td>10.333334</td>\n",
       "      <td>19.222221</td>\n",
       "      <td>-6.222222</td>\n",
       "      <td>-10.222222</td>\n",
       "      <td>16.444445</td>\n",
       "      <td>19.222221</td>\n",
       "      <td>0.463329</td>\n",
       "      <td>1.941465</td>\n",
       "    </tr>\n",
       "    <tr>\n",
       "      <th>2</th>\n",
       "      <td>225.0</td>\n",
       "      <td>244.0</td>\n",
       "      <td>9</td>\n",
       "      <td>0.0</td>\n",
       "      <td>0.0</td>\n",
       "      <td>3.388889</td>\n",
       "      <td>2.195113</td>\n",
       "      <td>3.000000</td>\n",
       "      <td>1.520234</td>\n",
       "      <td>12.259259</td>\n",
       "      <td>10.333334</td>\n",
       "      <td>9.333334</td>\n",
       "      <td>17.111110</td>\n",
       "      <td>-5.777778</td>\n",
       "      <td>-8.777778</td>\n",
       "      <td>14.555555</td>\n",
       "      <td>17.111110</td>\n",
       "      <td>0.480149</td>\n",
       "      <td>1.987902</td>\n",
       "    </tr>\n",
       "    <tr>\n",
       "      <th>3</th>\n",
       "      <td>47.0</td>\n",
       "      <td>232.0</td>\n",
       "      <td>9</td>\n",
       "      <td>0.0</td>\n",
       "      <td>0.0</td>\n",
       "      <td>1.277778</td>\n",
       "      <td>1.254621</td>\n",
       "      <td>1.000000</td>\n",
       "      <td>0.894427</td>\n",
       "      <td>12.703704</td>\n",
       "      <td>11.000000</td>\n",
       "      <td>9.000000</td>\n",
       "      <td>18.111110</td>\n",
       "      <td>-5.111111</td>\n",
       "      <td>-11.111111</td>\n",
       "      <td>16.222221</td>\n",
       "      <td>18.111110</td>\n",
       "      <td>0.500966</td>\n",
       "      <td>1.875362</td>\n",
       "    </tr>\n",
       "    <tr>\n",
       "      <th>4</th>\n",
       "      <td>97.0</td>\n",
       "      <td>186.0</td>\n",
       "      <td>9</td>\n",
       "      <td>0.0</td>\n",
       "      <td>0.0</td>\n",
       "      <td>1.166667</td>\n",
       "      <td>0.691215</td>\n",
       "      <td>1.166667</td>\n",
       "      <td>1.005540</td>\n",
       "      <td>15.592592</td>\n",
       "      <td>13.888889</td>\n",
       "      <td>11.777778</td>\n",
       "      <td>21.111110</td>\n",
       "      <td>-5.111111</td>\n",
       "      <td>-11.444445</td>\n",
       "      <td>16.555555</td>\n",
       "      <td>21.111110</td>\n",
       "      <td>0.442661</td>\n",
       "      <td>1.863654</td>\n",
       "    </tr>\n",
       "  </tbody>\n",
       "</table>\n",
       "</div>"
      ],
      "text/plain": [
       "      0      1   2    3    4         5         6         7         8   \\\n",
       "0  110.0  189.0   9  0.0  0.0  1.000000  0.666667  1.222222  1.186342   \n",
       "1   86.0  187.0   9  0.0  0.0  1.111111  0.720082  1.444444  0.750309   \n",
       "2  225.0  244.0   9  0.0  0.0  3.388889  2.195113  3.000000  1.520234   \n",
       "3   47.0  232.0   9  0.0  0.0  1.277778  1.254621  1.000000  0.894427   \n",
       "4   97.0  186.0   9  0.0  0.0  1.166667  0.691215  1.166667  1.005540   \n",
       "\n",
       "          9          10         11         12        13         14         15  \\\n",
       "0  12.925926  10.888889   9.222222  18.666668 -6.111111 -11.111111  17.222221   \n",
       "1  13.740741  11.666667  10.333334  19.222221 -6.222222 -10.222222  16.444445   \n",
       "2  12.259259  10.333334   9.333334  17.111110 -5.777778  -8.777778  14.555555   \n",
       "3  12.703704  11.000000   9.000000  18.111110 -5.111111 -11.111111  16.222221   \n",
       "4  15.592592  13.888889  11.777778  21.111110 -5.111111 -11.444445  16.555555   \n",
       "\n",
       "          16        17        18  \n",
       "0  18.666668  0.508139  1.910864  \n",
       "1  19.222221  0.463329  1.941465  \n",
       "2  17.111110  0.480149  1.987902  \n",
       "3  18.111110  0.500966  1.875362  \n",
       "4  21.111110  0.442661  1.863654  "
      ]
     },
     "execution_count": 3,
     "metadata": {},
     "output_type": "execute_result"
    }
   ],
   "source": [
    "image.head()"
   ]
  },
  {
   "cell_type": "code",
   "execution_count": 4,
   "id": "5d5ee7cb",
   "metadata": {},
   "outputs": [],
   "source": [
    "from sklearn import preprocessing\n",
    "image_copy= image.copy()\n"
   ]
  },
  {
   "cell_type": "code",
   "execution_count": 5,
   "id": "6bff0634",
   "metadata": {},
   "outputs": [],
   "source": [
    "scaler=preprocessing.MinMaxScaler()\n",
    "image_copy=scaler.fit_transform(image_copy)"
   ]
  },
  {
   "cell_type": "markdown",
   "id": "c654b5be",
   "metadata": {},
   "source": [
    "### 1b K-means"
   ]
  },
  {
   "cell_type": "code",
   "execution_count": 6,
   "id": "66f5f2f9",
   "metadata": {},
   "outputs": [
    {
     "name": "stdout",
     "output_type": "stream",
     "text": [
      "Initialization complete\n",
      "Iteration 0, inertia 699.5269595424501\n",
      "Iteration 1, inertia 378.21091176867026\n",
      "Iteration 2, inertia 368.8143298952943\n",
      "Iteration 3, inertia 366.1349066622081\n",
      "Iteration 4, inertia 364.32248040051996\n",
      "Iteration 5, inertia 363.90014429072966\n",
      "Iteration 6, inertia 363.6897674840175\n",
      "Iteration 7, inertia 363.55475663680977\n",
      "Iteration 8, inertia 363.4516643059188\n",
      "Iteration 9, inertia 363.41162304521714\n",
      "Iteration 10, inertia 363.39824331060623\n",
      "Iteration 11, inertia 363.3966490789776\n",
      "Converged at iteration 11: strict convergence.\n",
      "Initialization complete\n",
      "Iteration 0, inertia 531.7175765199975\n",
      "Iteration 1, inertia 397.6788512931182\n",
      "Iteration 2, inertia 382.10879789351475\n",
      "Iteration 3, inertia 380.26464107214474\n",
      "Iteration 4, inertia 378.65639894988567\n",
      "Iteration 5, inertia 377.5246560288681\n",
      "Iteration 6, inertia 376.2478999834529\n",
      "Iteration 7, inertia 375.0623392497739\n",
      "Iteration 8, inertia 374.25676670190006\n",
      "Iteration 9, inertia 373.89752093794954\n",
      "Iteration 10, inertia 373.6998091110988\n",
      "Iteration 11, inertia 373.5403156735001\n",
      "Iteration 12, inertia 373.4849070488886\n",
      "Iteration 13, inertia 373.44547492029676\n",
      "Iteration 14, inertia 373.39629363264726\n",
      "Iteration 15, inertia 373.38812447667436\n",
      "Iteration 16, inertia 373.3862637238981\n",
      "Converged at iteration 16: strict convergence.\n",
      "Initialization complete\n",
      "Iteration 0, inertia 529.959606829142\n",
      "Iteration 1, inertia 394.57716551191925\n",
      "Iteration 2, inertia 374.9625927568343\n",
      "Iteration 3, inertia 370.647397223901\n",
      "Iteration 4, inertia 370.05905461685563\n",
      "Iteration 5, inertia 369.8214043581602\n",
      "Iteration 6, inertia 369.74355427308393\n",
      "Iteration 7, inertia 369.6872879313717\n",
      "Iteration 8, inertia 369.6723192527431\n",
      "Iteration 9, inertia 369.65890585169234\n",
      "Iteration 10, inertia 369.65459721117014\n",
      "Converged at iteration 10: center shift 3.09132685078737e-06 within tolerance 4.150156953284628e-06.\n",
      "Initialization complete\n",
      "Iteration 0, inertia 525.504722431723\n",
      "Iteration 1, inertia 355.18922257858253\n",
      "Iteration 2, inertia 352.1189030776022\n",
      "Iteration 3, inertia 351.4723364536116\n",
      "Iteration 4, inertia 351.0336921287615\n",
      "Iteration 5, inertia 350.4835348984464\n",
      "Iteration 6, inertia 350.11079464158297\n",
      "Iteration 7, inertia 350.0461650716779\n",
      "Iteration 8, inertia 350.0266720088562\n",
      "Iteration 9, inertia 350.02186147714303\n",
      "Iteration 10, inertia 350.015474726083\n",
      "Iteration 11, inertia 350.012902719455\n",
      "Converged at iteration 11: strict convergence.\n",
      "Initialization complete\n",
      "Iteration 0, inertia 583.9009330501749\n",
      "Iteration 1, inertia 382.36162951392987\n",
      "Iteration 2, inertia 367.97919399599874\n",
      "Iteration 3, inertia 364.49717673507115\n",
      "Iteration 4, inertia 363.7362636350605\n",
      "Iteration 5, inertia 363.5481244509739\n",
      "Iteration 6, inertia 363.45997048394895\n",
      "Iteration 7, inertia 363.42068160382945\n",
      "Iteration 8, inertia 363.4035673510582\n",
      "Iteration 9, inertia 363.3977308104\n",
      "Converged at iteration 9: strict convergence.\n",
      "Initialization complete\n",
      "Iteration 0, inertia 485.23800259884575\n",
      "Iteration 1, inertia 380.22604728011345\n",
      "Iteration 2, inertia 375.0826221654154\n",
      "Iteration 3, inertia 373.5220969760689\n",
      "Iteration 4, inertia 372.45736682417646\n",
      "Iteration 5, inertia 371.85933299437346\n",
      "Iteration 6, inertia 371.50831917812906\n",
      "Iteration 7, inertia 371.4008228295982\n",
      "Iteration 8, inertia 371.34558911651084\n",
      "Iteration 9, inertia 371.3140709611183\n",
      "Iteration 10, inertia 371.26479169025754\n",
      "Iteration 11, inertia 371.17314793193674\n",
      "Iteration 12, inertia 371.0753279354526\n",
      "Iteration 13, inertia 370.98875504459096\n",
      "Iteration 14, inertia 370.96288348670447\n",
      "Iteration 15, inertia 370.9588430947095\n",
      "Converged at iteration 15: strict convergence.\n",
      "Initialization complete\n",
      "Iteration 0, inertia 465.61489516778096\n",
      "Iteration 1, inertia 381.5774317876306\n",
      "Iteration 2, inertia 377.00050289607503\n",
      "Iteration 3, inertia 375.6442436886454\n",
      "Iteration 4, inertia 374.69918826476555\n",
      "Iteration 5, inertia 373.83964885463126\n",
      "Iteration 6, inertia 373.0054217089836\n",
      "Iteration 7, inertia 372.459961683701\n",
      "Iteration 8, inertia 372.0642632625349\n",
      "Iteration 9, inertia 371.8626698700937\n",
      "Iteration 10, inertia 371.7644796286909\n",
      "Iteration 11, inertia 371.7458922227812\n",
      "Iteration 12, inertia 371.734133862711\n",
      "Iteration 13, inertia 371.72774646053426\n",
      "Iteration 14, inertia 371.72165375611564\n",
      "Iteration 15, inertia 371.7198380076443\n",
      "Converged at iteration 15: strict convergence.\n",
      "Initialization complete\n",
      "Iteration 0, inertia 521.5366296120421\n",
      "Iteration 1, inertia 394.33504780158233\n",
      "Iteration 2, inertia 383.18777387648026\n",
      "Iteration 3, inertia 376.85416806332717\n",
      "Iteration 4, inertia 369.04680749653477\n",
      "Iteration 5, inertia 360.92919025068335\n",
      "Iteration 6, inertia 353.31072960152\n",
      "Iteration 7, inertia 350.66650478481495\n",
      "Iteration 8, inertia 350.07210822918563\n",
      "Iteration 9, inertia 350.02581502607217\n",
      "Iteration 10, inertia 350.0120797410693\n",
      "Converged at iteration 10: strict convergence.\n",
      "Initialization complete\n",
      "Iteration 0, inertia 568.742002916118\n",
      "Iteration 1, inertia 370.7183039218011\n",
      "Iteration 2, inertia 357.9409461492512\n",
      "Iteration 3, inertia 352.1785429429526\n",
      "Iteration 4, inertia 350.7582036991815\n",
      "Iteration 5, inertia 350.235701289723\n",
      "Iteration 6, inertia 350.1135685772365\n",
      "Iteration 7, inertia 350.0508858733602\n",
      "Iteration 8, inertia 350.01784142881297\n",
      "Iteration 9, inertia 350.0120797410692\n",
      "Converged at iteration 9: strict convergence.\n",
      "Initialization complete\n",
      "Iteration 0, inertia 578.927044240506\n",
      "Iteration 1, inertia 401.2152052299592\n",
      "Iteration 2, inertia 375.22446064948355\n",
      "Iteration 3, inertia 368.94414003067476\n",
      "Iteration 4, inertia 366.8962384189309\n",
      "Iteration 5, inertia 365.5299600787422\n",
      "Iteration 6, inertia 363.584164756258\n",
      "Iteration 7, inertia 361.6826247304448\n",
      "Iteration 8, inertia 360.0458947176368\n",
      "Iteration 9, inertia 357.64053587559926\n",
      "Iteration 10, inertia 354.79104981215613\n",
      "Iteration 11, inertia 352.61226671223545\n",
      "Iteration 12, inertia 351.6400682938732\n",
      "Iteration 13, inertia 351.33807706285535\n",
      "Iteration 14, inertia 351.03213662982256\n",
      "Iteration 15, inertia 350.65014384299496\n",
      "Iteration 16, inertia 350.17113660916493\n",
      "Iteration 17, inertia 350.0500996895916\n",
      "Iteration 18, inertia 350.0266720088562\n",
      "Iteration 19, inertia 350.02186147714303\n",
      "Iteration 20, inertia 350.01547472608297\n",
      "Iteration 21, inertia 350.012902719455\n",
      "Converged at iteration 21: strict convergence.\n"
     ]
    }
   ],
   "source": [
    "from sklearn.cluster import KMeans \n",
    "image_kmeans = KMeans(n_clusters=7, max_iter=500, verbose=1).fit(image_copy)"
   ]
  },
  {
   "cell_type": "code",
   "execution_count": null,
   "id": "70330819",
   "metadata": {},
   "outputs": [],
   "source": []
  },
  {
   "cell_type": "code",
   "execution_count": 7,
   "id": "66422886",
   "metadata": {},
   "outputs": [],
   "source": [
    "image_cluster = image_kmeans.predict(image_copy)"
   ]
  },
  {
   "cell_type": "code",
   "execution_count": 8,
   "id": "a980ca62",
   "metadata": {},
   "outputs": [
    {
     "data": {
      "text/html": [
       "<div>\n",
       "<style scoped>\n",
       "    .dataframe tbody tr th:only-of-type {\n",
       "        vertical-align: middle;\n",
       "    }\n",
       "\n",
       "    .dataframe tbody tr th {\n",
       "        vertical-align: top;\n",
       "    }\n",
       "\n",
       "    .dataframe thead th {\n",
       "        text-align: right;\n",
       "    }\n",
       "</style>\n",
       "<table border=\"1\" class=\"dataframe\">\n",
       "  <thead>\n",
       "    <tr style=\"text-align: right;\">\n",
       "      <th></th>\n",
       "      <th>image_cluster</th>\n",
       "    </tr>\n",
       "  </thead>\n",
       "  <tbody>\n",
       "    <tr>\n",
       "      <th>0</th>\n",
       "      <td>0</td>\n",
       "    </tr>\n",
       "    <tr>\n",
       "      <th>1</th>\n",
       "      <td>0</td>\n",
       "    </tr>\n",
       "    <tr>\n",
       "      <th>2</th>\n",
       "      <td>0</td>\n",
       "    </tr>\n",
       "    <tr>\n",
       "      <th>3</th>\n",
       "      <td>0</td>\n",
       "    </tr>\n",
       "    <tr>\n",
       "      <th>4</th>\n",
       "      <td>0</td>\n",
       "    </tr>\n",
       "  </tbody>\n",
       "</table>\n",
       "</div>"
      ],
      "text/plain": [
       "   image_cluster\n",
       "0              0\n",
       "1              0\n",
       "2              0\n",
       "3              0\n",
       "4              0"
      ]
     },
     "execution_count": 8,
     "metadata": {},
     "output_type": "execute_result"
    }
   ],
   "source": [
    "image_clusters= pd.DataFrame(image_cluster, columns=[\"image_cluster\"])\n",
    "image_clusters.head()"
   ]
  },
  {
   "cell_type": "markdown",
   "id": "83614d0b",
   "metadata": {},
   "source": [
    "#### Image_kmeans_centroids"
   ]
  },
  {
   "cell_type": "code",
   "execution_count": 9,
   "id": "80d8c433",
   "metadata": {},
   "outputs": [
    {
     "data": {
      "text/html": [
       "<div>\n",
       "<style scoped>\n",
       "    .dataframe tbody tr th:only-of-type {\n",
       "        vertical-align: middle;\n",
       "    }\n",
       "\n",
       "    .dataframe tbody tr th {\n",
       "        vertical-align: top;\n",
       "    }\n",
       "\n",
       "    .dataframe thead th {\n",
       "        text-align: right;\n",
       "    }\n",
       "</style>\n",
       "<table border=\"1\" class=\"dataframe\">\n",
       "  <thead>\n",
       "    <tr style=\"text-align: right;\">\n",
       "      <th></th>\n",
       "      <th>0</th>\n",
       "      <th>1</th>\n",
       "      <th>2</th>\n",
       "      <th>3</th>\n",
       "      <th>4</th>\n",
       "      <th>5</th>\n",
       "      <th>6</th>\n",
       "      <th>7</th>\n",
       "      <th>8</th>\n",
       "      <th>9</th>\n",
       "      <th>10</th>\n",
       "      <th>11</th>\n",
       "      <th>12</th>\n",
       "      <th>13</th>\n",
       "      <th>14</th>\n",
       "      <th>15</th>\n",
       "      <th>16</th>\n",
       "      <th>17</th>\n",
       "      <th>18</th>\n",
       "    </tr>\n",
       "  </thead>\n",
       "  <tbody>\n",
       "    <tr>\n",
       "      <th>0</th>\n",
       "      <td>0.51</td>\n",
       "      <td>0.81</td>\n",
       "      <td>0.00</td>\n",
       "      <td>0.08</td>\n",
       "      <td>0.01</td>\n",
       "      <td>0.05</td>\n",
       "      <td>0.00</td>\n",
       "      <td>0.05</td>\n",
       "      <td>0.00</td>\n",
       "      <td>0.11</td>\n",
       "      <td>0.09</td>\n",
       "      <td>0.09</td>\n",
       "      <td>0.14</td>\n",
       "      <td>0.68</td>\n",
       "      <td>0.08</td>\n",
       "      <td>0.82</td>\n",
       "      <td>0.13</td>\n",
       "      <td>0.41</td>\n",
       "      <td>0.89</td>\n",
       "    </tr>\n",
       "    <tr>\n",
       "      <th>1</th>\n",
       "      <td>0.54</td>\n",
       "      <td>0.15</td>\n",
       "      <td>0.00</td>\n",
       "      <td>0.03</td>\n",
       "      <td>0.00</td>\n",
       "      <td>0.03</td>\n",
       "      <td>0.00</td>\n",
       "      <td>0.03</td>\n",
       "      <td>0.00</td>\n",
       "      <td>0.82</td>\n",
       "      <td>0.78</td>\n",
       "      <td>0.89</td>\n",
       "      <td>0.79</td>\n",
       "      <td>0.27</td>\n",
       "      <td>0.67</td>\n",
       "      <td>0.29</td>\n",
       "      <td>0.89</td>\n",
       "      <td>0.21</td>\n",
       "      <td>0.13</td>\n",
       "    </tr>\n",
       "    <tr>\n",
       "      <th>2</th>\n",
       "      <td>0.25</td>\n",
       "      <td>0.46</td>\n",
       "      <td>0.00</td>\n",
       "      <td>0.03</td>\n",
       "      <td>0.01</td>\n",
       "      <td>0.04</td>\n",
       "      <td>0.00</td>\n",
       "      <td>0.03</td>\n",
       "      <td>0.00</td>\n",
       "      <td>0.03</td>\n",
       "      <td>0.02</td>\n",
       "      <td>0.04</td>\n",
       "      <td>0.02</td>\n",
       "      <td>0.77</td>\n",
       "      <td>0.22</td>\n",
       "      <td>0.51</td>\n",
       "      <td>0.04</td>\n",
       "      <td>0.80</td>\n",
       "      <td>0.18</td>\n",
       "    </tr>\n",
       "    <tr>\n",
       "      <th>3</th>\n",
       "      <td>0.77</td>\n",
       "      <td>0.43</td>\n",
       "      <td>0.00</td>\n",
       "      <td>0.01</td>\n",
       "      <td>0.02</td>\n",
       "      <td>0.04</td>\n",
       "      <td>0.00</td>\n",
       "      <td>0.02</td>\n",
       "      <td>0.00</td>\n",
       "      <td>0.04</td>\n",
       "      <td>0.04</td>\n",
       "      <td>0.06</td>\n",
       "      <td>0.03</td>\n",
       "      <td>0.78</td>\n",
       "      <td>0.22</td>\n",
       "      <td>0.49</td>\n",
       "      <td>0.06</td>\n",
       "      <td>0.54</td>\n",
       "      <td>0.24</td>\n",
       "    </tr>\n",
       "    <tr>\n",
       "      <th>4</th>\n",
       "      <td>0.75</td>\n",
       "      <td>0.53</td>\n",
       "      <td>0.00</td>\n",
       "      <td>0.04</td>\n",
       "      <td>0.04</td>\n",
       "      <td>0.11</td>\n",
       "      <td>0.02</td>\n",
       "      <td>0.11</td>\n",
       "      <td>0.02</td>\n",
       "      <td>0.30</td>\n",
       "      <td>0.28</td>\n",
       "      <td>0.35</td>\n",
       "      <td>0.27</td>\n",
       "      <td>0.59</td>\n",
       "      <td>0.45</td>\n",
       "      <td>0.31</td>\n",
       "      <td>0.35</td>\n",
       "      <td>0.30</td>\n",
       "      <td>0.16</td>\n",
       "    </tr>\n",
       "    <tr>\n",
       "      <th>5</th>\n",
       "      <td>0.26</td>\n",
       "      <td>0.39</td>\n",
       "      <td>0.00</td>\n",
       "      <td>0.07</td>\n",
       "      <td>0.02</td>\n",
       "      <td>0.08</td>\n",
       "      <td>0.00</td>\n",
       "      <td>0.06</td>\n",
       "      <td>0.00</td>\n",
       "      <td>0.15</td>\n",
       "      <td>0.14</td>\n",
       "      <td>0.19</td>\n",
       "      <td>0.12</td>\n",
       "      <td>0.72</td>\n",
       "      <td>0.34</td>\n",
       "      <td>0.36</td>\n",
       "      <td>0.19</td>\n",
       "      <td>0.41</td>\n",
       "      <td>0.20</td>\n",
       "    </tr>\n",
       "    <tr>\n",
       "      <th>6</th>\n",
       "      <td>0.30</td>\n",
       "      <td>0.53</td>\n",
       "      <td>0.00</td>\n",
       "      <td>0.05</td>\n",
       "      <td>0.05</td>\n",
       "      <td>0.10</td>\n",
       "      <td>0.01</td>\n",
       "      <td>0.08</td>\n",
       "      <td>0.01</td>\n",
       "      <td>0.40</td>\n",
       "      <td>0.37</td>\n",
       "      <td>0.47</td>\n",
       "      <td>0.35</td>\n",
       "      <td>0.50</td>\n",
       "      <td>0.57</td>\n",
       "      <td>0.21</td>\n",
       "      <td>0.47</td>\n",
       "      <td>0.30</td>\n",
       "      <td>0.16</td>\n",
       "    </tr>\n",
       "  </tbody>\n",
       "</table>\n",
       "</div>"
      ],
      "text/plain": [
       "    0    1    2    3    4    5    6    7    8    9    10   11   12   13   14  \\\n",
       "0 0.51 0.81 0.00 0.08 0.01 0.05 0.00 0.05 0.00 0.11 0.09 0.09 0.14 0.68 0.08   \n",
       "1 0.54 0.15 0.00 0.03 0.00 0.03 0.00 0.03 0.00 0.82 0.78 0.89 0.79 0.27 0.67   \n",
       "2 0.25 0.46 0.00 0.03 0.01 0.04 0.00 0.03 0.00 0.03 0.02 0.04 0.02 0.77 0.22   \n",
       "3 0.77 0.43 0.00 0.01 0.02 0.04 0.00 0.02 0.00 0.04 0.04 0.06 0.03 0.78 0.22   \n",
       "4 0.75 0.53 0.00 0.04 0.04 0.11 0.02 0.11 0.02 0.30 0.28 0.35 0.27 0.59 0.45   \n",
       "5 0.26 0.39 0.00 0.07 0.02 0.08 0.00 0.06 0.00 0.15 0.14 0.19 0.12 0.72 0.34   \n",
       "6 0.30 0.53 0.00 0.05 0.05 0.10 0.01 0.08 0.01 0.40 0.37 0.47 0.35 0.50 0.57   \n",
       "\n",
       "    15   16   17   18  \n",
       "0 0.82 0.13 0.41 0.89  \n",
       "1 0.29 0.89 0.21 0.13  \n",
       "2 0.51 0.04 0.80 0.18  \n",
       "3 0.49 0.06 0.54 0.24  \n",
       "4 0.31 0.35 0.30 0.16  \n",
       "5 0.36 0.19 0.41 0.20  \n",
       "6 0.21 0.47 0.30 0.16  "
      ]
     },
     "execution_count": 9,
     "metadata": {},
     "output_type": "execute_result"
    }
   ],
   "source": [
    "pd.options.display.float_format='{:,.2f}'.format\n",
    "\n",
    "image_kmeans_centroids = pd.DataFrame(image_kmeans.cluster_centers_ , columns=image.columns)\n",
    "image_kmeans_centroids"
   ]
  },
  {
   "cell_type": "code",
   "execution_count": 10,
   "id": "4ebe0767",
   "metadata": {},
   "outputs": [],
   "source": [
    "cluster_view= image_kmeans_centroids\n",
    "cluster_view_ = np.array(cluster_view)"
   ]
  },
  {
   "cell_type": "code",
   "execution_count": null,
   "id": "48026006",
   "metadata": {},
   "outputs": [],
   "source": []
  },
  {
   "cell_type": "markdown",
   "id": "18ef1a80",
   "metadata": {},
   "source": [
    "## Matric"
   ]
  },
  {
   "cell_type": "code",
   "execution_count": 11,
   "id": "da7904c8",
   "metadata": {},
   "outputs": [],
   "source": [
    "from sklearn import metrics"
   ]
  },
  {
   "cell_type": "code",
   "execution_count": 12,
   "id": "7a0fa269",
   "metadata": {},
   "outputs": [
    {
     "name": "stdout",
     "output_type": "stream",
     "text": [
      "[0.57202831 0.56064636 0.46584172 0.49522097 0.57151852 0.56037254\n",
      " 0.54213796 0.41254281 0.51968142 0.46733032 0.48661677 0.49108474\n",
      " 0.58463969 0.56222519 0.37949564 0.53083575 0.54919193 0.42227935\n",
      " 0.41618572 0.40389039]\n"
     ]
    }
   ],
   "source": [
    "silhouettes = metrics.silhouette_samples(image_copy, image_cluster)\n",
    "print(silhouettes[:20])"
   ]
  },
  {
   "cell_type": "code",
   "execution_count": 13,
   "id": "56a25c36",
   "metadata": {},
   "outputs": [
    {
     "name": "stdout",
     "output_type": "stream",
     "text": [
      "0.332066475286672\n"
     ]
    }
   ],
   "source": [
    "print(silhouettes.mean())"
   ]
  },
  {
   "cell_type": "code",
   "execution_count": 14,
   "id": "e4754c69",
   "metadata": {},
   "outputs": [],
   "source": [
    "def plot_silhouettes(data, clusters, metric='euclidean'):\n",
    "    \n",
    "    from matplotlib import cm\n",
    "    from sklearn.metrics import silhouette_samples\n",
    "\n",
    "    cluster_labels = np.unique(clusters)\n",
    "    n_clusters = cluster_labels.shape[0]\n",
    "    silhouette_vals = metrics.silhouette_samples(data, clusters, metric='euclidean')\n",
    "    c_ax_lower, c_ax_upper = 0, 0\n",
    "    cticks = []\n",
    "    for i, k in enumerate(cluster_labels):\n",
    "        c_silhouette_vals = silhouette_vals[clusters == k]\n",
    "        c_silhouette_vals.sort()\n",
    "        c_ax_upper += len(c_silhouette_vals)\n",
    "        color = cm.jet(float(i) / n_clusters)\n",
    "        pl.barh(range(c_ax_lower, c_ax_upper), c_silhouette_vals, height=1.0, \n",
    "                      edgecolor='none', color=color)\n",
    "\n",
    "        cticks.append((c_ax_lower + c_ax_upper) / 2)\n",
    "        c_ax_lower += len(c_silhouette_vals)\n",
    "    \n",
    "    silhouette_avg = np.mean(silhouette_vals)\n",
    "    pl.axvline(silhouette_avg, color=\"red\", linestyle=\"--\") \n",
    "\n",
    "    pl.yticks(cticks, cluster_labels)\n",
    "    pl.ylabel('Cluster')\n",
    "    pl.xlabel('Silhouette coefficient')\n",
    "\n",
    "    pl.tight_layout()\n",
    "    #pl.savefig('images/11_04.png', dpi=300)\n",
    "    pl.show()\n",
    "    \n",
    "    return"
   ]
  },
  {
   "cell_type": "code",
   "execution_count": 15,
   "id": "0d679e83",
   "metadata": {},
   "outputs": [
    {
     "data": {
      "image/png": "[encoded data removed]",
      "text/plain": [
       "<Figure size 432x288 with 1 Axes>"
      ]
     },
     "metadata": {
      "needs_background": "light"
     },
     "output_type": "display_data"
    }
   ],
   "source": [
    "plot_silhouettes(image_copy, image_cluster)"
   ]
  },
  {
   "cell_type": "code",
   "execution_count": 16,
   "id": "4b075230",
   "metadata": {},
   "outputs": [
    {
     "data": {
      "text/plain": [
       "0.6115021163370863"
      ]
     },
     "execution_count": 16,
     "metadata": {},
     "output_type": "execute_result"
    }
   ],
   "source": [
    "metrics.homogeneity_score(image_class[1], image_clusters['image_cluster'])"
   ]
  },
  {
   "cell_type": "code",
   "execution_count": 17,
   "id": "f59a7396",
   "metadata": {},
   "outputs": [
    {
     "data": {
      "text/plain": [
       "0.6131870124853012"
      ]
     },
     "execution_count": 17,
     "metadata": {},
     "output_type": "execute_result"
    }
   ],
   "source": [
    "metrics.completeness_score(image_class[1], image_clusters['image_cluster'])"
   ]
  },
  {
   "cell_type": "code",
   "execution_count": null,
   "id": "3070e97b",
   "metadata": {},
   "outputs": [],
   "source": []
  },
  {
   "cell_type": "code",
   "execution_count": 18,
   "id": "1c0c518d",
   "metadata": {},
   "outputs": [],
   "source": [
    "from sklearn.cluster import KMeans\n",
    "from sklearn.metrics import silhouette_score\n",
    "###Finding the ideal value of K. \n",
    "Sum_of_squared_distances = []\n",
    "predircted_lables= []\n",
    "\n",
    "for k in range(2,20,1):\n",
    "    km = KMeans(n_clusters=k,\n",
    "               init='k-means++',n_init=14,max_iter=500,random_state=0)\n",
    "    km = km.fit(image_copy)\n",
    "    Sum_of_squared_distances.append(km.inertia_)\n",
    "    predircted_lables.append(km.labels_)"
   ]
  },
  {
   "cell_type": "code",
   "execution_count": 19,
   "id": "854dc0a9",
   "metadata": {},
   "outputs": [
    {
     "data": {
      "text/plain": [
       "Text(0.5, 1.0, 'Elbow Method For Optimal k')"
      ]
     },
     "execution_count": 19,
     "metadata": {},
     "output_type": "execute_result"
    },
    {
     "data": {
      "image/png": "[encoded data removed]",
      "text/plain": [
       "<Figure size 432x288 with 1 Axes>"
      ]
     },
     "metadata": {
      "needs_background": "light"
     },
     "output_type": "display_data"
    }
   ],
   "source": [
    "sns.lineplot(data=Sum_of_squared_distances)\n",
    "plt.xlabel('k')\n",
    "plt.ylabel('Sum_of_squared_distances')\n",
    "plt.title('Elbow Method For Optimal k')"
   ]
  },
  {
   "cell_type": "code",
   "execution_count": 20,
   "id": "27476634",
   "metadata": {},
   "outputs": [
    {
     "data": {
      "text/plain": [
       "array([1, 1, 1, ..., 1, 1, 1])"
      ]
     },
     "execution_count": 20,
     "metadata": {},
     "output_type": "execute_result"
    }
   ],
   "source": [
    "#Overall mean \n",
    "from statistics import mean\n",
    "#mean(mean_s)\n",
    "predircted_lables[0]"
   ]
  },
  {
   "cell_type": "code",
   "execution_count": 21,
   "id": "72ba4ca4",
   "metadata": {},
   "outputs": [],
   "source": [
    "mean_s=[]\n",
    "for i in range(len(predircted_lables)):\n",
    "    mean_silhouettes = (metrics.silhouette_samples(image_copy, predircted_lables[i])).mean()\n",
    "    mean_s.append(mean_silhouettes)\n",
    "    "
   ]
  },
  {
   "cell_type": "code",
   "execution_count": 22,
   "id": "311d5130",
   "metadata": {},
   "outputs": [
    {
     "data": {
      "text/plain": [
       "Text(0.5, 1.0, 'k')"
      ]
     },
     "execution_count": 22,
     "metadata": {},
     "output_type": "execute_result"
    },
    {
     "data": {
      "image/png": "[encoded data removed]",
      "text/plain": [
       "<Figure size 432x288 with 1 Axes>"
      ]
     },
     "metadata": {
      "needs_background": "light"
     },
     "output_type": "display_data"
    }
   ],
   "source": [
    "sns.lineplot(data=mean_s)\n",
    "plt.axhline(y = 0.3163299182249685, color = 'r', linestyle = '--')\n",
    "plt.xlabel('k')\n",
    "plt.ylabel('mean_silhouettes')\n",
    "plt.title('k')"
   ]
  },
  {
   "cell_type": "markdown",
   "id": "4a8531de",
   "metadata": {},
   "source": [
    "### The K-values above the mean line would give an above average silhouettes score. K=4 should yeild a better result. It also pass the elbow test. "
   ]
  },
  {
   "cell_type": "markdown",
   "id": "258ed42b",
   "metadata": {},
   "source": [
    "### 1D, PCA "
   ]
  },
  {
   "cell_type": "code",
   "execution_count": 23,
   "id": "451629c2",
   "metadata": {},
   "outputs": [],
   "source": [
    "\n",
    "from sklearn.decomposition import PCA\n",
    "pca = PCA()\n",
    "DTtrans = pca.fit(image_copy).transform(image_copy)"
   ]
  },
  {
   "cell_type": "code",
   "execution_count": null,
   "id": "4d9e5466",
   "metadata": {},
   "outputs": [],
   "source": []
  },
  {
   "cell_type": "code",
   "execution_count": 24,
   "id": "0d89f4c0",
   "metadata": {},
   "outputs": [],
   "source": [
    "np.set_printoptions(precision=2,suppress=True, edgeitems=5, linewidth=120)"
   ]
  },
  {
   "cell_type": "code",
   "execution_count": 25,
   "id": "a7747a96",
   "metadata": {},
   "outputs": [
    {
     "name": "stdout",
     "output_type": "stream",
     "text": [
      "[0.61 0.13 0.1  0.05 0.04 0.02 0.02 0.02 0.01 0.01 0.   0.   0.   0.   0.   0.   0.   0.   0.  ]\n"
     ]
    }
   ],
   "source": [
    "print(pca.explained_variance_ratio_)"
   ]
  },
  {
   "cell_type": "code",
   "execution_count": 26,
   "id": "58d15eb2",
   "metadata": {},
   "outputs": [],
   "source": [
    "varPercentage = pca.explained_variance_ratio_*100"
   ]
  },
  {
   "cell_type": "code",
   "execution_count": 27,
   "id": "1ee990f5",
   "metadata": {},
   "outputs": [
    {
     "data": {
      "text/plain": [
       "array([60.71, 13.2 , 10.12,  4.54,  3.55,  1.99,  1.89,  1.62,  1.07,  0.71,  0.39,  0.16,  0.05,  0.  ,  0.  ,  0.  ,\n",
       "        0.  ,  0.  ,  0.  ])"
      ]
     },
     "execution_count": 27,
     "metadata": {},
     "output_type": "execute_result"
    }
   ],
   "source": [
    "varPercentage"
   ]
  },
  {
   "cell_type": "code",
   "execution_count": 28,
   "id": "9e942764",
   "metadata": {},
   "outputs": [
    {
     "name": "stdout",
     "output_type": "stream",
     "text": [
      "[60.71423396853328, 73.91121320168928, 84.03498614256192, 88.57852534332585, 92.12588648109569, 94.11392197960623, 96.00589227704958, 97.62130108194518, 98.68690193362033, 99.39823945149534, 99.79044297671412, 99.9479432861607, 99.99685835864896, 99.99999999999994, 99.99999999999997, 99.99999999999999, 100.0, 100.00000000000001, 100.00000000000001]\n"
     ]
    }
   ],
   "source": [
    "new_list=[]\n",
    "j=0\n",
    "for i in range(0,len(varPercentage)):\n",
    "    j+=varPercentage[i]\n",
    "    new_list.append(j)\n",
    "     \n",
    "print(new_list)"
   ]
  },
  {
   "cell_type": "markdown",
   "id": "a613efb8",
   "metadata": {},
   "source": [
    "## PC= 7 would give about 95% variance in the data. "
   ]
  },
  {
   "cell_type": "code",
   "execution_count": 29,
   "id": "36513204",
   "metadata": {},
   "outputs": [
    {
     "data": {
      "image/png": "[encoded data removed]",
      "text/plain": [
       "<Figure size 432x288 with 1 Axes>"
      ]
     },
     "metadata": {
      "needs_background": "light"
     },
     "output_type": "display_data"
    }
   ],
   "source": [
    "import matplotlib\n",
    "import matplotlib.pyplot as plt\n",
    "\n",
    "fig = plt.figure()\n",
    "ax = fig.add_subplot(111)\n",
    "ax.plot(range(len(varPercentage)), varPercentage[:], marker='^')\n",
    "plt.xlabel('Principal Component Number')\n",
    "plt.ylabel('Percentage of Variance')\n",
    "plt.show()"
   ]
  },
  {
   "cell_type": "markdown",
   "id": "3ff30457",
   "metadata": {},
   "source": [
    "## Reduce Data "
   ]
  },
  {
   "cell_type": "code",
   "execution_count": 30,
   "id": "7b80651f",
   "metadata": {},
   "outputs": [],
   "source": [
    "# Alternatively, we can perform PCA decompoisition again with a specified number of PCs\n",
    "\n",
    "pca = PCA(n_components=7)\n",
    "image_reduced = pca.fit(image_copy).transform(image_copy)"
   ]
  },
  {
   "cell_type": "code",
   "execution_count": 31,
   "id": "82ef9ab3",
   "metadata": {},
   "outputs": [
    {
     "name": "stdout",
     "output_type": "stream",
     "text": [
      "[[-0.69  0.53  0.25 -0.2  -0.08  0.05 -0.05]\n",
      " [-0.67  0.51  0.34 -0.17 -0.04  0.06 -0.04]\n",
      " [-0.71  0.77 -0.16 -0.01 -0.17  0.04 -0.06]\n",
      " [-0.73  0.51  0.5  -0.06 -0.14  0.03 -0.1 ]\n",
      " [-0.64  0.53  0.3  -0.18 -0.02  0.05 -0.06]\n",
      " ...\n",
      " [-0.5  -0.26  0.27  0.11 -0.01 -0.01 -0.1 ]\n",
      " [-0.5  -0.26  0.38  0.15  0.03 -0.2   0.14]\n",
      " [-0.51 -0.13 -0.08  0.1  -0.03 -0.03 -0.11]\n",
      " [-0.48 -0.09 -0.16  0.11  0.   -0.   -0.09]\n",
      " [-0.44 -0.11 -0.05  0.15  0.02 -0.21  0.15]]\n"
     ]
    }
   ],
   "source": [
    "print(image_reduced)"
   ]
  },
  {
   "cell_type": "code",
   "execution_count": 32,
   "id": "3ab21d85",
   "metadata": {},
   "outputs": [
    {
     "name": "stdout",
     "output_type": "stream",
     "text": [
      "[[-0.69  0.53  0.25 -0.2  -0.08  0.05 -0.05]\n",
      " [-0.67  0.51  0.34 -0.17 -0.04  0.06 -0.04]\n",
      " [-0.71  0.77 -0.16 -0.01 -0.17  0.04 -0.06]\n",
      " [-0.73  0.51  0.5  -0.06 -0.14  0.03 -0.1 ]\n",
      " [-0.64  0.53  0.3  -0.18 -0.02  0.05 -0.06]\n",
      " ...\n",
      " [-0.5  -0.26  0.27  0.11 -0.01 -0.01 -0.1 ]\n",
      " [-0.5  -0.26  0.38  0.15  0.03 -0.2   0.14]\n",
      " [-0.51 -0.13 -0.08  0.1  -0.03 -0.03 -0.11]\n",
      " [-0.48 -0.09 -0.16  0.11  0.   -0.   -0.09]\n",
      " [-0.44 -0.11 -0.05  0.15  0.02 -0.21  0.15]]\n"
     ]
    }
   ],
   "source": [
    "print(DTtrans[:,:7])"
   ]
  },
  {
   "cell_type": "markdown",
   "id": "8310dbb9",
   "metadata": {},
   "source": [
    "### 1e, Perform Kmeans on reduce dimesnsion "
   ]
  },
  {
   "cell_type": "code",
   "execution_count": 33,
   "id": "22c50dd1",
   "metadata": {},
   "outputs": [
    {
     "name": "stdout",
     "output_type": "stream",
     "text": [
      "Initialization complete\n",
      "Iteration 0, inertia 504.1711144782954\n",
      "Iteration 1, inertia 322.782710341589\n",
      "Iteration 2, inertia 311.9047528377706\n",
      "Iteration 3, inertia 306.818837720451\n",
      "Iteration 4, inertia 306.06040413000403\n",
      "Iteration 5, inertia 305.80164160599696\n",
      "Iteration 6, inertia 305.66304767065753\n",
      "Iteration 7, inertia 305.6207232945564\n",
      "Iteration 8, inertia 305.61082747653825\n",
      "Converged at iteration 8: center shift 6.591583870813456e-06 within tolerance 1.0814787009154225e-05.\n",
      "Initialization complete\n",
      "Iteration 0, inertia 469.4292922167012\n",
      "Iteration 1, inertia 343.5448660693691\n",
      "Iteration 2, inertia 339.92039351025835\n",
      "Iteration 3, inertia 335.69509835781025\n",
      "Iteration 4, inertia 328.8280550084623\n",
      "Iteration 5, inertia 319.32715828654824\n",
      "Iteration 6, inertia 312.99327134525277\n",
      "Iteration 7, inertia 309.05132610533644\n",
      "Iteration 8, inertia 307.06348725203515\n",
      "Iteration 9, inertia 306.3247285724466\n",
      "Iteration 10, inertia 305.8985647958659\n",
      "Iteration 11, inertia 305.717549133883\n",
      "Iteration 12, inertia 305.64985555084775\n",
      "Iteration 13, inertia 305.63698624060953\n",
      "Iteration 14, inertia 305.6300203779306\n",
      "Converged at iteration 14: center shift 5.3581503654847265e-06 within tolerance 1.0814787009154225e-05.\n",
      "Initialization complete\n",
      "Iteration 0, inertia 522.9303621698176\n",
      "Iteration 1, inertia 327.51298672876567\n",
      "Iteration 2, inertia 310.36858027822433\n",
      "Iteration 3, inertia 299.28905838523457\n",
      "Iteration 4, inertia 291.915529964003\n",
      "Iteration 5, inertia 289.3553205319854\n",
      "Iteration 6, inertia 288.5482963126912\n",
      "Iteration 7, inertia 288.1568814975673\n",
      "Iteration 8, inertia 287.81675590203605\n",
      "Iteration 9, inertia 287.49357973158897\n",
      "Iteration 10, inertia 287.0712049992419\n",
      "Iteration 11, inertia 286.63519244621807\n",
      "Iteration 12, inertia 286.4614717464217\n",
      "Iteration 13, inertia 286.4420296108182\n",
      "Converged at iteration 13: strict convergence.\n",
      "Initialization complete\n",
      "Iteration 0, inertia 415.5994560103223\n",
      "Iteration 1, inertia 308.01374087192073\n",
      "Iteration 2, inertia 305.77522509238696\n",
      "Iteration 3, inertia 305.4185959955704\n",
      "Iteration 4, inertia 305.3460404781204\n",
      "Iteration 5, inertia 305.3353397182851\n",
      "Converged at iteration 5: center shift 2.2915925894549604e-06 within tolerance 1.0814787009154225e-05.\n",
      "Initialization complete\n",
      "Iteration 0, inertia 503.10941540430395\n",
      "Iteration 1, inertia 350.3700904503329\n",
      "Iteration 2, inertia 324.9034701831132\n",
      "Iteration 3, inertia 316.82598661223494\n",
      "Iteration 4, inertia 315.0649294234514\n",
      "Iteration 5, inertia 313.8474009738106\n",
      "Iteration 6, inertia 313.2953288693554\n",
      "Iteration 7, inertia 312.94979996903584\n",
      "Iteration 8, inertia 312.5392007094999\n",
      "Iteration 9, inertia 312.14072115549874\n",
      "Iteration 10, inertia 311.6499725203449\n",
      "Iteration 11, inertia 311.2868223878763\n",
      "Iteration 12, inertia 310.96250121407036\n",
      "Iteration 13, inertia 310.58991495639145\n",
      "Iteration 14, inertia 310.0929680814523\n",
      "Iteration 15, inertia 309.5473456214092\n",
      "Iteration 16, inertia 308.99795276220544\n",
      "Iteration 17, inertia 308.1443266745477\n",
      "Iteration 18, inertia 307.26081505060404\n",
      "Iteration 19, inertia 306.61068885319463\n",
      "Iteration 20, inertia 305.92569987993477\n",
      "Iteration 21, inertia 305.6654627672368\n",
      "Iteration 22, inertia 305.6338667030167\n",
      "Converged at iteration 22: center shift 3.4968703688359483e-06 within tolerance 1.0814787009154225e-05.\n",
      "Initialization complete\n",
      "Iteration 0, inertia 374.76234784038434\n",
      "Iteration 1, inertia 298.51671778381836\n",
      "Iteration 2, inertia 288.7361924660385\n",
      "Iteration 3, inertia 286.9656687450998\n",
      "Iteration 4, inertia 286.54886879207817\n",
      "Iteration 5, inertia 286.47342827770836\n",
      "Iteration 6, inertia 286.456944104616\n",
      "Converged at iteration 6: center shift 8.837346715247524e-06 within tolerance 1.0814787009154225e-05.\n",
      "Initialization complete\n",
      "Iteration 0, inertia 422.29694067999736\n",
      "Iteration 1, inertia 318.1651899535928\n",
      "Iteration 2, inertia 313.4061774112443\n",
      "Iteration 3, inertia 311.9739991412326\n",
      "Iteration 4, inertia 310.67937210733095\n",
      "Iteration 5, inertia 310.3815757554621\n",
      "Iteration 6, inertia 310.23093524138204\n",
      "Iteration 7, inertia 310.13789676310626\n",
      "Iteration 8, inertia 310.1220389930097\n",
      "Converged at iteration 8: strict convergence.\n",
      "Initialization complete\n",
      "Iteration 0, inertia 430.3396248283109\n",
      "Iteration 1, inertia 295.49809525923\n",
      "Iteration 2, inertia 287.8247878737907\n",
      "Iteration 3, inertia 286.8530672764928\n",
      "Iteration 4, inertia 286.5582656300067\n",
      "Iteration 5, inertia 286.4879653395873\n",
      "Iteration 6, inertia 286.46302835251055\n",
      "Iteration 7, inertia 286.45091824973224\n",
      "Iteration 8, inertia 286.44333453907007\n",
      "Converged at iteration 8: center shift 3.6064334078088687e-06 within tolerance 1.0814787009154225e-05.\n",
      "Initialization complete\n",
      "Iteration 0, inertia 456.6148833408189\n",
      "Iteration 1, inertia 314.1283906570557\n",
      "Iteration 2, inertia 308.5167641824866\n",
      "Iteration 3, inertia 307.7246985345448\n",
      "Iteration 4, inertia 307.5092214236988\n",
      "Iteration 5, inertia 307.46352812812916\n",
      "Iteration 6, inertia 307.4397478466159\n",
      "Iteration 7, inertia 307.42275652412667\n",
      "Converged at iteration 7: center shift 3.5429857582742735e-06 within tolerance 1.0814787009154225e-05.\n",
      "Initialization complete\n",
      "Iteration 0, inertia 449.12233790541393\n",
      "Iteration 1, inertia 334.81147177768145\n",
      "Iteration 2, inertia 325.23510613676075\n",
      "Iteration 3, inertia 323.3634448986014\n",
      "Iteration 4, inertia 323.01761231077137\n",
      "Iteration 5, inertia 322.82873913260016\n",
      "Iteration 6, inertia 322.3312835567898\n",
      "Iteration 7, inertia 320.96313261305244\n",
      "Iteration 8, inertia 316.6984555320751\n",
      "Iteration 9, inertia 311.8981721606633\n",
      "Iteration 10, inertia 309.1395242078281\n",
      "Iteration 11, inertia 307.2083879753785\n",
      "Iteration 12, inertia 305.81416669530614\n",
      "Iteration 13, inertia 305.6984021010465\n",
      "Iteration 14, inertia 305.63705090113325\n",
      "Iteration 15, inertia 305.6325265689981\n",
      "Converged at iteration 15: strict convergence.\n"
     ]
    }
   ],
   "source": [
    "from sklearn.cluster import KMeans \n",
    "pca_image_kmeans = KMeans(n_clusters=7, max_iter=500, verbose=1).fit(image_reduced)"
   ]
  },
  {
   "cell_type": "code",
   "execution_count": 34,
   "id": "7f3fd191",
   "metadata": {},
   "outputs": [],
   "source": [
    "image_cluster_PCA = pca_image_kmeans.predict(image_reduced)"
   ]
  },
  {
   "cell_type": "code",
   "execution_count": 35,
   "id": "903850b8",
   "metadata": {},
   "outputs": [
    {
     "name": "stdout",
     "output_type": "stream",
     "text": [
      "[ 0.59  0.57  0.48  0.51  0.59 ...  0.12  0.02 -0.03  0.17  0.08]\n"
     ]
    }
   ],
   "source": [
    "pca_silhouettes = metrics.silhouette_samples(image_reduced, image_cluster_PCA)\n",
    "print(pca_silhouettes)"
   ]
  },
  {
   "cell_type": "code",
   "execution_count": 36,
   "id": "3f6305e7",
   "metadata": {},
   "outputs": [
    {
     "data": {
      "text/plain": [
       "0.3597095797980182"
      ]
     },
     "execution_count": 36,
     "metadata": {},
     "output_type": "execute_result"
    }
   ],
   "source": [
    "pca_silhouettes.mean()"
   ]
  },
  {
   "cell_type": "code",
   "execution_count": 37,
   "id": "26a517e1",
   "metadata": {},
   "outputs": [
    {
     "data": {
      "image/png": "[encoded data removed]",
      "text/plain": [
       "<Figure size 432x288 with 1 Axes>"
      ]
     },
     "metadata": {
      "needs_background": "light"
     },
     "output_type": "display_data"
    }
   ],
   "source": [
    "plot_silhouettes(image_reduced, image_cluster_PCA)"
   ]
  },
  {
   "cell_type": "code",
   "execution_count": 38,
   "id": "9af1dd1a",
   "metadata": {},
   "outputs": [
    {
     "data": {
      "text/plain": [
       "0.6099736092174177"
      ]
     },
     "execution_count": 38,
     "metadata": {},
     "output_type": "execute_result"
    }
   ],
   "source": [
    "metrics.homogeneity_score(image_class[1], image_cluster_PCA)"
   ]
  },
  {
   "cell_type": "code",
   "execution_count": 39,
   "id": "a8540f0a",
   "metadata": {},
   "outputs": [
    {
     "data": {
      "text/plain": [
       "0.6115749269916773"
      ]
     },
     "execution_count": 39,
     "metadata": {},
     "output_type": "execute_result"
    }
   ],
   "source": [
    "metrics.completeness_score(image_class[1], image_cluster_PCA)"
   ]
  },
  {
   "cell_type": "code",
   "execution_count": null,
   "id": "8c53cf5e",
   "metadata": {},
   "outputs": [],
   "source": []
  },
  {
   "cell_type": "markdown",
   "id": "0d8914a2",
   "metadata": {},
   "source": [
    "### The average silhouettes score increased by 4% the homogeneity of the model and completness also increased. "
   ]
  },
  {
   "cell_type": "code",
   "execution_count": 40,
   "id": "2d4fa04b",
   "metadata": {},
   "outputs": [],
   "source": [
    "from numpy import *\n",
    "from numpy import linalg as la"
   ]
  },
  {
   "cell_type": "markdown",
   "id": "ecd1cd8b",
   "metadata": {},
   "source": [
    "### 2"
   ]
  },
  {
   "cell_type": "code",
   "execution_count": 41,
   "id": "483af937",
   "metadata": {},
   "outputs": [],
   "source": [
    "jokes = pd.read_csv(\"jokes.csv\", usecols=[1], header= None )\n",
    "joke_1 = pd.read_csv(\"modified_jester_data.csv\", header= None )"
   ]
  },
  {
   "cell_type": "code",
   "execution_count": 42,
   "id": "32e3d5aa",
   "metadata": {},
   "outputs": [
    {
     "data": {
      "text/html": [
       "<div>\n",
       "<style scoped>\n",
       "    .dataframe tbody tr th:only-of-type {\n",
       "        vertical-align: middle;\n",
       "    }\n",
       "\n",
       "    .dataframe tbody tr th {\n",
       "        vertical-align: top;\n",
       "    }\n",
       "\n",
       "    .dataframe thead th {\n",
       "        text-align: right;\n",
       "    }\n",
       "</style>\n",
       "<table border=\"1\" class=\"dataframe\">\n",
       "  <thead>\n",
       "    <tr style=\"text-align: right;\">\n",
       "      <th></th>\n",
       "      <th>1</th>\n",
       "    </tr>\n",
       "  </thead>\n",
       "  <tbody>\n",
       "    <tr>\n",
       "      <th>0</th>\n",
       "      <td>A man visits the doctor. The doctor says \"I ha...</td>\n",
       "    </tr>\n",
       "    <tr>\n",
       "      <th>1</th>\n",
       "      <td>This couple had an excellent relationship goin...</td>\n",
       "    </tr>\n",
       "    <tr>\n",
       "      <th>2</th>\n",
       "      <td>Q. What's 200 feet long and has 4 teeth? A. Th...</td>\n",
       "    </tr>\n",
       "    <tr>\n",
       "      <th>3</th>\n",
       "      <td>Q. What's the difference between a man and a t...</td>\n",
       "    </tr>\n",
       "    <tr>\n",
       "      <th>4</th>\n",
       "      <td>Q. What's O. J. Simpson's Internet address? A....</td>\n",
       "    </tr>\n",
       "  </tbody>\n",
       "</table>\n",
       "</div>"
      ],
      "text/plain": [
       "                                                   1\n",
       "0  A man visits the doctor. The doctor says \"I ha...\n",
       "1  This couple had an excellent relationship goin...\n",
       "2  Q. What's 200 feet long and has 4 teeth? A. Th...\n",
       "3  Q. What's the difference between a man and a t...\n",
       "4  Q. What's O. J. Simpson's Internet address? A...."
      ]
     },
     "execution_count": 42,
     "metadata": {},
     "output_type": "execute_result"
    }
   ],
   "source": [
    "jokes.head()"
   ]
  },
  {
   "cell_type": "code",
   "execution_count": 43,
   "id": "7172b548",
   "metadata": {},
   "outputs": [
    {
     "data": {
      "text/html": [
       "<div>\n",
       "<style scoped>\n",
       "    .dataframe tbody tr th:only-of-type {\n",
       "        vertical-align: middle;\n",
       "    }\n",
       "\n",
       "    .dataframe tbody tr th {\n",
       "        vertical-align: top;\n",
       "    }\n",
       "\n",
       "    .dataframe thead th {\n",
       "        text-align: right;\n",
       "    }\n",
       "</style>\n",
       "<table border=\"1\" class=\"dataframe\">\n",
       "  <thead>\n",
       "    <tr style=\"text-align: right;\">\n",
       "      <th></th>\n",
       "      <th>0</th>\n",
       "      <th>1</th>\n",
       "      <th>2</th>\n",
       "      <th>3</th>\n",
       "      <th>4</th>\n",
       "      <th>5</th>\n",
       "      <th>6</th>\n",
       "      <th>7</th>\n",
       "      <th>8</th>\n",
       "      <th>9</th>\n",
       "      <th>...</th>\n",
       "      <th>90</th>\n",
       "      <th>91</th>\n",
       "      <th>92</th>\n",
       "      <th>93</th>\n",
       "      <th>94</th>\n",
       "      <th>95</th>\n",
       "      <th>96</th>\n",
       "      <th>97</th>\n",
       "      <th>98</th>\n",
       "      <th>99</th>\n",
       "    </tr>\n",
       "  </thead>\n",
       "  <tbody>\n",
       "    <tr>\n",
       "      <th>0</th>\n",
       "      <td>3.18</td>\n",
       "      <td>19.79</td>\n",
       "      <td>1.34</td>\n",
       "      <td>2.84</td>\n",
       "      <td>3.48</td>\n",
       "      <td>2.50</td>\n",
       "      <td>1.15</td>\n",
       "      <td>15.17</td>\n",
       "      <td>2.02</td>\n",
       "      <td>6.24</td>\n",
       "      <td>...</td>\n",
       "      <td>13.82</td>\n",
       "      <td>0.00</td>\n",
       "      <td>0.00</td>\n",
       "      <td>0.00</td>\n",
       "      <td>0.00</td>\n",
       "      <td>0.00</td>\n",
       "      <td>5.37</td>\n",
       "      <td>0.00</td>\n",
       "      <td>0.00</td>\n",
       "      <td>0.00</td>\n",
       "    </tr>\n",
       "    <tr>\n",
       "      <th>1</th>\n",
       "      <td>15.08</td>\n",
       "      <td>10.71</td>\n",
       "      <td>17.36</td>\n",
       "      <td>15.37</td>\n",
       "      <td>8.62</td>\n",
       "      <td>1.34</td>\n",
       "      <td>10.27</td>\n",
       "      <td>5.66</td>\n",
       "      <td>19.88</td>\n",
       "      <td>20.22</td>\n",
       "      <td>...</td>\n",
       "      <td>13.82</td>\n",
       "      <td>6.05</td>\n",
       "      <td>10.71</td>\n",
       "      <td>18.86</td>\n",
       "      <td>10.81</td>\n",
       "      <td>8.86</td>\n",
       "      <td>14.06</td>\n",
       "      <td>11.34</td>\n",
       "      <td>6.68</td>\n",
       "      <td>12.07</td>\n",
       "    </tr>\n",
       "    <tr>\n",
       "      <th>2</th>\n",
       "      <td>0.00</td>\n",
       "      <td>0.00</td>\n",
       "      <td>0.00</td>\n",
       "      <td>0.00</td>\n",
       "      <td>20.03</td>\n",
       "      <td>20.27</td>\n",
       "      <td>20.03</td>\n",
       "      <td>20.27</td>\n",
       "      <td>0.00</td>\n",
       "      <td>0.00</td>\n",
       "      <td>...</td>\n",
       "      <td>0.00</td>\n",
       "      <td>0.00</td>\n",
       "      <td>0.00</td>\n",
       "      <td>20.08</td>\n",
       "      <td>0.00</td>\n",
       "      <td>0.00</td>\n",
       "      <td>0.00</td>\n",
       "      <td>0.00</td>\n",
       "      <td>0.00</td>\n",
       "      <td>0.00</td>\n",
       "    </tr>\n",
       "    <tr>\n",
       "      <th>3</th>\n",
       "      <td>0.00</td>\n",
       "      <td>19.35</td>\n",
       "      <td>0.00</td>\n",
       "      <td>0.00</td>\n",
       "      <td>12.80</td>\n",
       "      <td>19.16</td>\n",
       "      <td>8.18</td>\n",
       "      <td>17.21</td>\n",
       "      <td>0.00</td>\n",
       "      <td>12.84</td>\n",
       "      <td>...</td>\n",
       "      <td>0.00</td>\n",
       "      <td>0.00</td>\n",
       "      <td>0.00</td>\n",
       "      <td>11.53</td>\n",
       "      <td>0.00</td>\n",
       "      <td>0.00</td>\n",
       "      <td>0.00</td>\n",
       "      <td>0.00</td>\n",
       "      <td>0.00</td>\n",
       "      <td>0.00</td>\n",
       "    </tr>\n",
       "    <tr>\n",
       "      <th>4</th>\n",
       "      <td>19.50</td>\n",
       "      <td>15.61</td>\n",
       "      <td>6.83</td>\n",
       "      <td>5.61</td>\n",
       "      <td>12.36</td>\n",
       "      <td>12.60</td>\n",
       "      <td>18.04</td>\n",
       "      <td>15.61</td>\n",
       "      <td>10.56</td>\n",
       "      <td>16.73</td>\n",
       "      <td>...</td>\n",
       "      <td>16.19</td>\n",
       "      <td>16.58</td>\n",
       "      <td>15.27</td>\n",
       "      <td>16.19</td>\n",
       "      <td>16.73</td>\n",
       "      <td>12.55</td>\n",
       "      <td>14.11</td>\n",
       "      <td>17.55</td>\n",
       "      <td>12.80</td>\n",
       "      <td>12.60</td>\n",
       "    </tr>\n",
       "  </tbody>\n",
       "</table>\n",
       "<p>5 rows × 100 columns</p>\n",
       "</div>"
      ],
      "text/plain": [
       "     0     1     2     3     4     5     6     7     8     9   ...    90  \\\n",
       "0  3.18 19.79  1.34  2.84  3.48  2.50  1.15 15.17  2.02  6.24  ... 13.82   \n",
       "1 15.08 10.71 17.36 15.37  8.62  1.34 10.27  5.66 19.88 20.22  ... 13.82   \n",
       "2  0.00  0.00  0.00  0.00 20.03 20.27 20.03 20.27  0.00  0.00  ...  0.00   \n",
       "3  0.00 19.35  0.00  0.00 12.80 19.16  8.18 17.21  0.00 12.84  ...  0.00   \n",
       "4 19.50 15.61  6.83  5.61 12.36 12.60 18.04 15.61 10.56 16.73  ... 16.19   \n",
       "\n",
       "     91    92    93    94    95    96    97    98    99  \n",
       "0  0.00  0.00  0.00  0.00  0.00  5.37  0.00  0.00  0.00  \n",
       "1  6.05 10.71 18.86 10.81  8.86 14.06 11.34  6.68 12.07  \n",
       "2  0.00  0.00 20.08  0.00  0.00  0.00  0.00  0.00  0.00  \n",
       "3  0.00  0.00 11.53  0.00  0.00  0.00  0.00  0.00  0.00  \n",
       "4 16.58 15.27 16.19 16.73 12.55 14.11 17.55 12.80 12.60  \n",
       "\n",
       "[5 rows x 100 columns]"
      ]
     },
     "execution_count": 43,
     "metadata": {},
     "output_type": "execute_result"
    }
   ],
   "source": [
    "joke_1.head()"
   ]
  },
  {
   "cell_type": "code",
   "execution_count": 44,
   "id": "9a7c27da",
   "metadata": {},
   "outputs": [],
   "source": [
    "def get_joke_text(jokes, id):\n",
    "    return np.array(jokes)[id]"
   ]
  },
  {
   "cell_type": "code",
   "execution_count": 45,
   "id": "520a0fa8",
   "metadata": {},
   "outputs": [
    {
     "name": "stdout",
     "output_type": "stream",
     "text": [
      "[\"Q: What's the difference between greeting a Queen and greeting thePresident of the United  States?A: You only have to get on one knee to greet the queen.\"]\n"
     ]
    }
   ],
   "source": [
    "print(get_joke_text(jokes, 99))"
   ]
  },
  {
   "cell_type": "code",
   "execution_count": 46,
   "id": "1c7f2538",
   "metadata": {},
   "outputs": [],
   "source": [
    "from numpy import *\n",
    "from numpy import linalg as la\n",
    "import numpy as np\n",
    "\n",
    "def euclidSim(inA,inB):\n",
    "    return 1.0 / (1.0 + la.norm(inA - inB))\n",
    "\n",
    "def pearsonSim(inA,inB):\n",
    "    if len(inA) < 3 : return 1.0\n",
    "    return 0.5 + 0.5 * corrcoef(inA, inB, rowvar = 0)[0][1]\n",
    "\n",
    "def cosineSim(inA,inB):\n",
    "    num = float(inA.T * inB)\n",
    "    denom = la.norm(inA)*la.norm(inB)\n",
    "    return 0.5 + 0.5 * (num / denom)"
   ]
  },
  {
   "cell_type": "code",
   "execution_count": 47,
   "id": "cc06fb4e",
   "metadata": {},
   "outputs": [],
   "source": [
    "def standEst(dataMat, user, simMeas, item):\n",
    "    n = shape(dataMat)[1]\n",
    "    simTotal = 0.0; ratSimTotal = 0.0\n",
    "    for j in range(n):\n",
    "        userRating = dataMat[user,j]\n",
    "        if userRating == 0: \n",
    "            continue\n",
    "        overLap = nonzero(logical_and(dataMat[:,item]>0, dataMat[:,j]>0))[0]\n",
    "        if len(overLap) == 0: \n",
    "            similarity = 0\n",
    "        else: \n",
    "            similarity = simMeas(dataMat[overLap,item], dataMat[overLap,j])\n",
    "        #print('the %d and %d similarity is: %f' % (item, j, similarity))\n",
    "        simTotal += similarity\n",
    "        ratSimTotal += similarity * userRating\n",
    "    if simTotal == 0: return 0\n",
    "    else: return ratSimTotal/simTotal"
   ]
  },
  {
   "cell_type": "code",
   "execution_count": null,
   "id": "cb813785",
   "metadata": {},
   "outputs": [],
   "source": []
  },
  {
   "cell_type": "code",
   "execution_count": 48,
   "id": "b6ec19b4",
   "metadata": {},
   "outputs": [],
   "source": [
    "def svdEst(dataMat, user, simMeas, item):\n",
    "    n = shape(dataMat)[1]\n",
    "    k = 4 #number of dimension for SVD\n",
    "    simTotal = 0.0; ratSimTotal = 0.0\n",
    "    data=mat(dataMat)\n",
    "    U,Sigma,VT = la.svd(data)\n",
    "    Sig_k = mat(eye(k)*Sigma[:k]) #arrange Sig_k into a diagonal matrix\n",
    "    xformedItems = data.T * U[:,:k] * Sig_k.I  #create transformed items\n",
    "    for j in range(n):\n",
    "        userRating = data[user,j]\n",
    "        if userRating == 0 or j==item: continue\n",
    "        similarity = simMeas(xformedItems[item,:].T, xformedItems[j,:].T)\n",
    "        #print('the %d and %d similarity is: %f' % (item, j, similarity))\n",
    "        simTotal += similarity\n",
    "        ratSimTotal += similarity * userRating\n",
    "    if simTotal == 0: return 0\n",
    "    else: return ratSimTotal/simTotal"
   ]
  },
  {
   "cell_type": "code",
   "execution_count": 49,
   "id": "c7aae906",
   "metadata": {},
   "outputs": [],
   "source": [
    "def recommend(dataMat, user, N, simMeas=pearsonSim, estMethod=standEst):\n",
    "    unratedItems = nonzero(dataMat[user,:].A==0)[1] #find unrated items \n",
    "    if len(unratedItems) == 0: return 'you rated everything'\n",
    "    itemScores = []\n",
    "    for item in unratedItems:\n",
    "        estimatedScore = estMethod(dataMat, user, simMeas, item)\n",
    "        itemScores.append((item, estimatedScore))\n",
    "    return sorted(itemScores, key=lambda jj: jj[1], reverse=True)[:N]"
   ]
  },
  {
   "cell_type": "code",
   "execution_count": null,
   "id": "f0bedc15",
   "metadata": {},
   "outputs": [],
   "source": []
  },
  {
   "cell_type": "code",
   "execution_count": null,
   "id": "fab73cfd",
   "metadata": {},
   "outputs": [],
   "source": []
  },
  {
   "cell_type": "code",
   "execution_count": 50,
   "id": "7df3486c",
   "metadata": {},
   "outputs": [],
   "source": [
    "def loadData():\n",
    "    M = joke_1\n",
    "    return(np.mat(M))"
   ]
  },
  {
   "cell_type": "code",
   "execution_count": 51,
   "id": "7bad2eb0",
   "metadata": {},
   "outputs": [
    {
     "name": "stdout",
     "output_type": "stream",
     "text": [
      "[[ 3.18 19.79  1.34  2.84  3.48 ...  0.    5.37  0.    0.    0.  ]\n",
      " [15.08 10.71 17.36 15.37  8.62 ...  8.86 14.06 11.34  6.68 12.07]\n",
      " [ 0.    0.    0.    0.   20.03 ...  0.    0.    0.    0.    0.  ]\n",
      " [ 0.   19.35  0.    0.   12.8  ...  0.    0.    0.    0.    0.  ]\n",
      " [19.5  15.61  6.83  5.61 12.36 ... 12.55 14.11 17.55 12.8  12.6 ]\n",
      " ...\n",
      " [12.94  5.47 16.19  5.51  6.92 ...  6.87 13.23  5.47 14.54 13.38]\n",
      " [15.27 11.39 16.39  5.37  7.41 ...  0.    0.    0.    0.    0.  ]\n",
      " [16.58 16.63 15.85  7.89 14.4  ...  0.    0.    0.    0.    0.  ]\n",
      " [ 3.67  4.45  3.67  3.67  9.4  ...  3.77  3.77  3.77  3.77  3.28]\n",
      " [ 9.88 11.73  9.16  9.5  13.52 ...  0.    0.    0.    0.    0.  ]]\n"
     ]
    }
   ],
   "source": [
    "data = loadData()\n",
    "print(data)\n"
   ]
  },
  {
   "cell_type": "markdown",
   "id": "d98d70e6",
   "metadata": {},
   "source": [
    "### 2a, "
   ]
  },
  {
   "cell_type": "code",
   "execution_count": 52,
   "id": "a2342bae",
   "metadata": {},
   "outputs": [],
   "source": [
    "user = 4\n",
    "recommendations = recommend(data, user, 5, simMeas=cosineSim, estMethod=standEst)"
   ]
  },
  {
   "cell_type": "code",
   "execution_count": 53,
   "id": "f0d711a9",
   "metadata": {
    "scrolled": true
   },
   "outputs": [
    {
     "name": "stdout",
     "output_type": "stream",
     "text": [
      "Recommended Items for User 4 with COSINE sim :\n",
      "\n",
      "['On the first day of college the Dean addressed the students pointing out some of the rules:\"The female dormitory will be out-of-bounds for all male students and the male dormitory to the female students. Anybody caught breaking this rule will be fined $20 the first time.\" He continued \"Anybody caught breaking this rule the second time will be fined $60. Being caught a third time will cost you a fine of $180. Are there any questions ?\"At this point a male student in the crowd inquired:\"How much for a season pass ?\"'] \n",
      "\n",
      "Item  71 with predicted rating:  14.293754381681563 \n",
      "\n",
      "[\"There once was a man and a woman that both  got in  a terrible car wreck. Both of their vehicles  were completely destroyed buy fortunately no one  was   hurt.  In thankfulness the woman said to the man 'We are both okay so we should celebrate. I have   a  bottle of wine in my car let's open it.' So the woman got the bottle out of the car and  handed it to the man. The man took a really big drink and handed the woman the bottle. The  woman  closed the bottle and put it down. The man  asked  'Aren't you going to take a drink?' The woman cleverly replied 'No I think I'll  just  wait for the cops to get here.'\"] \n",
      "\n",
      "Item  75 with predicted rating:  14.293605672411005 \n",
      "\n",
      "['Hillary Bill Clinton and the Pope are sitting together on an airplane. Bill says \"I could throw one thousand dollar bill out of this plane and make one person very happy.\"Hillary says \"I could throw 10 hundred dollar bills out of the plane and make 10 people very happy.\"The Pope chips in and says \"I could throw Bill out of the airplane and make the whole country happy.\"'] \n",
      "\n",
      "Item  79 with predicted rating:  14.293063319114747 \n",
      "\n",
      "['Q: Ever wonder why the IRS calls it Form 1040?A: Because for every $50 that you earn you get 10 and they get 40.'] \n",
      "\n",
      "Item  78 with predicted rating:  14.2908339103558 \n",
      "\n",
      "['At a recent Sacramento PC Users Group meeting a company was demonstrating its latest speech-recognition software.   A representative from the company was just about ready to start the demonstration and asked everyone in the room to quiet down.Just then someone in the back of the room yelled\"Format C: Return.\"Someone else chimed in:\"Yes Return\"Unfortunately the software worked.'] \n",
      "\n",
      "Item  70 with predicted rating:  14.287092374768891 \n",
      "\n"
     ]
    }
   ],
   "source": [
    "print(\"Recommended Items for User\", user,\"with COSINE sim\", \":\\n\")\n",
    "for i, p in recommendations:\n",
    "    print(get_joke_text(jokes, i), \"\\n\")\n",
    "    print(\"Item \", i, \"with predicted rating: \", p, \"\\n\")"
   ]
  },
  {
   "cell_type": "code",
   "execution_count": 54,
   "id": "efa0f91e",
   "metadata": {},
   "outputs": [],
   "source": [
    "recommendations_person= recommend(data, user, 5, pearsonSim, standEst)"
   ]
  },
  {
   "cell_type": "code",
   "execution_count": 55,
   "id": "c8b3657f",
   "metadata": {
    "scrolled": true
   },
   "outputs": [
    {
     "name": "stdout",
     "output_type": "stream",
     "text": [
      "Recommended Items for User 4 with COSINE sim :\n",
      "\n",
      "['On the first day of college the Dean addressed the students pointing out some of the rules:\"The female dormitory will be out-of-bounds for all male students and the male dormitory to the female students. Anybody caught breaking this rule will be fined $20 the first time.\" He continued \"Anybody caught breaking this rule the second time will be fined $60. Being caught a third time will cost you a fine of $180. Are there any questions ?\"At this point a male student in the crowd inquired:\"How much for a season pass ?\"'] \n",
      "\n",
      "Item  71 with predicted rating:  14.413443009309447 \n",
      "\n",
      "[\"There once was a man and a woman that both  got in  a terrible car wreck. Both of their vehicles  were completely destroyed buy fortunately no one  was   hurt.  In thankfulness the woman said to the man 'We are both okay so we should celebrate. I have   a  bottle of wine in my car let's open it.' So the woman got the bottle out of the car and  handed it to the man. The man took a really big drink and handed the woman the bottle. The  woman  closed the bottle and put it down. The man  asked  'Aren't you going to take a drink?' The woman cleverly replied 'No I think I'll  just  wait for the cops to get here.'\"] \n",
      "\n",
      "Item  75 with predicted rating:  14.397311198445264 \n",
      "\n",
      "['Hillary Bill Clinton and the Pope are sitting together on an airplane. Bill says \"I could throw one thousand dollar bill out of this plane and make one person very happy.\"Hillary says \"I could throw 10 hundred dollar bills out of the plane and make 10 people very happy.\"The Pope chips in and says \"I could throw Bill out of the airplane and make the whole country happy.\"'] \n",
      "\n",
      "Item  79 with predicted rating:  14.382511887413443 \n",
      "\n",
      "['Q: Ever wonder why the IRS calls it Form 1040?A: Because for every $50 that you earn you get 10 and they get 40.'] \n",
      "\n",
      "Item  78 with predicted rating:  14.356160763938075 \n",
      "\n",
      "[\"Q: What is the difference between George  Washington Richard Nixon and Bill Clinton? A: Washington couldn't tell a lie Nixon couldn't   tell the truth andClinton doesn't know the difference.\"] \n",
      "\n",
      "Item  72 with predicted rating:  14.334361485417928 \n",
      "\n"
     ]
    }
   ],
   "source": [
    "print(\"Recommended Items for User\", user,\"with COSINE sim\", \":\\n\")\n",
    "for i, p in recommendations_person:\n",
    "    print(get_joke_text(jokes, i), \"\\n\")\n",
    "    print(\"Item \", i, \"with predicted rating: \", p, \"\\n\")"
   ]
  },
  {
   "cell_type": "code",
   "execution_count": 56,
   "id": "a4ee7cc8",
   "metadata": {},
   "outputs": [],
   "source": [
    "user = 25\n",
    "recommendations = recommend(data, user, 5, simMeas=pearsonSim, estMethod=standEst)"
   ]
  },
  {
   "cell_type": "code",
   "execution_count": 57,
   "id": "dd2ac822",
   "metadata": {
    "scrolled": true
   },
   "outputs": [
    {
     "name": "stdout",
     "output_type": "stream",
     "text": [
      "Recommended Items for User 25 with standEst :\n",
      "\n",
      "Item  99 with predicted rating:  15.324673571007686 \n",
      "\n",
      "[\"Q: What's the difference between greeting a Queen and greeting thePresident of the United  States?A: You only have to get on one knee to greet the queen.\"] \n",
      "\n",
      "Item  71 with predicted rating:  15.324296950553675 \n",
      "\n",
      "['On the first day of college the Dean addressed the students pointing out some of the rules:\"The female dormitory will be out-of-bounds for all male students and the male dormitory to the female students. Anybody caught breaking this rule will be fined $20 the first time.\" He continued \"Anybody caught breaking this rule the second time will be fined $60. Being caught a third time will cost you a fine of $180. Are there any questions ?\"At this point a male student in the crowd inquired:\"How much for a season pass ?\"'] \n",
      "\n",
      "Item  97 with predicted rating:  15.322105340570541 \n",
      "\n",
      "[\"Age and Womanhood1. Between the ages of 13 and 18 ... She is like Africa virgin and unexplored. 2. Between the ages of 19 and 35 ... She is like Asia hot and exotic. 3. Between the ages of 36 and 45 ... She is like America fully explored breathtakingly beautiful and free with her resources.4. Between the ages of 46 and 56 ...She is like Europe exhausted but still has points of interest. 5. After 56 she is like Australia ...Everybody knows it's down there but who gives a damn?\"] \n",
      "\n",
      "Item  82 with predicted rating:  15.301730225022272 \n",
      "\n",
      "['What a woman says:\"This place is a mess!  C\\'monYou and I need to clean upYour stuff is lying on the floor and you\\'ll have no clothes to wear if we don\\'t do laundry right now!\"What a man hears:blah blah blah blah C\\'mon blah blah blah blah you and I blah blah blah blah on the floor blah blah blah blah no clothes blah blah blah blah RIGHT NOW!'] \n",
      "\n",
      "Item  91 with predicted rating:  15.294030630051065 \n",
      "\n",
      "['Early one morning a mother went to her sleeping son and woke him up.\"Wake up son.  It\\'s time to go to school.\" \"But why Mama?  I don\\'t want to go to school.\" \"Give me two reasons why you don\\'t want to go to school.\" \"One all the children hate me. Two all the teachers hate me\" \"Oh! that\\'s no reason. Come on you have to go to school\" \"Give me two good reasons WHY I should go to school?\"  \"One you are fifty-two years old. Two you are the principal of the school.\" '] \n",
      "\n"
     ]
    }
   ],
   "source": [
    "print(\"Recommended Items for User\", user,\"with standEst\", \":\\n\")\n",
    "for i, p in recommendations:\n",
    "    print(\"Item \", i, \"with predicted rating: \", p, \"\\n\")\n",
    "    print(get_joke_text(jokes, i), \"\\n\")"
   ]
  },
  {
   "cell_type": "code",
   "execution_count": 58,
   "id": "d41204ed",
   "metadata": {},
   "outputs": [],
   "source": [
    "user = 25\n",
    "recommendations = recommend(data, user, 5, simMeas=pearsonSim, estMethod=svdEst)"
   ]
  },
  {
   "cell_type": "code",
   "execution_count": 59,
   "id": "8a93737a",
   "metadata": {
    "scrolled": true
   },
   "outputs": [
    {
     "name": "stdout",
     "output_type": "stream",
     "text": [
      "Recommended Items for User 25 with svdEst :\n",
      "\n",
      "[\"Q. What's the difference between a man and a toilet? A. A toilet doesn't follow you around after you use it.\"] \n",
      "\n",
      "Item  3 with predicted rating:  15.277088154749473 \n",
      "\n",
      "['Hillary Bill Clinton and the Pope are sitting together on an airplane. Bill says \"I could throw one thousand dollar bill out of this plane and make one person very happy.\"Hillary says \"I could throw 10 hundred dollar bills out of the plane and make 10 people very happy.\"The Pope chips in and says \"I could throw Bill out of the airplane and make the whole country happy.\"'] \n",
      "\n",
      "Item  79 with predicted rating:  15.238062599769169 \n",
      "\n",
      "[\"Q: What is the difference between George  Washington Richard Nixon and Bill Clinton? A: Washington couldn't tell a lie Nixon couldn't   tell the truth andClinton doesn't know the difference.\"] \n",
      "\n",
      "Item  72 with predicted rating:  15.209188661833458 \n",
      "\n",
      "['On the first day of college the Dean addressed the students pointing out some of the rules:\"The female dormitory will be out-of-bounds for all male students and the male dormitory to the female students. Anybody caught breaking this rule will be fined $20 the first time.\" He continued \"Anybody caught breaking this rule the second time will be fined $60. Being caught a third time will cost you a fine of $180. Are there any questions ?\"At this point a male student in the crowd inquired:\"How much for a season pass ?\"'] \n",
      "\n",
      "Item  71 with predicted rating:  15.18502140590189 \n",
      "\n",
      "[\"Q: What's the difference between greeting a Queen and greeting thePresident of the United  States?A: You only have to get on one knee to greet the queen.\"] \n",
      "\n",
      "Item  99 with predicted rating:  15.180560799732316 \n",
      "\n"
     ]
    }
   ],
   "source": [
    "print(\"Recommended Items for User\", user,\"with svdEst\", \":\\n\")\n",
    "for i, p in recommendations:\n",
    "    print(get_joke_text(jokes, i), \"\\n\")\n",
    "    print(\"Item \", i, \"with predicted rating: \", p, \"\\n\")"
   ]
  },
  {
   "cell_type": "code",
   "execution_count": null,
   "id": "60708142",
   "metadata": {},
   "outputs": [],
   "source": []
  },
  {
   "cell_type": "markdown",
   "id": "29744f04",
   "metadata": {},
   "source": [
    "### 2b,"
   ]
  },
  {
   "cell_type": "code",
   "execution_count": 60,
   "id": "267e6abf",
   "metadata": {},
   "outputs": [],
   "source": [
    "def cross_validate_user(dataMat, user, test_ratio, estMethod, simMeas):\n",
    "    dataMat = np.array(dataMat)\n",
    "    number_of_items = np.shape(dataMat)[1]\n",
    "    rated_items_by_user = np.array([i for i in range(number_of_items) if dataMat[user,i]>0])\n",
    "    test_size = int(test_ratio * len(rated_items_by_user))\n",
    "    test_indices = np.random.randint(0, len(rated_items_by_user), test_size)\n",
    "    withheld_items = rated_items_by_user[test_indices]\n",
    "    original_user_profile = np.copy(dataMat[user])\n",
    "    dataMat[user, withheld_items] = 0 # So that the withheld test items is not used in the rating estimation below\n",
    "    error_u = 0.0\n",
    "    count_u = len(withheld_items)\n",
    "\n",
    "    # Compute absolute error for user u over all test items\n",
    "    for item in withheld_items:\n",
    "        # Estimate rating on the withheld item\n",
    "        estimatedScore = estMethod(dataMat, user, simMeas, item)\n",
    "        error_u = error_u + abs(estimatedScore - original_user_profile[item])\n",
    "    \n",
    "    # Now restore ratings of the withheld items to the user profile\n",
    "    for item in withheld_items:\n",
    "        dataMat[user, item] = original_user_profile[item]\n",
    "\n",
    "    # Return sum of absolute errors and the count of test cases for this user\n",
    "    # Note that these will have to be accumulated for each user to compute MAE\n",
    "    return error_u, count_u"
   ]
  },
  {
   "cell_type": "code",
   "execution_count": 61,
   "id": "3ec8ef1f",
   "metadata": {},
   "outputs": [],
   "source": [
    "def test(dataMat, test_ratio, estMethod, simMeas):\n",
    "    MAE=0\n",
    "    error_= []\n",
    "    cou_nt_= 0\n",
    "    for i in range(len(dataMat)):\n",
    "        error__, cou_nt =cross_validate_user(dataMat, i,test_ratio , estMethod, simMeas)\n",
    "        error_.append(error__)\n",
    "        MAE= sum(error_)/len(dataMat)\n",
    "       \n",
    "        #print(MAE)\n",
    "        #MAE += (error/cou_nt)  \n",
    "        \n",
    "        \n",
    "    # Write this function to iterate over all users and for each perform evaluation by calling\n",
    "    # the above cross_validate_user function on each user. MAE will be the ratio of total error \n",
    "    # across all test cases to the total number of test cases, across all users\n",
    "    return MAE"
   ]
  },
  {
   "cell_type": "code",
   "execution_count": 62,
   "id": "af501bff",
   "metadata": {},
   "outputs": [],
   "source": [
    "user=78\n",
    "test_ratio =0.2"
   ]
  },
  {
   "cell_type": "code",
   "execution_count": 63,
   "id": "72da97a9",
   "metadata": {},
   "outputs": [
    {
     "name": "stdout",
     "output_type": "stream",
     "text": [
      "MEA : 51.58767747300187\n",
      "Wall time: 2min 20s\n"
     ]
    }
   ],
   "source": [
    "%%time \n",
    "MEA= test(data, test_ratio , standEst, pearsonSim )\n",
    "print (\"MEA :\", MEA )"
   ]
  },
  {
   "cell_type": "code",
   "execution_count": 64,
   "id": "b5c31d27",
   "metadata": {},
   "outputs": [
    {
     "name": "stdout",
     "output_type": "stream",
     "text": [
      "MEA : 50.537232189315006\n",
      "Wall time: 6min 55s\n"
     ]
    }
   ],
   "source": [
    "%%time \n",
    "MEA= test(data, test_ratio , svdEst, pearsonSim )\n",
    "print (\"MEA :\", MEA )"
   ]
  },
  {
   "cell_type": "code",
   "execution_count": 95,
   "id": "4be03112",
   "metadata": {},
   "outputs": [
    {
     "name": "stdout",
     "output_type": "stream",
     "text": [
      "MEA : 50.111475167799746\n",
      "Wall time: 6min 38s\n"
     ]
    }
   ],
   "source": [
    "%%time \n",
    "MEA= test(data, test_ratio , svdEst, pearsonSim )\n",
    "print (\"MEA :\", MEA )"
   ]
  },
  {
   "cell_type": "code",
   "execution_count": 66,
   "id": "0ce7dadf",
   "metadata": {},
   "outputs": [
    {
     "name": "stdout",
     "output_type": "stream",
     "text": [
      "MEA : 50.63449781192925\n",
      "Wall time: 5min 7s\n"
     ]
    }
   ],
   "source": [
    "%%time \n",
    "MEA= test(data, test_ratio , svdEst, cosineSim )\n",
    "print (\"MEA :\", MEA )"
   ]
  },
  {
   "cell_type": "code",
   "execution_count": null,
   "id": "ce74ebba",
   "metadata": {},
   "outputs": [],
   "source": [
    "\n"
   ]
  },
  {
   "cell_type": "markdown",
   "id": "58468f96",
   "metadata": {},
   "source": [
    "### 2c, "
   ]
  },
  {
   "cell_type": "code",
   "execution_count": 81,
   "id": "cc82d556",
   "metadata": {},
   "outputs": [],
   "source": [
    "def print_most_similar_jokes(dataMat, jokes, queryJoke, k, metric=pearsonSim):\n",
    "    # Write this function to find the k most similar jokes (based on user ratings) to a queryJoke\n",
    "    print(\"Joke\",queryJoke, \"is similar to\", \":\\n\")\n",
    "    d=[]\n",
    "    \n",
    "    # The queryJoke is a joke id as given in the 'jokes.csv' file (an corresponding to the a column in dataMat)\n",
    "    # You must compare ratings for the queryJoke (the column in dataMat corresponding to the joke), to all\n",
    "    for rated_joke in range((dataMat.shape[1])):\n",
    "            sim = np.array((metric(dataMat[:,queryJoke],dataMat[:,rated_joke])))\n",
    "            #print(sim)\n",
    "            d.append(sim)\n",
    "            d_arr= np.array(d)\n",
    "            idx= np.argsort(d_arr)\n",
    "            reverse_array = idx[::-1]\n",
    "            knn_jokes= np.delete(reverse_array[:k+1],0)\n",
    "            knn_sim = d_arr[knn_jokes[:k+1]]\n",
    "            \n",
    "    print(get_joke_text(jokes, knn_jokes),\":\\n\")\n",
    "    return knn_jokes ,knn_sim\n",
    "        \n",
    "    #idx= np.argsort(sim)\n",
    "    # other joke rating vectors and return the top k. Note that this is the same as performing KNN on the \n",
    "    # columns of dataMat. The function must retrieve the text of the joke from 'jokes.csv' file and print both\n",
    "    # the queryJoke text as well as the text of the returned top-k jokes."
   ]
  },
  {
   "cell_type": "code",
   "execution_count": 82,
   "id": "63d971a0",
   "metadata": {},
   "outputs": [
    {
     "name": "stdout",
     "output_type": "stream",
     "text": [
      "Joke 9 is similar to :\n",
      "\n",
      "[['A duck walks into a pharmacy and asks for a condom. The pharmacist says\"Would you like me to stick that on your bill?\"The duck says: \"What kind of duck do you think I am!\"']\n",
      " [\"Q. What do a hurricane a tornado and a redneck divorce all have in common? A. Someone's going to lose their trailer...\"]\n",
      " ['A woman has twins and gives them up for adoption.  One of them goes to a family in Egypt and is named \"Amal.\"  The other goes to a  family in Spain; they name him \"Juan.\"  Years later Juan sends a picture of himself to his mom.  Upon receiving the picture she tells her husband that she wishes she also had a picture of Amal.  Her husband responds \"But they are twins-if you\\'ve seen Juan you\\'ve seen   Amal.']] :\n",
      "\n"
     ]
    },
    {
     "data": {
      "text/plain": [
       "(array([21, 10, 54], dtype=int64), array([0.76, 0.76, 0.75]))"
      ]
     },
     "execution_count": 82,
     "metadata": {},
     "output_type": "execute_result"
    }
   ],
   "source": [
    "queryJoke=9\n",
    "print_most_similar_jokes(data,jokes, queryJoke, 3, metric=pearsonSim)"
   ]
  },
  {
   "cell_type": "code",
   "execution_count": 83,
   "id": "737e69f3",
   "metadata": {},
   "outputs": [
    {
     "name": "stdout",
     "output_type": "stream",
     "text": [
      "Joke 9 is similar to :\n",
      "\n",
      "[[\"Q. What do a hurricane a tornado and a redneck divorce all have in common? A. Someone's going to lose their trailer...\"]\n",
      " ['May I take your order? the waiter asked. \"Yes how do you prepare your chickens?\" \"Nothing special sir\" he replied. \"We just tell them straight out that they\\'re going to die.\"']\n",
      " ['A duck walks into a pharmacy and asks for a condom. The pharmacist says\"Would you like me to stick that on your bill?\"The duck says: \"What kind of duck do you think I am!\"']] :\n",
      "\n"
     ]
    },
    {
     "data": {
      "text/plain": [
       "(array([10, 37, 21], dtype=int64), array([0.93, 0.93, 0.93]))"
      ]
     },
     "execution_count": 83,
     "metadata": {},
     "output_type": "execute_result"
    }
   ],
   "source": [
    "print_most_similar_jokes(data,jokes,9, 3, metric=cosineSim)"
   ]
  },
  {
   "cell_type": "code",
   "execution_count": null,
   "id": "8f4a38af",
   "metadata": {},
   "outputs": [],
   "source": []
  },
  {
   "cell_type": "markdown",
   "id": "d337e0ad",
   "metadata": {},
   "source": [
    "### 2d, "
   ]
  },
  {
   "cell_type": "markdown",
   "id": "81e3261f",
   "metadata": {},
   "source": [
    "### This is a model baased approach where the first function calculate the similarity matix and the second function performs the evaluation."
   ]
  },
  {
   "cell_type": "code",
   "execution_count": 84,
   "id": "7bcae34e",
   "metadata": {},
   "outputs": [],
   "source": [
    "def train_item_item(dataMat,metric ):\n",
    "    number_of_feature= dataMat.shape[1]\n",
    "    # Create a matrix with all entries = NDocs\n",
    "    sim_matrix= []\n",
    "\n",
    "    for features_ in range((dataMat.shape[1])):\n",
    "        for rated_joke in range((dataMat.shape[1])):\n",
    "            sim = (metric(dataMat[:,features_],dataMat[:,rated_joke]))\n",
    "            sim_matrix.append(sim)\n",
    "            #newarr = sim_matrix.reshape(100, 100)\n",
    "    \n",
    "    return np.array(sim_matrix).reshape(number_of_feature, number_of_feature)\n",
    "    "
   ]
  },
  {
   "cell_type": "code",
   "execution_count": 85,
   "id": "fe9ccfa7",
   "metadata": {},
   "outputs": [],
   "source": [
    "def item_base_evaluation(data, item , user,k, metric ):\n",
    "    \n",
    "    similarity_matrix =train_item_item(data,metric)\n",
    "    \n",
    "    item_score=[]\n",
    "    \n",
    "    k_similarity = np.array(similarity_matrix[item])\n",
    "    knn_neig_id= np.argsort(k_similarity)\n",
    "    reverse_array = knn_neig_id[::-1]\n",
    "    knn_items= np.delete(reverse_array[:k+1],0)\n",
    "    knn_sim = k_similarity[knn_items[:k+1]]\n",
    "    for i in range(len(knn_items)):\n",
    "        for similar_items in knn_items:\n",
    "        #for i in range(len(knn_items)):\n",
    "            user_rating = data[user,similar_items]\n",
    "            w_avg= user_rating*knn_sim[i]\n",
    "            item_score.append((similar_items, w_avg))\n",
    "        #print(similar_items,user_rating*knn_sim[i]/k)\n",
    "        return sorted(item_score, key=lambda jj: jj[1], reverse=True)[:k]\n",
    "             "
   ]
  },
  {
   "cell_type": "code",
   "execution_count": 86,
   "id": "a2fdb385",
   "metadata": {},
   "outputs": [
    {
     "name": "stdout",
     "output_type": "stream",
     "text": [
      "USING  Pearson  SIM \n",
      "\n",
      "Recommended Items for User 25 based on  item  20 :\n",
      "\n",
      "Item  11 with predicted rating:  13.705746694011756 \n",
      "\n",
      "Item  41 with predicted rating:  13.597884049515336 \n",
      "\n",
      "Item  38 with predicted rating:  13.353395388656784 \n",
      "\n",
      "Item  55 with predicted rating:  13.144860942630373 \n",
      "\n",
      "Item  24 with predicted rating:  12.828463852107541 \n",
      "\n",
      "Item  52 with predicted rating:  12.583975191248989 \n",
      "\n",
      "Item  51 with predicted rating:  12.102188712498313 \n",
      "\n",
      "Item  25 with predicted rating:  10.00246256630134 \n",
      "\n",
      "Item  64 with predicted rating:  9.793928120274927 \n",
      "\n",
      "Item  68 with predicted rating:  9.096416352531412 \n",
      "\n"
     ]
    }
   ],
   "source": [
    "print (\"USING  Pearson  SIM\" , \"\\n\")\n",
    "user = 25\n",
    "k=10\n",
    "item= 20\n",
    "model_based_w_person=item_base_evaluation(data, item , user, k, metric=pearsonSim )\n",
    "\n",
    "print(\"Recommended Items for User\", user, \"based on  item \", item,\":\\n\")\n",
    "for items_, p_r in model_based_w_person:\n",
    "    print(\"Item \", items_, \"with predicted rating: \", p_r, \"\\n\")"
   ]
  },
  {
   "cell_type": "code",
   "execution_count": 87,
   "id": "9e59a85a",
   "metadata": {},
   "outputs": [
    {
     "name": "stdout",
     "output_type": "stream",
     "text": [
      "USING Cosine SIM \n",
      "\n",
      "Recommended Items for User 25 based on  item  20 :\n",
      "\n",
      "Item  41 with predicted rating:  18.22548022660962 \n",
      "\n",
      "Item  26 with predicted rating:  18.22548022660962 \n",
      "\n",
      "Item  67 with predicted rating:  17.57009542734497 \n",
      "\n",
      "Item  48 with predicted rating:  16.91471062808032 \n",
      "\n",
      "Item  52 with predicted rating:  16.86652056931086 \n",
      "\n",
      "Item  34 with predicted rating:  16.779778463525833 \n",
      "\n",
      "Item  28 with predicted rating:  15.893081382167773 \n",
      "\n",
      "Item  35 with predicted rating:  15.700321147089936 \n",
      "\n",
      "Item  49 with predicted rating:  14.948556230286368 \n",
      "\n",
      "Item  68 with predicted rating:  12.192084868673279 \n",
      "\n"
     ]
    }
   ],
   "source": [
    "print (\"USING Cosine SIM\" , \"\\n\")\n",
    "user = 25\n",
    "k=10\n",
    "item= 20\n",
    "model_based_w_person=item_base_evaluation(data, item , user, k, metric=cosineSim )\n",
    "\n",
    "print(\"Recommended Items for User\", user, \"based on  item \", item,\":\\n\")\n",
    "for items_, p_r in model_based_w_person:\n",
    "    print(\"Item \", items_, \"with predicted rating: \", p_r, \"\\n\")"
   ]
  },
  {
   "cell_type": "code",
   "execution_count": 88,
   "id": "9d566030",
   "metadata": {},
   "outputs": [
    {
     "name": "stdout",
     "output_type": "stream",
     "text": [
      "USING Pearson  SIM \n",
      "\n",
      "Recommended Items for User 4 based on  item  8 :\n",
      "\n",
      "Item  32 with predicted rating:  15.139374398982055 \n",
      "\n",
      "Item  66 with predicted rating:  15.023427330280878 \n",
      "\n",
      "Item  29 with predicted rating:  12.928098160181063 \n",
      "\n",
      "Item  42 with predicted rating:  9.26748356261538 \n",
      "\n",
      "Item  23 with predicted rating:  8.06660320821035 \n",
      "\n",
      "Item  36 with predicted rating:  8.06660320821035 \n",
      "\n",
      "Item  2 with predicted rating:  5.656560565921631 \n",
      "\n",
      "Item  3 with predicted rating:  4.646164681525674 \n",
      "\n",
      "Item  56 with predicted rating:  2.4348884427246844 \n",
      "\n",
      "Item  57 with predicted rating:  1.5155938265939364 \n",
      "\n"
     ]
    }
   ],
   "source": [
    "print (\"USING Pearson  SIM\" , \"\\n\")\n",
    "user = 4\n",
    "k=10\n",
    "item= 8\n",
    "model_based_w_person=item_base_evaluation(data, item , user, k, metric=pearsonSim )\n",
    "\n",
    "print(\"Recommended Items for User\", user, \"based on  item \", item,\":\\n\")\n",
    "for items_, p_r in model_based_w_person:\n",
    "    print(\"Item \", items_, \"with predicted rating: \", p_r, \"\\n\")"
   ]
  },
  {
   "cell_type": "code",
   "execution_count": 89,
   "id": "b958fd0d",
   "metadata": {},
   "outputs": [
    {
     "name": "stdout",
     "output_type": "stream",
     "text": [
      "USING COSINE SIM \n",
      "\n",
      "Recommended Items for User 4 based on  item  8 :\n",
      "\n",
      "Item  32 with predicted rating:  16.740575134856407 \n",
      "\n",
      "Item  66 with predicted rating:  16.612365040825775 \n",
      "\n",
      "Item  58 with predicted rating:  14.606792855632365 \n",
      "\n",
      "Item  29 with predicted rating:  14.295425484415125 \n",
      "\n",
      "Item  42 with predicted rating:  10.247649658590982 \n",
      "\n",
      "Item  36 with predicted rating:  8.91975939898804 \n",
      "\n",
      "Item  23 with predicted rating:  8.91975939898804 \n",
      "\n",
      "Item  63 with predicted rating:  7.985657285336316 \n",
      "\n",
      "Item  2 with predicted rating:  6.2548210159228255 \n",
      "\n",
      "Item  3 with predicted rating:  5.137561625084488 \n",
      "\n"
     ]
    }
   ],
   "source": [
    "print (\"USING COSINE SIM\" , \"\\n\")\n",
    "user = 4\n",
    "k=10\n",
    "item= 8\n",
    "model_based_w_person=item_base_evaluation(data, item , user, k, metric=cosineSim )\n",
    "\n",
    "print(\"Recommended Items for User\", user, \"based on  item \", item,\":\\n\")\n",
    "for items_, p_r in model_based_w_person:\n",
    "    print(\"Item \", items_, \"with predicted rating: \", p_r, \"\\n\")"
   ]
  },
  {
   "cell_type": "code",
   "execution_count": null,
   "id": "44a1027c",
   "metadata": {},
   "outputs": [],
   "source": []
  },
  {
   "cell_type": "markdown",
   "id": "0e9d4d1a",
   "metadata": {},
   "source": [
    "### Extra Credit"
   ]
  },
  {
   "cell_type": "code",
   "execution_count": 90,
   "id": "6ba57593",
   "metadata": {},
   "outputs": [],
   "source": [
    "def item_base_evaluation__(data, item , user,k, metric ):\n",
    "    \n",
    "    similarity_matrix =train_item_item(data,metric)\n",
    "    \n",
    "    item_score=[]\n",
    "    \n",
    "    k_similarity = np.array(similarity_matrix[item])\n",
    "    knn_neig_id= np.argsort(k_similarity)\n",
    "    reverse_array = knn_neig_id[::-1]\n",
    "    knn_items= np.delete(reverse_array[:k+1],0)\n",
    "    knn_sim = k_similarity[knn_items[:k+1]]\n",
    "    for i in range(len(knn_items)):\n",
    "        for similar_items in knn_items:\n",
    "        #for i in range(len(knn_items)):\n",
    "            user_rating = data[user,similar_items]\n",
    "            w_avg= user_rating*knn_sim[i]/k\n",
    "            item_score.append((similar_items, w_avg))\n",
    "        #print(similar_items,user_rating*knn_sim[i]/k)\n",
    "        return sorted(item_score, key=lambda jj: jj[1], reverse=True)[:k]\n",
    "             "
   ]
  },
  {
   "cell_type": "code",
   "execution_count": 91,
   "id": "d5ce7020",
   "metadata": {},
   "outputs": [],
   "source": [
    "def cross_validate_user_(dataMat, user, test_ratio, estMethod=standEst, simMeas=pearsonSim):\n",
    "    dataMat = np.array(dataMat)\n",
    "    number_of_items = np.shape(dataMat)[1]\n",
    "    rated_items_by_user = np.array([i for i in range(number_of_items) if dataMat[user,i]>0])\n",
    "    test_size = int(test_ratio * len(rated_items_by_user))\n",
    "    test_indices = np.random.randint(0, len(rated_items_by_user), test_size)\n",
    "    withheld_items = rated_items_by_user[test_indices]\n",
    "    original_user_profile = np.copy(dataMat[user])\n",
    "    dataMat[user, withheld_items] = 0 # So that the withheld test items is not used in the rating estimation below\n",
    "    error_u = 0.0\n",
    "    count_u = len(withheld_items)\n",
    "\n",
    "    # Compute absolute error for user u over all test items\n",
    "    for item in withheld_items:\n",
    "        # Estimate rating on the withheld item\n",
    "        estimatedScore = item_base_evaluation__(dataMat,item, user,k, simMeas)\n",
    "        print(estimatedScore)\n",
    "        error_u = error_u + abs(estimatedScore - original_user_profile[item])\n",
    "    \n",
    "    # Now restore ratings of the withheld items to the user profile\n",
    "    for item in withheld_items:\n",
    "        dataMat[user, item] = original_user_profile[item]\n",
    "\n",
    "    # Return sum of absolute errors and the count of test cases for this user\n",
    "    # Note that these will have to be accumulated for each user to compute MAE\n",
    "    return error_u, count_u"
   ]
  },
  {
   "cell_type": "code",
   "execution_count": 92,
   "id": "241c7495",
   "metadata": {},
   "outputs": [
    {
     "name": "stdout",
     "output_type": "stream",
     "text": [
      "[(49, 1.2145684226037803), (28, 1.208307760631596), (35, 1.1995428338705376), (55, 1.1475793395014067), (12, 0.8652234845558888), (18, 0.7218543253928653), (20, 0.0), (25, 0.0), (4, 0.0), (41, 0.0)]\n",
      "[(65, 1.160719682939391), (18, 0.7459920816215817), (20, 0.0), (38, 0.0), (30, 0.0), (60, 0.0), (11, 0.0), (16, 0.0), (13, 0.0), (51, 0.0)]\n",
      "[(17, 1.0658446932096062), (37, 1.0189166699259504), (12, 0.8884181942193461), (6, 0.8665613066625749), (19, 0.797776395822148), (7, 0.36706714102695126), (15, 0.33878175712995323), (44, 0.0), (11, 0.0), (32, 0.0)]\n",
      "[(31, 1.3773940765546713), (55, 1.285521050063499), (68, 1.2651827464891174), (65, 1.2581695383600207), (61, 1.1529714164235638), (67, 1.0232270660352674), (48, 0.9993821583963373), (27, 0.0), (60, 0.0), (53, 0.0)]\n",
      "[(21, 1.208006319004268), (9, 0.8670367934788699), (10, 0.0), (24, 0.0), (11, 0.0), (5, 0.0), (51, 0.0), (0, 0.0), (32, 0.0), (29, 0.0)]\n",
      "[(1, 1.1840132756487403), (59, 1.0081386246239936), (2, 0.0), (8, 0.0), (3, 0.0), (36, 0.0), (23, 0.0), (63, 0.0), (66, 0.0), (32, 0.0)]\n",
      "[(26, 1.3222530583730039), (55, 1.262338466665477), (68, 1.2423669360963014), (52, 1.035076222257617), (25, 0.0), (60, 0.0), (51, 0.0), (20, 0.0), (47, 0.0), (64, 0.0)]\n"
     ]
    },
    {
     "data": {
      "text/plain": [
       "(array([[142.03,  73.62],\n",
       "        [190.43,  74.75],\n",
       "        [154.61,  77.55],\n",
       "        [177.87,  77.84],\n",
       "        [ 96.61,  79.33],\n",
       "        [200.27,  80.04],\n",
       "        [136.85,  80.81],\n",
       "        [142.43,  82.15],\n",
       "        [164.85,  82.15],\n",
       "        [219.85,  82.15]]),\n",
       " 7)"
      ]
     },
     "execution_count": 92,
     "metadata": {},
     "output_type": "execute_result"
    }
   ],
   "source": [
    "cross_validate_user_(data,10,0.2 , simMeas=pearsonSim, estMethod=svdEst)"
   ]
  },
  {
   "cell_type": "code",
   "execution_count": null,
   "id": "7d50772e",
   "metadata": {},
   "outputs": [],
   "source": []
  },
  {
   "cell_type": "code",
   "execution_count": 93,
   "id": "6bb8d529",
   "metadata": {},
   "outputs": [
    {
     "name": "stdout",
     "output_type": "stream",
     "text": [
      "[(9, 0.9813593742192712), (0, 0.6371747461824963), (8, 0.0), (63, 0.0), (36, 0.0), (2, 0.0), (32, 0.0), (42, 0.0), (66, 0.0), (23, 0.0)]\n",
      "[(30, 1.1982457373488027), (18, 0.7459920816215817), (16, 0.6521769455980524), (20, 0.0), (38, 0.0), (60, 0.0), (11, 0.0), (65, 0.0), (13, 0.0), (17, 0.0)]\n",
      "[(31, 1.3773940765546713), (55, 1.285521050063499), (68, 1.2651827464891174), (67, 1.0232270660352674), (48, 0.9993821583963373), (27, 0.0), (60, 0.0), (61, 0.0), (65, 0.0), (53, 0.0)]\n",
      "[(31, 1.3600787270153207), (34, 1.3600787270153207), (30, 1.2825182293443858), (55, 1.2693606449180665), (68, 1.2492780160568422), (48, 0.986818831973947), (20, 0.0), (65, 0.0), (49, 0.0), (53, 0.0)]\n",
      "[(31, 1.417293564227958), (34, 1.417293564227958), (35, 1.382655024980024), (68, 1.3018317667348451), (67, 1.052867265890321), (48, 1.0283316339230346), (65, 0.0), (60, 0.0), (27, 0.0), (47, 0.0)]\n",
      "[(34, 1.3635026510857773), (55, 1.2725561911610128), (68, 1.2524230053761416), (67, 1.0129075193147397), (48, 0.9893030946014422), (61, 0.0), (52, 0.0), (47, 0.0), (53, 0.0), (20, 0.0)]\n",
      "[(31, 1.2857599581063393), (34, 1.2857599581063393), (55, 1.1999989833039306), (6, 0.8824869773560822), (18, 0.7548275110471534), (15, 0.0), (37, 0.0), (61, 0.0), (4, 0.0), (65, 0.0)]\n",
      "[(34, 1.389191771761443), (31, 1.389191771761443), (28, 1.3651426270364486), (26, 1.358069349176156), (35, 1.355240038032039), (55, 1.2965318317916112), (68, 1.2760193259967632), (52, 0.0), (20, 0.0), (25, 0.0)]\n",
      "[(21, 1.2969472087520513), (9, 0.9308733998301013), (44, 0.0), (10, 0.0), (29, 0.0), (24, 0.0), (22, 0.0), (58, 0.0), (39, 0.0), (13, 0.0)]\n",
      "[(12, 0.8954203033009497), (6, 0.8733911496741535), (19, 0.8040641073780597), (14, 0.7723162095041476), (18, 0.7470474744616461), (7, 0.3699601976735472), (17, 0.0), (56, 0.0), (8, 0.0), (63, 0.0)]\n"
     ]
    },
    {
     "data": {
      "text/plain": [
       "(array([[133.58, 125.53],\n",
       "        [177.28, 126.9 ],\n",
       "        [242.58, 128.9 ],\n",
       "        [290.76, 130.48],\n",
       "        [266.9 , 130.95],\n",
       "        [233.74, 134.42],\n",
       "        [245.9 , 136.82],\n",
       "        [428.9 , 138.1 ],\n",
       "        [231.06, 138.1 ],\n",
       "        [246.6 , 138.1 ]]),\n",
       " 10)"
      ]
     },
     "execution_count": 93,
     "metadata": {},
     "output_type": "execute_result"
    }
   ],
   "source": [
    "cross_validate_user_(data,10,0.3 , simMeas=pearsonSim, estMethod=svdEst)"
   ]
  },
  {
   "cell_type": "code",
   "execution_count": null,
   "id": "f9d19991",
   "metadata": {},
   "outputs": [],
   "source": []
  }
 ],
 "metadata": {
  "kernelspec": {
   "display_name": "Python 3",
   "language": "python",
   "name": "python3"
  },
  "language_info": {
   "codemirror_mode": {
    "name": "ipython",
    "version": 3
   },
   "file_extension": ".py",
   "mimetype": "text/x-python",
   "name": "python",
   "nbconvert_exporter": "python",
   "pygments_lexer": "ipython3",
   "version": "3.8.8"
  }
 },
 "nbformat": 4,
 "nbformat_minor": 5
}
